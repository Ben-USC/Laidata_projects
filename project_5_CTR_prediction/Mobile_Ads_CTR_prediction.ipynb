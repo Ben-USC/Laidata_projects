{
 "cells": [
  {
   "cell_type": "markdown",
   "metadata": {},
   "source": [
    "# Click-Through Rate Prediction\n",
    "### We use data of mobile ads to predict click-through rate\n",
    "### data source: https://www.kaggle.com/c/avazu-ctr-prediction\n",
    "### Author: Beibei (Ben) Wang"
   ]
  },
  {
   "cell_type": "code",
   "execution_count": 1,
   "metadata": {},
   "outputs": [],
   "source": [
    "import pandas as pd\n",
    "pd.set_option('display.max_rows', 100)\n",
    "\n",
    "import warnings\n",
    "warnings.filterwarnings('ignore')\n",
    "\n",
    "import numpy as np\n",
    "np.random.seed(0)\n",
    "import random\n",
    "random.seed(0)\n",
    "\n",
    "import seaborn as sns\n",
    "import matplotlib.pyplot as plt\n",
    "%matplotlib inline"
   ]
  },
  {
   "cell_type": "code",
   "execution_count": 2,
   "metadata": {},
   "outputs": [],
   "source": [
    "from pyspark.sql import SparkSession\n",
    "spark = SparkSession.builder.master(\"local[*]\").getOrCreate()"
   ]
  },
  {
   "cell_type": "markdown",
   "metadata": {},
   "source": [
    "### Sample 4 million data points from the original ~6G dataset:"
   ]
  },
  {
   "cell_type": "code",
   "execution_count": 3,
   "metadata": {},
   "outputs": [],
   "source": [
    "n_train = 40428967  # total number of records in the training set\n",
    "n_sample = 4000000\n",
    "skipped_rows = sorted(random.sample(range(1, n_train), n_train - n_sample))\n",
    "\n",
    "## define data type for training and test sets:\n",
    "types_train = {\n",
    "    'id': np.dtype(int), 'click': np.dtype(int), 'hour': np.dtype(int), 'C1': np.dtype(int),\n",
    "    'banner_pos': np.dtype(int),'site_id': np.dtype(str), 'site_domain': np.dtype(str),\n",
    "    'site_category': np.dtype(str), 'app_id': np.dtype(str), 'app_domain': np.dtype(str),\n",
    "    'app_category': np.dtype(str), 'device_id': np.dtype(str), 'device_ip': np.dtype(str),\n",
    "    'device_model': np.dtype(str), 'device_type': np.dtype(int), 'device_conn_type': np.dtype(int),\n",
    "    'C14': np.dtype(int), 'C15': np.dtype(int), 'C16': np.dtype(int), 'C17': np.dtype(int), \n",
    "    'C18': np.dtype(int), 'C19': np.dtype(int), 'C20': np.dtype(int), 'C21':np.dtype(int)\n",
    "}\n",
    "\n",
    "types_test = { key:val for (key,val) in types_train.items() if key!= 'click'}"
   ]
  },
  {
   "cell_type": "markdown",
   "metadata": {},
   "source": [
    "### Load data:"
   ]
  },
  {
   "cell_type": "code",
   "execution_count": 4,
   "metadata": {},
   "outputs": [],
   "source": [
    "import gzip\n",
    "\n",
    "get_date = lambda s : pd.datetime.strptime(s, '%y%m%d%H')\n",
    "\n",
    "with gzip.open('./data/CTR_train.gz') as f:\n",
    "    train_df = pd.read_csv(f, parse_dates = ['hour'], date_parser = get_date,\n",
    "                         dtype = types_train, skiprows = skipped_rows)"
   ]
  },
  {
   "cell_type": "code",
   "execution_count": 5,
   "metadata": {},
   "outputs": [
    {
     "data": {
      "text/html": [
       "<div>\n",
       "<style scoped>\n",
       "    .dataframe tbody tr th:only-of-type {\n",
       "        vertical-align: middle;\n",
       "    }\n",
       "\n",
       "    .dataframe tbody tr th {\n",
       "        vertical-align: top;\n",
       "    }\n",
       "\n",
       "    .dataframe thead th {\n",
       "        text-align: right;\n",
       "    }\n",
       "</style>\n",
       "<table border=\"1\" class=\"dataframe\">\n",
       "  <thead>\n",
       "    <tr style=\"text-align: right;\">\n",
       "      <th></th>\n",
       "      <th>click</th>\n",
       "      <th>hour</th>\n",
       "      <th>C1</th>\n",
       "      <th>banner_pos</th>\n",
       "      <th>site_id</th>\n",
       "      <th>site_domain</th>\n",
       "      <th>site_category</th>\n",
       "      <th>app_id</th>\n",
       "      <th>app_domain</th>\n",
       "      <th>app_category</th>\n",
       "      <th>...</th>\n",
       "      <th>device_type</th>\n",
       "      <th>device_conn_type</th>\n",
       "      <th>C14</th>\n",
       "      <th>C15</th>\n",
       "      <th>C16</th>\n",
       "      <th>C17</th>\n",
       "      <th>C18</th>\n",
       "      <th>C19</th>\n",
       "      <th>C20</th>\n",
       "      <th>C21</th>\n",
       "    </tr>\n",
       "  </thead>\n",
       "  <tbody>\n",
       "    <tr>\n",
       "      <th>0</th>\n",
       "      <td>0</td>\n",
       "      <td>2014-10-21</td>\n",
       "      <td>1005</td>\n",
       "      <td>0</td>\n",
       "      <td>1fbe01fe</td>\n",
       "      <td>f3845767</td>\n",
       "      <td>28905ebd</td>\n",
       "      <td>ecad2386</td>\n",
       "      <td>7801e8d9</td>\n",
       "      <td>07d7df22</td>\n",
       "      <td>...</td>\n",
       "      <td>1</td>\n",
       "      <td>0</td>\n",
       "      <td>15706</td>\n",
       "      <td>320</td>\n",
       "      <td>50</td>\n",
       "      <td>1722</td>\n",
       "      <td>0</td>\n",
       "      <td>35</td>\n",
       "      <td>-1</td>\n",
       "      <td>79</td>\n",
       "    </tr>\n",
       "    <tr>\n",
       "      <th>1</th>\n",
       "      <td>0</td>\n",
       "      <td>2014-10-21</td>\n",
       "      <td>1005</td>\n",
       "      <td>0</td>\n",
       "      <td>543a539e</td>\n",
       "      <td>c7ca3108</td>\n",
       "      <td>3e814130</td>\n",
       "      <td>ecad2386</td>\n",
       "      <td>7801e8d9</td>\n",
       "      <td>07d7df22</td>\n",
       "      <td>...</td>\n",
       "      <td>1</td>\n",
       "      <td>0</td>\n",
       "      <td>20362</td>\n",
       "      <td>320</td>\n",
       "      <td>50</td>\n",
       "      <td>2333</td>\n",
       "      <td>0</td>\n",
       "      <td>39</td>\n",
       "      <td>-1</td>\n",
       "      <td>157</td>\n",
       "    </tr>\n",
       "  </tbody>\n",
       "</table>\n",
       "<p>2 rows × 23 columns</p>\n",
       "</div>"
      ],
      "text/plain": [
       "   click       hour    C1  banner_pos   site_id site_domain site_category  \\\n",
       "0      0 2014-10-21  1005           0  1fbe01fe    f3845767      28905ebd   \n",
       "1      0 2014-10-21  1005           0  543a539e    c7ca3108      3e814130   \n",
       "\n",
       "     app_id app_domain app_category  ... device_type device_conn_type    C14  \\\n",
       "0  ecad2386   7801e8d9     07d7df22  ...           1                0  15706   \n",
       "1  ecad2386   7801e8d9     07d7df22  ...           1                0  20362   \n",
       "\n",
       "   C15  C16   C17  C18  C19  C20  C21  \n",
       "0  320   50  1722    0   35   -1   79  \n",
       "1  320   50  2333    0   39   -1  157  \n",
       "\n",
       "[2 rows x 23 columns]"
      ]
     },
     "execution_count": 5,
     "metadata": {},
     "output_type": "execute_result"
    }
   ],
   "source": [
    "train_df.drop('id', axis=1, inplace=True)\n",
    "train_df.head(2)"
   ]
  },
  {
   "cell_type": "code",
   "execution_count": 6,
   "metadata": {},
   "outputs": [],
   "source": [
    "#train_df.dtypes"
   ]
  },
  {
   "cell_type": "code",
   "execution_count": 7,
   "metadata": {},
   "outputs": [
    {
     "data": {
      "image/png": "[encoded data removed]",
      "text/plain": [
       "<Figure size 432x288 with 1 Axes>"
      ]
     },
     "metadata": {
      "needs_background": "light"
     },
     "output_type": "display_data"
    }
   ],
   "source": [
    "sns.countplot(x='click',data=train_df)\n",
    "plt.show()"
   ]
  },
  {
   "cell_type": "code",
   "execution_count": 8,
   "metadata": {},
   "outputs": [
    {
     "name": "stdout",
     "output_type": "stream",
     "text": [
      "0    3322447\n",
      "1     677553\n",
      "Name: click, dtype: int64\n",
      "0    0.830612\n",
      "1    0.169388\n",
      "Name: click, dtype: float64\n"
     ]
    }
   ],
   "source": [
    "print(train_df['click'].value_counts())\n",
    "print(train_df['click'].value_counts()/len(train_df))"
   ]
  },
  {
   "cell_type": "code",
   "execution_count": null,
   "metadata": {},
   "outputs": [],
   "source": []
  },
  {
   "cell_type": "markdown",
   "metadata": {},
   "source": [
    "###  Balance the number of samples for click == 0 and click == 1 ??"
   ]
  },
  {
   "cell_type": "code",
   "execution_count": 9,
   "metadata": {},
   "outputs": [],
   "source": [
    "#rate = 1697981.0/8302019.0\n",
    "#print(f\"Ratio between sample counts of click = 1 and click = 0: {rate}\")\n",
    "\n",
    "#def myFilter(row, rate):\n",
    "#    if row.click == 1:\n",
    "#        return True\n",
    "#    else:\n",
    "#        trial = random.random()\n",
    "#        if trial < rate:\n",
    "#            return True\n",
    "#    return False"
   ]
  },
  {
   "cell_type": "code",
   "execution_count": 10,
   "metadata": {},
   "outputs": [],
   "source": [
    "#train_df = train_df[train_df.apply(lambda r: myFilter(r, rate), axis=1)]\n",
    "#TotalSize = len(train_df)\n",
    "#print(f\"How many samples now? {TotalSize}\")\n",
    "##train_df = train_df.sample(n = 2000000) "
   ]
  },
  {
   "cell_type": "code",
   "execution_count": 11,
   "metadata": {},
   "outputs": [
    {
     "data": {
      "image/png": "[encoded data removed]",
      "text/plain": [
       "<Figure size 432x288 with 1 Axes>"
      ]
     },
     "metadata": {
      "needs_background": "light"
     },
     "output_type": "display_data"
    }
   ],
   "source": [
    "sns.countplot(x='click',data=train_df)\n",
    "plt.show()"
   ]
  },
  {
   "cell_type": "markdown",
   "metadata": {},
   "source": [
    "### Now we can work on the new train_df, since the number of click=0 & 1 sample are the same"
   ]
  },
  {
   "cell_type": "code",
   "execution_count": 12,
   "metadata": {},
   "outputs": [
    {
     "data": {
      "text/plain": [
       "Text(0.5, 1.0, 'Number of clicks by hour')"
      ]
     },
     "execution_count": 12,
     "metadata": {},
     "output_type": "execute_result"
    },
    {
     "data": {
      "image/png": "[encoded data removed]",
      "text/plain": [
       "<Figure size 864x432 with 1 Axes>"
      ]
     },
     "metadata": {
      "needs_background": "light"
     },
     "output_type": "display_data"
    }
   ],
   "source": [
    "#sns.countplot(x='int_hour',data=train_df)\n",
    "train_df.groupby('hour').agg({'click':'sum'}).plot(figsize=(12,6))\n",
    "plt.ylabel('Number of clicks')\n",
    "plt.title('Number of clicks by hour')"
   ]
  },
  {
   "cell_type": "code",
   "execution_count": 13,
   "metadata": {},
   "outputs": [],
   "source": [
    "#train_df.dtypes"
   ]
  },
  {
   "cell_type": "code",
   "execution_count": 14,
   "metadata": {},
   "outputs": [],
   "source": [
    "## add features: 'hour_of_day' and 'day_of_week'\n",
    "train_df['hour_of_day'] = train_df['hour'].apply(lambda t: t.hour)\n",
    "train_df['day_of_week'] = train_df['hour'].apply(lambda t: t.weekday_name)"
   ]
  },
  {
   "cell_type": "code",
   "execution_count": 15,
   "metadata": {},
   "outputs": [
    {
     "data": {
      "text/plain": [
       "Text(0.5, 1.0, 'Clicks on hourly impressions vs. clicks')"
      ]
     },
     "execution_count": 15,
     "metadata": {},
     "output_type": "execute_result"
    },
    {
     "data": {
      "image/png": "[encoded data removed]",
      "text/plain": [
       "<Figure size 864x432 with 1 Axes>"
      ]
     },
     "metadata": {
      "needs_background": "light"
     },
     "output_type": "display_data"
    }
   ],
   "source": [
    "train_df.groupby(['hour_of_day', 'click']).size().unstack().plot(kind='bar',\n",
    "                                                                 stacked=True,\n",
    "                                                                 title=\"Hour of the Day\",\n",
    "                                                                 figsize=(12,6))\n",
    "\n",
    "#train_df.groupby(['hour_of_day', 'click']).size().unstack().plot(kind='bar',stacked=True, title=\"Hour of the Day\", figsize=(12,6))\n",
    "\n",
    "plt.ylabel('count')\n",
    "plt.title('Clicks on hourly impressions vs. clicks')"
   ]
  },
  {
   "cell_type": "code",
   "execution_count": 16,
   "metadata": {},
   "outputs": [
    {
     "data": {
      "image/png": "[encoded data removed]",
      "text/plain": [
       "<Figure size 864x432 with 1 Axes>"
      ]
     },
     "metadata": {
      "needs_background": "light"
     },
     "output_type": "display_data"
    }
   ],
   "source": [
    "train_df.groupby(['day_of_week', 'click']).size().unstack().plot(kind='bar',\n",
    "                                                                 stacked=True, \n",
    "                                                                 title=\"Day of the week\",\n",
    "                                                                 figsize=(12,6))\n",
    "\n",
    "#train_df.groupby(['hour_of_day', 'click']).size().unstack().plot(kind='bar',stacked=True, title=\"Hour of the Day\", figsize=(12,6))\n",
    "\n",
    "plt.ylabel('count')\n",
    "plt.title('day of week impressions vs. clicks');"
   ]
  },
  {
   "cell_type": "code",
   "execution_count": 17,
   "metadata": {},
   "outputs": [
    {
     "data": {
      "text/plain": [
       "Text(0.5, 0, 'C1 domain')"
      ]
     },
     "execution_count": 17,
     "metadata": {},
     "output_type": "execute_result"
    },
    {
     "data": {
      "image/png": "[encoded data removed]",
      "text/plain": [
       "<Figure size 864x432 with 1 Axes>"
      ]
     },
     "metadata": {
      "needs_background": "light"
     },
     "output_type": "display_data"
    }
   ],
   "source": [
    "train_df.groupby(['C1', 'click']).size().unstack().plot(kind='bar', title=\"Value counts for C1\", figsize=(12,6))\n",
    "plt.ylabel('count')\n",
    "plt.xlabel('C1 domain')"
   ]
  },
  {
   "cell_type": "code",
   "execution_count": 18,
   "metadata": {},
   "outputs": [
    {
     "data": {
      "text/plain": [
       "Text(0.5, 0, 'banner_pos')"
      ]
     },
     "execution_count": 18,
     "metadata": {},
     "output_type": "execute_result"
    },
    {
     "data": {
      "image/png": "[encoded data removed]",
      "text/plain": [
       "<Figure size 864x432 with 1 Axes>"
      ]
     },
     "metadata": {
      "needs_background": "light"
     },
     "output_type": "display_data"
    }
   ],
   "source": [
    "train_df.groupby(['banner_pos', 'click']).size().unstack().plot(kind='bar', title=\"Value counts for banner_pos\", figsize=(12,6))\n",
    "plt.ylabel('count')\n",
    "plt.xlabel('banner_pos')"
   ]
  },
  {
   "cell_type": "code",
   "execution_count": 19,
   "metadata": {},
   "outputs": [
    {
     "data": {
      "text/plain": [
       "Text(0.5, 0, 'site_category')"
      ]
     },
     "execution_count": 19,
     "metadata": {},
     "output_type": "execute_result"
    },
    {
     "data": {
      "image/png": "[encoded data removed]",
      "text/plain": [
       "<Figure size 864x432 with 1 Axes>"
      ]
     },
     "metadata": {
      "needs_background": "light"
     },
     "output_type": "display_data"
    }
   ],
   "source": [
    "train_df.groupby(['site_category', 'click']).size().unstack().plot(kind='bar',\n",
    "                                                                   title=\"Value counts for site_category\",\n",
    "                                                                   figsize=(12,6))\n",
    "plt.ylabel('count')\n",
    "plt.xlabel('site_category')"
   ]
  },
  {
   "cell_type": "code",
   "execution_count": 20,
   "metadata": {},
   "outputs": [
    {
     "data": {
      "text/plain": [
       "Text(0.5, 0, 'app_category')"
      ]
     },
     "execution_count": 20,
     "metadata": {},
     "output_type": "execute_result"
    },
    {
     "data": {
      "image/png": "[encoded data removed]",
      "text/plain": [
       "<Figure size 864x432 with 1 Axes>"
      ]
     },
     "metadata": {
      "needs_background": "light"
     },
     "output_type": "display_data"
    }
   ],
   "source": [
    "train_df.groupby(['app_category', 'click']).size().unstack().plot(kind='bar',\n",
    "                                                                  title=\"Value counts for app_category\",\n",
    "                                                                  figsize=(12,6))\n",
    "plt.ylabel('count')\n",
    "plt.xlabel('app_category')"
   ]
  },
  {
   "cell_type": "code",
   "execution_count": 21,
   "metadata": {},
   "outputs": [
    {
     "data": {
      "text/plain": [
       "Text(0.5, 0, 'device_type')"
      ]
     },
     "execution_count": 21,
     "metadata": {},
     "output_type": "execute_result"
    },
    {
     "data": {
      "image/png": "[encoded data removed]",
      "text/plain": [
       "<Figure size 864x432 with 1 Axes>"
      ]
     },
     "metadata": {
      "needs_background": "light"
     },
     "output_type": "display_data"
    }
   ],
   "source": [
    "train_df.groupby(['device_type', 'click']).size().unstack().plot(kind='bar',\n",
    "                                                                 title=\"Value counts for device_type\",\n",
    "                                                                 figsize=(12,6))\n",
    "plt.ylabel('count')\n",
    "plt.xlabel('device_type')"
   ]
  },
  {
   "cell_type": "code",
   "execution_count": 22,
   "metadata": {},
   "outputs": [],
   "source": [
    "#train_df.groupby(['device_id', 'click']).size().unstack().plot(kind='bar', stacked=True, title=\"Value counts for device_id\", figsize=(12,6))\n",
    "#plt.ylabel('count')\n",
    "#plt.xlabel('device_id')"
   ]
  },
  {
   "cell_type": "code",
   "execution_count": 23,
   "metadata": {},
   "outputs": [],
   "source": [
    "#train_df.groupby(['device_ip', 'click']).size().unstack().plot(kind='bar', stacked=True, title=\"Value counts for device_ip\", figsize=(12,6))\n",
    "#plt.ylabel('count')\n",
    "#plt.xlabel('device_ip')"
   ]
  },
  {
   "cell_type": "code",
   "execution_count": 24,
   "metadata": {},
   "outputs": [
    {
     "data": {
      "text/plain": [
       "Text(0.5, 0, 'device_conn_type')"
      ]
     },
     "execution_count": 24,
     "metadata": {},
     "output_type": "execute_result"
    },
    {
     "data": {
      "image/png": "[encoded data removed]",
      "text/plain": [
       "<Figure size 864x432 with 1 Axes>"
      ]
     },
     "metadata": {
      "needs_background": "light"
     },
     "output_type": "display_data"
    }
   ],
   "source": [
    "train_df.groupby(['device_conn_type', 'click']).size().unstack().plot(kind='bar',\n",
    "                                                                      title=\"Value counts for device_conn_type\",\n",
    "                                                                      figsize=(12,6))\n",
    "plt.ylabel('count')\n",
    "plt.xlabel('device_conn_type')"
   ]
  },
  {
   "cell_type": "code",
   "execution_count": 25,
   "metadata": {},
   "outputs": [
    {
     "name": "stdout",
     "output_type": "stream",
     "text": [
      "C15\n",
      "C16\n"
     ]
    },
    {
     "data": {
      "image/png": "[encoded data removed]",
      "text/plain": [
       "<Figure size 864x432 with 1 Axes>"
      ]
     },
     "metadata": {
      "needs_background": "light"
     },
     "output_type": "display_data"
    },
    {
     "data": {
      "image/png": "[encoded data removed]",
      "text/plain": [
       "<Figure size 864x432 with 1 Axes>"
      ]
     },
     "metadata": {
      "needs_background": "light"
     },
     "output_type": "display_data"
    }
   ],
   "source": [
    "features = ['C15', 'C16']\n",
    "for feature in features:\n",
    "    print(feature)\n",
    "    train_df.groupby([feature, 'click']).size().unstack().plot(kind='bar',\n",
    "                                                               title='Value counts for '+feature,\n",
    "                                                               figsize=(12,6))\n",
    "    plt.ylabel(\"count\")\n",
    "    plt.xlabel(feature)"
   ]
  },
  {
   "cell_type": "code",
   "execution_count": 26,
   "metadata": {},
   "outputs": [
    {
     "name": "stdout",
     "output_type": "stream",
     "text": [
      "C18\n",
      "C19\n",
      "C21\n"
     ]
    },
    {
     "data": {
      "image/png": "[encoded data removed]",
      "text/plain": [
       "<Figure size 864x432 with 1 Axes>"
      ]
     },
     "metadata": {
      "needs_background": "light"
     },
     "output_type": "display_data"
    },
    {
     "data": {
      "image/png": "[encoded data removed]",
      "text/plain": [
       "<Figure size 864x432 with 1 Axes>"
      ]
     },
     "metadata": {
      "needs_background": "light"
     },
     "output_type": "display_data"
    },
    {
     "data": {
      "image/png": "[encoded data removed]",
      "text/plain": [
       "<Figure size 864x432 with 1 Axes>"
      ]
     },
     "metadata": {
      "needs_background": "light"
     },
     "output_type": "display_data"
    }
   ],
   "source": [
    "features = ['C18', 'C19', 'C21']\n",
    "for feature in features:\n",
    "    print(feature)\n",
    "    train_df.groupby([feature, 'click']).size().unstack().plot(kind='bar',\n",
    "                                                               title='Value counts for '+feature,\n",
    "                                                               figsize=(12,6))\n",
    "    plt.ylabel(\"count\")\n",
    "    plt.xlabel(feature)"
   ]
  },
  {
   "cell_type": "code",
   "execution_count": 27,
   "metadata": {},
   "outputs": [
    {
     "name": "stdout",
     "output_type": "stream",
     "text": [
      "For column click, number of unique value:  2\n",
      "For column C1, number of unique value:  7\n",
      "For column banner_pos, number of unique value:  7\n",
      "For column site_id, number of unique value:  3434\n",
      "For column site_domain, number of unique value:  4233\n",
      "For column site_category, number of unique value:  22\n",
      "For column app_id, number of unique value:  4866\n",
      "For column app_domain, number of unique value:  305\n",
      "For column app_category, number of unique value:  27\n",
      "For column device_id, number of unique value:  499639\n",
      "For column device_ip, number of unique value:  1622197\n",
      "For column device_model, number of unique value:  6353\n",
      "For column device_type, number of unique value:  5\n",
      "For column device_conn_type, number of unique value:  4\n",
      "For column C14, number of unique value:  2455\n",
      "For column C15, number of unique value:  8\n",
      "For column C16, number of unique value:  9\n",
      "For column C17, number of unique value:  426\n",
      "For column C18, number of unique value:  4\n",
      "For column C19, number of unique value:  66\n",
      "For column C20, number of unique value:  168\n",
      "For column C21, number of unique value:  60\n",
      "For column hour_of_day, number of unique value:  24\n",
      "For column day_of_week, number of unique value:  7\n"
     ]
    }
   ],
   "source": [
    "#train_df.drop('id', axis=1, inplace=True)\n",
    "train_df.drop('hour', axis=1, inplace=True)\n",
    "\n",
    "columns = list(train_df.columns)\n",
    "\n",
    "for c in columns:\n",
    "    #print(\"For column \" + c + \", number of unique value: \", train_df[c].value_counts())\n",
    "    print(\"For column \" + c + \", number of unique value: \", train_df[c].nunique())"
   ]
  },
  {
   "cell_type": "markdown",
   "metadata": {},
   "source": [
    "### Check CTR for some features"
   ]
  },
  {
   "cell_type": "code",
   "execution_count": 42,
   "metadata": {},
   "outputs": [],
   "source": [
    "def featureCTR(train_df, feature):\n",
    "    values = train_df[feature].unique()\n",
    "    values.sort()\n",
    "    for v in values:\n",
    "        CTR_df = train_df.loc[np.where((train_df[feature]==v))].click\n",
    "        CTR = CTR_df.mean()\n",
    "        count = CTR_df.count()\n",
    "        print(f\"For {feature} = {v}, sample counts: {count}, CTR = {CTR}\")"
   ]
  },
  {
   "cell_type": "code",
   "execution_count": 43,
   "metadata": {},
   "outputs": [
    {
     "name": "stdout",
     "output_type": "stream",
     "text": [
      "For C1 = 1001, sample counts: 919, CTR = 0.028291621327529923\n",
      "For C1 = 1002, sample counts: 219060, CTR = 0.2120514927417146\n",
      "For C1 = 1005, sample counts: 3675337, CTR = 0.1688032961331165\n",
      "For C1 = 1007, sample counts: 3486, CTR = 0.04102122776821572\n",
      "For C1 = 1008, sample counts: 555, CTR = 0.13513513513513514\n",
      "For C1 = 1010, sample counts: 89497, CTR = 0.09565683765936288\n",
      "For C1 = 1012, sample counts: 11146, CTR = 0.16929840301453436\n"
     ]
    }
   ],
   "source": [
    "featureCTR(train_df, 'C1')"
   ]
  },
  {
   "cell_type": "code",
   "execution_count": 44,
   "metadata": {},
   "outputs": [
    {
     "name": "stdout",
     "output_type": "stream",
     "text": [
      "For banner_pos = 0, sample counts: 2880226, CTR = 0.16391630379004982\n",
      "For banner_pos = 1, sample counts: 1112604, CTR = 0.18303457474537213\n",
      "For banner_pos = 2, sample counts: 1234, CTR = 0.12155591572123177\n",
      "For banner_pos = 3, sample counts: 208, CTR = 0.14423076923076922\n",
      "For banner_pos = 4, sample counts: 748, CTR = 0.17647058823529413\n",
      "For banner_pos = 5, sample counts: 555, CTR = 0.13513513513513514\n",
      "For banner_pos = 7, sample counts: 4425, CTR = 0.31751412429378534\n"
     ]
    }
   ],
   "source": [
    "featureCTR(train_df, 'banner_pos')"
   ]
  },
  {
   "cell_type": "code",
   "execution_count": 45,
   "metadata": {},
   "outputs": [
    {
     "name": "stdout",
     "output_type": "stream",
     "text": [
      "For site_category = 0569f928, sample counts: 1772, CTR = 0.05191873589164785\n",
      "For site_category = 28905ebd, sample counts: 729037, CTR = 0.20779740945932784\n",
      "For site_category = 335d28a8, sample counts: 13675, CTR = 0.09206581352833638\n",
      "For site_category = 3e814130, sample counts: 301872, CTR = 0.28163592516033287\n",
      "For site_category = 42a36e14, sample counts: 264, CTR = 0.21212121212121213\n",
      "For site_category = 50e219e0, sample counts: 1636727, CTR = 0.12857978147852392\n",
      "For site_category = 5378d028, sample counts: 39, CTR = 0.1282051282051282\n",
      "For site_category = 70fb0e29, sample counts: 2434, CTR = 0.1516023007395234\n",
      "For site_category = 72722551, sample counts: 2840, CTR = 0.05563380281690141\n",
      "For site_category = 74073276, sample counts: 1, CTR = 0.0\n",
      "For site_category = 75fa27f6, sample counts: 16270, CTR = 0.11432083589428396\n",
      "For site_category = 76b2941d, sample counts: 10318, CTR = 0.030626090327582865\n",
      "For site_category = 8fd0aea4, sample counts: 713, CTR = 0.014025245441795231\n",
      "For site_category = 9ccfa2ea, sample counts: 36, CTR = 0.0\n",
      "For site_category = a818d37a, sample counts: 325, CTR = 0.009230769230769232\n",
      "For site_category = bcf865d9, sample counts: 99, CTR = 0.020202020202020204\n",
      "For site_category = c0dd3be3, sample counts: 4203, CTR = 0.10801808232215085\n",
      "For site_category = c706e647, sample counts: 3, CTR = 0.0\n",
      "For site_category = dedf689d, sample counts: 2440, CTR = 0.4954918032786885\n",
      "For site_category = e787de0e, sample counts: 120, CTR = 0.08333333333333333\n",
      "For site_category = f028772b, sample counts: 1252003, CTR = 0.17876155248829276\n",
      "For site_category = f66779e6, sample counts: 24809, CTR = 0.03950179370389778\n"
     ]
    }
   ],
   "source": [
    "featureCTR(train_df, 'site_category')"
   ]
  },
  {
   "cell_type": "code",
   "execution_count": 46,
   "metadata": {},
   "outputs": [
    {
     "name": "stdout",
     "output_type": "stream",
     "text": [
      "For app_category = 07d7df22, sample counts: 2587490, CTR = 0.19862028452283872\n",
      "For app_category = 09481d60, sample counts: 5634, CTR = 0.15885694000709974\n",
      "For app_category = 0bfbc358, sample counts: 35, CTR = 0.02857142857142857\n",
      "For app_category = 0d82db25, sample counts: 4, CTR = 0.0\n",
      "For app_category = 0f2161f8, sample counts: 946994, CTR = 0.10810205766879198\n",
      "For app_category = 0f9a328c, sample counts: 582, CTR = 0.13917525773195877\n",
      "For app_category = 18b1e0be, sample counts: 20, CTR = 0.1\n",
      "For app_category = 2281a340, sample counts: 230, CTR = 0.02608695652173913\n",
      "For app_category = 2fc4f2aa, sample counts: 27, CTR = 0.0\n",
      "For app_category = 4681bb9d, sample counts: 561, CTR = 0.15151515151515152\n",
      "For app_category = 4b7ade46, sample counts: 2, CTR = 0.0\n",
      "For app_category = 4ce2e9fc, sample counts: 2021, CTR = 0.1271647699158832\n",
      "For app_category = 5326cf99, sample counts: 17, CTR = 0.0\n",
      "For app_category = 7113d72a, sample counts: 36, CTR = 0.0\n",
      "For app_category = 75d80bbe, sample counts: 4116, CTR = 0.09402332361516035\n",
      "For app_category = 79f0b860, sample counts: 52, CTR = 0.019230769230769232\n",
      "For app_category = 879c24eb, sample counts: 1295, CTR = 0.10270270270270271\n",
      "For app_category = 8ded1f7a, sample counts: 144970, CTR = 0.08966682761950748\n",
      "For app_category = 8df2e842, sample counts: 168, CTR = 0.20238095238095238\n",
      "For app_category = a3c42688, sample counts: 1097, CTR = 0.05104831358249772\n",
      "For app_category = a7fd01ec, sample counts: 30, CTR = 0.0\n",
      "For app_category = a86a3e89, sample counts: 254, CTR = 0.1220472440944882\n",
      "For app_category = cef3e649, sample counts: 171357, CTR = 0.09299882701027679\n",
      "For app_category = d1327cf5, sample counts: 12370, CTR = 0.12182700080840744\n",
      "For app_category = dc97ec06, sample counts: 5355, CTR = 0.1458450046685341\n",
      "For app_category = f95efa07, sample counts: 112971, CTR = 0.2472935532127714\n",
      "For app_category = fc6fa53d, sample counts: 2312, CTR = 0.05363321799307959\n"
     ]
    }
   ],
   "source": [
    "featureCTR(train_df, 'app_category')"
   ]
  },
  {
   "cell_type": "code",
   "execution_count": 47,
   "metadata": {},
   "outputs": [
    {
     "name": "stdout",
     "output_type": "stream",
     "text": [
      "For device_type = 0, sample counts: 219060, CTR = 0.2120514927417146\n",
      "For device_type = 1, sample counts: 3691440, CTR = 0.16864421472379343\n",
      "For device_type = 2, sample counts: 3, CTR = 0.0\n",
      "For device_type = 4, sample counts: 76745, CTR = 0.09545898755619259\n",
      "For device_type = 5, sample counts: 12752, CTR = 0.09684755332496864\n"
     ]
    }
   ],
   "source": [
    "featureCTR(train_df, 'device_type')"
   ]
  },
  {
   "cell_type": "code",
   "execution_count": 48,
   "metadata": {},
   "outputs": [
    {
     "name": "stdout",
     "output_type": "stream",
     "text": [
      "For device_conn_type = 0, sample counts: 3451125, CTR = 0.180655293563693\n",
      "For device_conn_type = 2, sample counts: 329047, CTR = 0.135084045744225\n",
      "For device_conn_type = 3, sample counts: 215603, CTR = 0.044104210052735814\n",
      "For device_conn_type = 5, sample counts: 4225, CTR = 0.031005917159763315\n"
     ]
    }
   ],
   "source": [
    "featureCTR(train_df, 'device_conn_type')"
   ]
  },
  {
   "cell_type": "code",
   "execution_count": 49,
   "metadata": {},
   "outputs": [
    {
     "name": "stdout",
     "output_type": "stream",
     "text": [
      "For C15 = 120, sample counts: 303, CTR = 0.0297029702970297\n",
      "For C15 = 216, sample counts: 29551, CTR = 0.1287266082366079\n",
      "For C15 = 300, sample counts: 230836, CTR = 0.35874820218683395\n",
      "For C15 = 320, sample counts: 3731218, CTR = 0.1581982076630205\n",
      "For C15 = 480, sample counts: 229, CTR = 0.3056768558951965\n",
      "For C15 = 728, sample counts: 7425, CTR = 0.057373737373737375\n",
      "For C15 = 768, sample counts: 171, CTR = 0.4444444444444444\n",
      "For C15 = 1024, sample counts: 267, CTR = 0.3146067415730337\n"
     ]
    }
   ],
   "source": [
    "featureCTR(train_df, 'C15')"
   ]
  },
  {
   "cell_type": "code",
   "execution_count": 50,
   "metadata": {},
   "outputs": [
    {
     "name": "stdout",
     "output_type": "stream",
     "text": [
      "For C16 = 20, sample counts: 303, CTR = 0.0297029702970297\n",
      "For C16 = 36, sample counts: 29551, CTR = 0.1287266082366079\n",
      "For C16 = 50, sample counts: 3773174, CTR = 0.15793175718904032\n",
      "For C16 = 90, sample counts: 7425, CTR = 0.057373737373737375\n",
      "For C16 = 250, sample counts: 178528, CTR = 0.4201917906434845\n",
      "For C16 = 320, sample counts: 229, CTR = 0.3056768558951965\n",
      "For C16 = 480, sample counts: 10352, CTR = 0.2090417310664606\n",
      "For C16 = 768, sample counts: 267, CTR = 0.3146067415730337\n",
      "For C16 = 1024, sample counts: 171, CTR = 0.4444444444444444\n"
     ]
    }
   ],
   "source": [
    "featureCTR(train_df, 'C16')"
   ]
  },
  {
   "cell_type": "code",
   "execution_count": 51,
   "metadata": {},
   "outputs": [
    {
     "name": "stdout",
     "output_type": "stream",
     "text": [
      "For C18 = 0, sample counts: 1676109, CTR = 0.1577099102743318\n",
      "For C18 = 1, sample counts: 269181, CTR = 0.033951133252346936\n",
      "For C18 = 2, sample counts: 703675, CTR = 0.2943773759192809\n",
      "For C18 = 3, sample counts: 1351035, CTR = 0.1457615827865303\n"
     ]
    }
   ],
   "source": [
    "featureCTR(train_df, 'C18')"
   ]
  },
  {
   "cell_type": "code",
   "execution_count": 52,
   "metadata": {},
   "outputs": [
    {
     "name": "stdout",
     "output_type": "stream",
     "text": [
      "For hour_of_day = 0, sample counts: 83524, CTR = 0.1809779225132896\n",
      "For hour_of_day = 1, sample counts: 97443, CTR = 0.18454891577640262\n",
      "For hour_of_day = 2, sample counts: 121000, CTR = 0.17436363636363636\n",
      "For hour_of_day = 3, sample counts: 138569, CTR = 0.1747432686964617\n",
      "For hour_of_day = 4, sample counts: 188815, CTR = 0.15896512459285544\n",
      "For hour_of_day = 5, sample counts: 196704, CTR = 0.1628589149178461\n",
      "For hour_of_day = 6, sample counts: 174568, CTR = 0.16818088080289628\n",
      "For hour_of_day = 7, sample counts: 183650, CTR = 0.17892186223795262\n",
      "For hour_of_day = 8, sample counts: 207355, CTR = 0.16306334547032866\n",
      "For hour_of_day = 9, sample counts: 225289, CTR = 0.16054933884921146\n",
      "For hour_of_day = 10, sample counts: 212599, CTR = 0.161101416281356\n",
      "For hour_of_day = 11, sample counts: 202419, CTR = 0.1686600566152387\n",
      "For hour_of_day = 12, sample counts: 219322, CTR = 0.17044801707079088\n",
      "For hour_of_day = 13, sample counts: 236562, CTR = 0.1678545159408527\n",
      "For hour_of_day = 14, sample counts: 216576, CTR = 0.17806682180851063\n",
      "For hour_of_day = 15, sample counts: 205616, CTR = 0.18085654812855032\n",
      "For hour_of_day = 16, sample counts: 203141, CTR = 0.17830472430479322\n",
      "For hour_of_day = 17, sample counts: 200778, CTR = 0.17219516082439312\n",
      "For hour_of_day = 18, sample counts: 174451, CTR = 0.16896435102120366\n",
      "For hour_of_day = 19, sample counts: 130431, CTR = 0.16467710896949345\n",
      "For hour_of_day = 20, sample counts: 111081, CTR = 0.15987432594233036\n",
      "For hour_of_day = 21, sample counts: 98866, CTR = 0.15769829870734126\n",
      "For hour_of_day = 22, sample counts: 90610, CTR = 0.16256483831806645\n",
      "For hour_of_day = 23, sample counts: 80631, CTR = 0.1715221192841463\n"
     ]
    }
   ],
   "source": [
    "featureCTR(train_df, 'hour_of_day')"
   ]
  },
  {
   "cell_type": "code",
   "execution_count": 53,
   "metadata": {},
   "outputs": [
    {
     "name": "stdout",
     "output_type": "stream",
     "text": [
      "For day_of_week = Friday, sample counts: 330042, CTR = 0.17438386629580477\n",
      "For day_of_week = Monday, sample counts: 318471, CTR = 0.18312185410916534\n",
      "For day_of_week = Saturday, sample counts: 332921, CTR = 0.1822234103586136\n",
      "For day_of_week = Sunday, sample counts: 378935, CTR = 0.182070803699843\n",
      "For day_of_week = Thursday, sample counts: 800708, CTR = 0.17457175399771202\n",
      "For day_of_week = Tuesday, sample counts: 931714, CTR = 0.16135745518474554\n",
      "For day_of_week = Wednesday, sample counts: 907209, CTR = 0.15641489447304865\n"
     ]
    }
   ],
   "source": [
    "featureCTR(train_df, 'day_of_week')"
   ]
  },
  {
   "cell_type": "code",
   "execution_count": null,
   "metadata": {},
   "outputs": [],
   "source": []
  },
  {
   "cell_type": "code",
   "execution_count": 54,
   "metadata": {},
   "outputs": [],
   "source": [
    "## in the original 6G data, there are total 40428967 samples including:\n",
    "## click == 1: 6865066\n",
    "## click == 0: 33563901"
   ]
  },
  {
   "cell_type": "code",
   "execution_count": 66,
   "metadata": {},
   "outputs": [],
   "source": [
    "## define funtion to check column 0-1 distribution:\n",
    "#train_df.query(\"click == 0\")['device_id'].value_counts()\n",
    "\n",
    "def col_01_check(col_name):\n",
    "    tmp_0 = train_df.query(\"click == 0\")[col_name].value_counts()\n",
    "    tmp_1 = train_df.query(\"click == 1\")[col_name].value_counts()\n",
    "    tmp_count = pd.concat([tmp_0, tmp_1], axis=1, sort=False)\n",
    "    tmp_count.columns = [col_name+'_0_count', col_name+'_1_count']\n",
    "    print(tmp_count)"
   ]
  },
  {
   "cell_type": "code",
   "execution_count": 67,
   "metadata": {},
   "outputs": [
    {
     "name": "stdout",
     "output_type": "stream",
     "text": [
      "          site_id_0_count  site_id_1_count\n",
      "85f751fd        1273857.0         171473.0\n",
      "1fbe01fe         509854.0         131600.0\n",
      "e151e245         183962.0          77094.0\n",
      "856e6d3f          72364.0           3230.0\n",
      "d9750ee7          68497.0          26690.0\n",
      "...                   ...              ...\n",
      "b612cdcb              NaN              1.0\n",
      "706c4398              NaN              1.0\n",
      "eb4792c5              NaN              1.0\n",
      "7ff03653              NaN              1.0\n",
      "e41fe8c5              NaN              1.0\n",
      "\n",
      "[3434 rows x 2 columns]\n"
     ]
    }
   ],
   "source": [
    "col_01_check('site_id')"
   ]
  },
  {
   "cell_type": "code",
   "execution_count": 68,
   "metadata": {},
   "outputs": [
    {
     "name": "stdout",
     "output_type": "stream",
     "text": [
      "          site_domain_0_count  site_domain_1_count\n",
      "c4e18dd6            1314412.0             183761.0\n",
      "f3845767             509854.0             131600.0\n",
      "7e091613             244462.0              84611.0\n",
      "16a36ef3              72727.0              12043.0\n",
      "58a89a43              72364.0               3230.0\n",
      "...                       ...                  ...\n",
      "136e13ef                  NaN                  1.0\n",
      "f126f9ba                  NaN                  1.0\n",
      "097f95af                  NaN                  1.0\n",
      "5c95df40                  NaN                  1.0\n",
      "6d0b83b8                  NaN                  1.0\n",
      "\n",
      "[4233 rows x 2 columns]\n"
     ]
    }
   ],
   "source": [
    "col_01_check('site_domain')"
   ]
  },
  {
   "cell_type": "code",
   "execution_count": 69,
   "metadata": {},
   "outputs": [
    {
     "name": "stdout",
     "output_type": "stream",
     "text": [
      "          site_category_0_count  site_category_1_count\n",
      "50e219e0                1426277               210450.0\n",
      "f028772b                1028193               223810.0\n",
      "28905ebd                 577545               151492.0\n",
      "3e814130                 216854                85018.0\n",
      "f66779e6                  23829                  980.0\n",
      "75fa27f6                  14410                 1860.0\n",
      "335d28a8                  12416                 1259.0\n",
      "76b2941d                  10002                  316.0\n",
      "c0dd3be3                   3749                  454.0\n",
      "72722551                   2682                  158.0\n",
      "70fb0e29                   2065                  369.0\n",
      "0569f928                   1680                   92.0\n",
      "dedf689d                   1231                 1209.0\n",
      "8fd0aea4                    703                   10.0\n",
      "a818d37a                    322                    3.0\n",
      "42a36e14                    208                   56.0\n",
      "e787de0e                    110                   10.0\n",
      "bcf865d9                     97                    2.0\n",
      "9ccfa2ea                     36                    NaN\n",
      "5378d028                     34                    5.0\n",
      "c706e647                      3                    NaN\n",
      "74073276                      1                    NaN\n"
     ]
    }
   ],
   "source": [
    "col_01_check('site_category')"
   ]
  },
  {
   "cell_type": "code",
   "execution_count": 70,
   "metadata": {},
   "outputs": [
    {
     "name": "stdout",
     "output_type": "stream",
     "text": [
      "          app_id_0_count  app_id_1_count\n",
      "ecad2386       2048590.0        506080.0\n",
      "92f5800b        151023.0          2952.0\n",
      "e2fcccd2         89966.0         21769.0\n",
      "febd1138         71688.0          3663.0\n",
      "9c13b419         51962.0         22909.0\n",
      "...                  ...             ...\n",
      "ee1b70ac             NaN             1.0\n",
      "025f3b9b             NaN             1.0\n",
      "2e4d5ff3             NaN             1.0\n",
      "3d7881ec             NaN             1.0\n",
      "79c16aec             NaN             1.0\n",
      "\n",
      "[4866 rows x 2 columns]\n"
     ]
    }
   ],
   "source": [
    "col_01_check('app_id')"
   ]
  },
  {
   "cell_type": "code",
   "execution_count": 71,
   "metadata": {},
   "outputs": [
    {
     "name": "stdout",
     "output_type": "stream",
     "text": [
      "          app_domain_0_count  app_domain_1_count\n",
      "7801e8d9           2169913.0            523564.0\n",
      "2347f47a            447389.0             71555.0\n",
      "ae637522            181672.0              4440.0\n",
      "5c5a694b             89984.0             21771.0\n",
      "82e27996             71692.0              3663.0\n",
      "...                      ...                 ...\n",
      "e9616877                 NaN                 1.0\n",
      "6cf43c3b                 NaN                 1.0\n",
      "b4df0cc5                 NaN                 1.0\n",
      "f2140094                 NaN                 1.0\n",
      "9c875c2e                 NaN                 1.0\n",
      "\n",
      "[305 rows x 2 columns]\n"
     ]
    }
   ],
   "source": [
    "col_01_check('app_domain')"
   ]
  },
  {
   "cell_type": "code",
   "execution_count": 72,
   "metadata": {},
   "outputs": [
    {
     "name": "stdout",
     "output_type": "stream",
     "text": [
      "          app_category_0_count  app_category_1_count\n",
      "07d7df22               2073562              513928.0\n",
      "0f2161f8                844622              102372.0\n",
      "cef3e649                155421               15936.0\n",
      "8ded1f7a                131971               12999.0\n",
      "f95efa07                 85034               27937.0\n",
      "d1327cf5                 10863                1507.0\n",
      "09481d60                  4739                 895.0\n",
      "dc97ec06                  4574                 781.0\n",
      "75d80bbe                  3729                 387.0\n",
      "fc6fa53d                  2188                 124.0\n",
      "4ce2e9fc                  1764                 257.0\n",
      "879c24eb                  1162                 133.0\n",
      "a3c42688                  1041                  56.0\n",
      "0f9a328c                   501                  81.0\n",
      "4681bb9d                   476                  85.0\n",
      "2281a340                   224                   6.0\n",
      "a86a3e89                   223                  31.0\n",
      "8df2e842                   134                  34.0\n",
      "79f0b860                    51                   1.0\n",
      "7113d72a                    36                   NaN\n",
      "0bfbc358                    34                   1.0\n",
      "a7fd01ec                    30                   NaN\n",
      "2fc4f2aa                    27                   NaN\n",
      "18b1e0be                    18                   2.0\n",
      "5326cf99                    17                   NaN\n",
      "0d82db25                     4                   NaN\n",
      "4b7ade46                     2                   NaN\n"
     ]
    }
   ],
   "source": [
    "col_01_check('app_category')"
   ]
  },
  {
   "cell_type": "code",
   "execution_count": 73,
   "metadata": {},
   "outputs": [
    {
     "name": "stdout",
     "output_type": "stream",
     "text": [
      "          device_id_0_count  device_id_1_count\n",
      "a99f214a          2728170.0           572845.0\n",
      "936e92fb             1272.0               88.0\n",
      "c357dbff              769.0             1260.0\n",
      "afeffc18              705.0              247.0\n",
      "0f7c61dc              524.0             1608.0\n",
      "...                     ...                ...\n",
      "f25af616                NaN                1.0\n",
      "e6276451                NaN                1.0\n",
      "390aecd5                NaN                1.0\n",
      "f164e0e8                NaN                1.0\n",
      "ea777e31                NaN                1.0\n",
      "\n",
      "[499639 rows x 2 columns]\n"
     ]
    }
   ],
   "source": [
    "col_01_check('device_id')"
   ]
  },
  {
   "cell_type": "code",
   "execution_count": 74,
   "metadata": {},
   "outputs": [
    {
     "name": "stdout",
     "output_type": "stream",
     "text": [
      "          device_ip_0_count  device_ip_1_count\n",
      "6b9769f2            15882.0             4668.0\n",
      "431b3174            10785.0             2576.0\n",
      "2f323f36             8043.0              870.0\n",
      "af9205f9             7879.0              800.0\n",
      "af62faf4             7819.0              804.0\n",
      "...                     ...                ...\n",
      "dc21a53a                NaN                1.0\n",
      "f5b2e177                NaN                1.0\n",
      "b584c0ee                NaN                1.0\n",
      "d9f6cbbd                NaN                1.0\n",
      "dd26a10c                NaN                1.0\n",
      "\n",
      "[1622197 rows x 2 columns]\n"
     ]
    }
   ],
   "source": [
    "col_01_check('device_ip')"
   ]
  },
  {
   "cell_type": "code",
   "execution_count": 75,
   "metadata": {},
   "outputs": [],
   "source": [
    "def hash_columns(self):\n",
    "    \n",
    "    list_columns = self.columns\n",
    "    new_col_suffix = '_int'\n",
    "    for i in range(0,len(list_columns)):\n",
    "        if list_columns[i] == 'click': continue\n",
    "        self[list_columns[i]+new_col_suffix] = self[list_columns[i]].map( lambda  x: hash(str(x)) )\n",
    "        self.drop([list_columns[i]],inplace=True,axis=1)\n",
    "    return self"
   ]
  },
  {
   "cell_type": "code",
   "execution_count": 76,
   "metadata": {},
   "outputs": [],
   "source": [
    "train_df = hash_columns(train_df)"
   ]
  },
  {
   "cell_type": "code",
   "execution_count": 77,
   "metadata": {},
   "outputs": [
    {
     "data": {
      "text/html": [
       "<div>\n",
       "<style scoped>\n",
       "    .dataframe tbody tr th:only-of-type {\n",
       "        vertical-align: middle;\n",
       "    }\n",
       "\n",
       "    .dataframe tbody tr th {\n",
       "        vertical-align: top;\n",
       "    }\n",
       "\n",
       "    .dataframe thead th {\n",
       "        text-align: right;\n",
       "    }\n",
       "</style>\n",
       "<table border=\"1\" class=\"dataframe\">\n",
       "  <thead>\n",
       "    <tr style=\"text-align: right;\">\n",
       "      <th></th>\n",
       "      <th>click</th>\n",
       "      <th>C1_int</th>\n",
       "      <th>banner_pos_int</th>\n",
       "      <th>site_id_int</th>\n",
       "      <th>site_domain_int</th>\n",
       "      <th>site_category_int</th>\n",
       "      <th>app_id_int</th>\n",
       "      <th>app_domain_int</th>\n",
       "      <th>app_category_int</th>\n",
       "      <th>device_id_int</th>\n",
       "      <th>...</th>\n",
       "      <th>C14_int</th>\n",
       "      <th>C15_int</th>\n",
       "      <th>C16_int</th>\n",
       "      <th>C17_int</th>\n",
       "      <th>C18_int</th>\n",
       "      <th>C19_int</th>\n",
       "      <th>C20_int</th>\n",
       "      <th>C21_int</th>\n",
       "      <th>hour_of_day_int</th>\n",
       "      <th>day_of_week_int</th>\n",
       "    </tr>\n",
       "  </thead>\n",
       "  <tbody>\n",
       "    <tr>\n",
       "      <th>0</th>\n",
       "      <td>0</td>\n",
       "      <td>-8408628050835440652</td>\n",
       "      <td>-5417431257874455812</td>\n",
       "      <td>1673322264058022261</td>\n",
       "      <td>4136150990272089516</td>\n",
       "      <td>-4538055098461420119</td>\n",
       "      <td>3320678617334553521</td>\n",
       "      <td>2642023076892718409</td>\n",
       "      <td>-5011087804400385012</td>\n",
       "      <td>2848956435762274756</td>\n",
       "      <td>...</td>\n",
       "      <td>1878153806018099954</td>\n",
       "      <td>-3932806785507200144</td>\n",
       "      <td>6972974030339039815</td>\n",
       "      <td>-7731559908746589179</td>\n",
       "      <td>-5417431257874455812</td>\n",
       "      <td>9151626688618292953</td>\n",
       "      <td>-621229269874291962</td>\n",
       "      <td>7512058234280129433</td>\n",
       "      <td>-5417431257874455812</td>\n",
       "      <td>-1939954985844146708</td>\n",
       "    </tr>\n",
       "    <tr>\n",
       "      <th>1</th>\n",
       "      <td>0</td>\n",
       "      <td>-8408628050835440652</td>\n",
       "      <td>-5417431257874455812</td>\n",
       "      <td>3985989825703782288</td>\n",
       "      <td>-5392433511070588970</td>\n",
       "      <td>2331532187069926637</td>\n",
       "      <td>3320678617334553521</td>\n",
       "      <td>2642023076892718409</td>\n",
       "      <td>-5011087804400385012</td>\n",
       "      <td>2848956435762274756</td>\n",
       "      <td>...</td>\n",
       "      <td>6704963071632075256</td>\n",
       "      <td>-3932806785507200144</td>\n",
       "      <td>6972974030339039815</td>\n",
       "      <td>-5920984929367109130</td>\n",
       "      <td>-5417431257874455812</td>\n",
       "      <td>-676103175383297147</td>\n",
       "      <td>-621229269874291962</td>\n",
       "      <td>-3248888030376266360</td>\n",
       "      <td>-5417431257874455812</td>\n",
       "      <td>-1939954985844146708</td>\n",
       "    </tr>\n",
       "    <tr>\n",
       "      <th>2</th>\n",
       "      <td>0</td>\n",
       "      <td>-8408628050835440652</td>\n",
       "      <td>1658569078973979185</td>\n",
       "      <td>251520864115883640</td>\n",
       "      <td>-1759778825659884517</td>\n",
       "      <td>-861564286970769635</td>\n",
       "      <td>3320678617334553521</td>\n",
       "      <td>2642023076892718409</td>\n",
       "      <td>-5011087804400385012</td>\n",
       "      <td>2848956435762274756</td>\n",
       "      <td>...</td>\n",
       "      <td>-4431038327051514268</td>\n",
       "      <td>-3932806785507200144</td>\n",
       "      <td>6972974030339039815</td>\n",
       "      <td>4279508235687474983</td>\n",
       "      <td>-4295122861407917451</td>\n",
       "      <td>-676103175383297147</td>\n",
       "      <td>-621229269874291962</td>\n",
       "      <td>-7987045085899139527</td>\n",
       "      <td>-5417431257874455812</td>\n",
       "      <td>-1939954985844146708</td>\n",
       "    </tr>\n",
       "    <tr>\n",
       "      <th>3</th>\n",
       "      <td>0</td>\n",
       "      <td>-8408628050835440652</td>\n",
       "      <td>-5417431257874455812</td>\n",
       "      <td>-5407287895852197048</td>\n",
       "      <td>-2431264194628069273</td>\n",
       "      <td>1002895087788608756</td>\n",
       "      <td>-7190844117011532266</td>\n",
       "      <td>-83814448680339135</td>\n",
       "      <td>1433515877926009101</td>\n",
       "      <td>2848956435762274756</td>\n",
       "      <td>...</td>\n",
       "      <td>-3173956272312072511</td>\n",
       "      <td>-3932806785507200144</td>\n",
       "      <td>6972974030339039815</td>\n",
       "      <td>5736543675793554972</td>\n",
       "      <td>-5417431257874455812</td>\n",
       "      <td>9151626688618292953</td>\n",
       "      <td>-621229269874291962</td>\n",
       "      <td>-3248888030376266360</td>\n",
       "      <td>-5417431257874455812</td>\n",
       "      <td>-1939954985844146708</td>\n",
       "    </tr>\n",
       "    <tr>\n",
       "      <th>4</th>\n",
       "      <td>0</td>\n",
       "      <td>-8408628050835440652</td>\n",
       "      <td>-5417431257874455812</td>\n",
       "      <td>1673322264058022261</td>\n",
       "      <td>4136150990272089516</td>\n",
       "      <td>-4538055098461420119</td>\n",
       "      <td>3320678617334553521</td>\n",
       "      <td>2642023076892718409</td>\n",
       "      <td>-5011087804400385012</td>\n",
       "      <td>2848956435762274756</td>\n",
       "      <td>...</td>\n",
       "      <td>8682423186584550754</td>\n",
       "      <td>-3932806785507200144</td>\n",
       "      <td>6972974030339039815</td>\n",
       "      <td>-7731559908746589179</td>\n",
       "      <td>-5417431257874455812</td>\n",
       "      <td>9151626688618292953</td>\n",
       "      <td>-621229269874291962</td>\n",
       "      <td>7512058234280129433</td>\n",
       "      <td>-5417431257874455812</td>\n",
       "      <td>-1939954985844146708</td>\n",
       "    </tr>\n",
       "  </tbody>\n",
       "</table>\n",
       "<p>5 rows × 24 columns</p>\n",
       "</div>"
      ],
      "text/plain": [
       "   click               C1_int       banner_pos_int          site_id_int  \\\n",
       "0      0 -8408628050835440652 -5417431257874455812  1673322264058022261   \n",
       "1      0 -8408628050835440652 -5417431257874455812  3985989825703782288   \n",
       "2      0 -8408628050835440652  1658569078973979185   251520864115883640   \n",
       "3      0 -8408628050835440652 -5417431257874455812 -5407287895852197048   \n",
       "4      0 -8408628050835440652 -5417431257874455812  1673322264058022261   \n",
       "\n",
       "       site_domain_int    site_category_int           app_id_int  \\\n",
       "0  4136150990272089516 -4538055098461420119  3320678617334553521   \n",
       "1 -5392433511070588970  2331532187069926637  3320678617334553521   \n",
       "2 -1759778825659884517  -861564286970769635  3320678617334553521   \n",
       "3 -2431264194628069273  1002895087788608756 -7190844117011532266   \n",
       "4  4136150990272089516 -4538055098461420119  3320678617334553521   \n",
       "\n",
       "        app_domain_int     app_category_int        device_id_int  ...  \\\n",
       "0  2642023076892718409 -5011087804400385012  2848956435762274756  ...   \n",
       "1  2642023076892718409 -5011087804400385012  2848956435762274756  ...   \n",
       "2  2642023076892718409 -5011087804400385012  2848956435762274756  ...   \n",
       "3   -83814448680339135  1433515877926009101  2848956435762274756  ...   \n",
       "4  2642023076892718409 -5011087804400385012  2848956435762274756  ...   \n",
       "\n",
       "               C14_int              C15_int              C16_int  \\\n",
       "0  1878153806018099954 -3932806785507200144  6972974030339039815   \n",
       "1  6704963071632075256 -3932806785507200144  6972974030339039815   \n",
       "2 -4431038327051514268 -3932806785507200144  6972974030339039815   \n",
       "3 -3173956272312072511 -3932806785507200144  6972974030339039815   \n",
       "4  8682423186584550754 -3932806785507200144  6972974030339039815   \n",
       "\n",
       "               C17_int              C18_int              C19_int  \\\n",
       "0 -7731559908746589179 -5417431257874455812  9151626688618292953   \n",
       "1 -5920984929367109130 -5417431257874455812  -676103175383297147   \n",
       "2  4279508235687474983 -4295122861407917451  -676103175383297147   \n",
       "3  5736543675793554972 -5417431257874455812  9151626688618292953   \n",
       "4 -7731559908746589179 -5417431257874455812  9151626688618292953   \n",
       "\n",
       "              C20_int              C21_int      hour_of_day_int  \\\n",
       "0 -621229269874291962  7512058234280129433 -5417431257874455812   \n",
       "1 -621229269874291962 -3248888030376266360 -5417431257874455812   \n",
       "2 -621229269874291962 -7987045085899139527 -5417431257874455812   \n",
       "3 -621229269874291962 -3248888030376266360 -5417431257874455812   \n",
       "4 -621229269874291962  7512058234280129433 -5417431257874455812   \n",
       "\n",
       "       day_of_week_int  \n",
       "0 -1939954985844146708  \n",
       "1 -1939954985844146708  \n",
       "2 -1939954985844146708  \n",
       "3 -1939954985844146708  \n",
       "4 -1939954985844146708  \n",
       "\n",
       "[5 rows x 24 columns]"
      ]
     },
     "execution_count": 77,
     "metadata": {},
     "output_type": "execute_result"
    }
   ],
   "source": [
    "train_df = train_df.reset_index(drop=True)\n",
    "train_df.head(5)"
   ]
  },
  {
   "cell_type": "markdown",
   "metadata": {},
   "source": [
    "### Drop some columns that don't seem to be important"
   ]
  },
  {
   "cell_type": "code",
   "execution_count": null,
   "metadata": {},
   "outputs": [],
   "source": [
    "#to_be_dropped = ['device_id_int', 'device_ip_int', 'device_model_int', 'device_type_int', 'device_conn_type_int']\n",
    "#train_df = train_df.drop(to_be_dropped, axis=1)"
   ]
  },
  {
   "cell_type": "code",
   "execution_count": 78,
   "metadata": {},
   "outputs": [
    {
     "data": {
      "text/plain": [
       "click                   int64\n",
       "C1_int                  int64\n",
       "banner_pos_int          int64\n",
       "site_id_int             int64\n",
       "site_domain_int         int64\n",
       "site_category_int       int64\n",
       "app_id_int              int64\n",
       "app_domain_int          int64\n",
       "app_category_int        int64\n",
       "device_id_int           int64\n",
       "device_ip_int           int64\n",
       "device_model_int        int64\n",
       "device_type_int         int64\n",
       "device_conn_type_int    int64\n",
       "C14_int                 int64\n",
       "C15_int                 int64\n",
       "C16_int                 int64\n",
       "C17_int                 int64\n",
       "C18_int                 int64\n",
       "C19_int                 int64\n",
       "C20_int                 int64\n",
       "C21_int                 int64\n",
       "hour_of_day_int         int64\n",
       "day_of_week_int         int64\n",
       "dtype: object"
      ]
     },
     "execution_count": 78,
     "metadata": {},
     "output_type": "execute_result"
    }
   ],
   "source": [
    "train_df.dtypes"
   ]
  },
  {
   "cell_type": "code",
   "execution_count": 79,
   "metadata": {},
   "outputs": [],
   "source": [
    "#X_train = train_df.drop('click', axis=1)\n",
    "#Y_train = train_df.click\n",
    "#X_train.dtypes\n",
    "\n",
    "pre_X = train_df.loc[:, train_df.columns != 'click']\n",
    "pre_Y = train_df.click.values"
   ]
  },
  {
   "cell_type": "code",
   "execution_count": 80,
   "metadata": {},
   "outputs": [
    {
     "data": {
      "text/html": [
       "<div>\n",
       "<style scoped>\n",
       "    .dataframe tbody tr th:only-of-type {\n",
       "        vertical-align: middle;\n",
       "    }\n",
       "\n",
       "    .dataframe tbody tr th {\n",
       "        vertical-align: top;\n",
       "    }\n",
       "\n",
       "    .dataframe thead th {\n",
       "        text-align: right;\n",
       "    }\n",
       "</style>\n",
       "<table border=\"1\" class=\"dataframe\">\n",
       "  <thead>\n",
       "    <tr style=\"text-align: right;\">\n",
       "      <th></th>\n",
       "      <th>C1_int</th>\n",
       "      <th>banner_pos_int</th>\n",
       "      <th>site_id_int</th>\n",
       "      <th>site_domain_int</th>\n",
       "      <th>site_category_int</th>\n",
       "      <th>app_id_int</th>\n",
       "      <th>app_domain_int</th>\n",
       "      <th>app_category_int</th>\n",
       "      <th>device_id_int</th>\n",
       "      <th>device_ip_int</th>\n",
       "      <th>...</th>\n",
       "      <th>C14_int</th>\n",
       "      <th>C15_int</th>\n",
       "      <th>C16_int</th>\n",
       "      <th>C17_int</th>\n",
       "      <th>C18_int</th>\n",
       "      <th>C19_int</th>\n",
       "      <th>C20_int</th>\n",
       "      <th>C21_int</th>\n",
       "      <th>hour_of_day_int</th>\n",
       "      <th>day_of_week_int</th>\n",
       "    </tr>\n",
       "  </thead>\n",
       "  <tbody>\n",
       "    <tr>\n",
       "      <th>0</th>\n",
       "      <td>-8408628050835440652</td>\n",
       "      <td>-5417431257874455812</td>\n",
       "      <td>1673322264058022261</td>\n",
       "      <td>4136150990272089516</td>\n",
       "      <td>-4538055098461420119</td>\n",
       "      <td>3320678617334553521</td>\n",
       "      <td>2642023076892718409</td>\n",
       "      <td>-5011087804400385012</td>\n",
       "      <td>2848956435762274756</td>\n",
       "      <td>-1309029610200862989</td>\n",
       "      <td>...</td>\n",
       "      <td>1878153806018099954</td>\n",
       "      <td>-3932806785507200144</td>\n",
       "      <td>6972974030339039815</td>\n",
       "      <td>-7731559908746589179</td>\n",
       "      <td>-5417431257874455812</td>\n",
       "      <td>9151626688618292953</td>\n",
       "      <td>-621229269874291962</td>\n",
       "      <td>7512058234280129433</td>\n",
       "      <td>-5417431257874455812</td>\n",
       "      <td>-1939954985844146708</td>\n",
       "    </tr>\n",
       "    <tr>\n",
       "      <th>1</th>\n",
       "      <td>-8408628050835440652</td>\n",
       "      <td>-5417431257874455812</td>\n",
       "      <td>3985989825703782288</td>\n",
       "      <td>-5392433511070588970</td>\n",
       "      <td>2331532187069926637</td>\n",
       "      <td>3320678617334553521</td>\n",
       "      <td>2642023076892718409</td>\n",
       "      <td>-5011087804400385012</td>\n",
       "      <td>2848956435762274756</td>\n",
       "      <td>400726660139993452</td>\n",
       "      <td>...</td>\n",
       "      <td>6704963071632075256</td>\n",
       "      <td>-3932806785507200144</td>\n",
       "      <td>6972974030339039815</td>\n",
       "      <td>-5920984929367109130</td>\n",
       "      <td>-5417431257874455812</td>\n",
       "      <td>-676103175383297147</td>\n",
       "      <td>-621229269874291962</td>\n",
       "      <td>-3248888030376266360</td>\n",
       "      <td>-5417431257874455812</td>\n",
       "      <td>-1939954985844146708</td>\n",
       "    </tr>\n",
       "  </tbody>\n",
       "</table>\n",
       "<p>2 rows × 23 columns</p>\n",
       "</div>"
      ],
      "text/plain": [
       "                C1_int       banner_pos_int          site_id_int  \\\n",
       "0 -8408628050835440652 -5417431257874455812  1673322264058022261   \n",
       "1 -8408628050835440652 -5417431257874455812  3985989825703782288   \n",
       "\n",
       "       site_domain_int    site_category_int           app_id_int  \\\n",
       "0  4136150990272089516 -4538055098461420119  3320678617334553521   \n",
       "1 -5392433511070588970  2331532187069926637  3320678617334553521   \n",
       "\n",
       "        app_domain_int     app_category_int        device_id_int  \\\n",
       "0  2642023076892718409 -5011087804400385012  2848956435762274756   \n",
       "1  2642023076892718409 -5011087804400385012  2848956435762274756   \n",
       "\n",
       "         device_ip_int  ...              C14_int              C15_int  \\\n",
       "0 -1309029610200862989  ...  1878153806018099954 -3932806785507200144   \n",
       "1   400726660139993452  ...  6704963071632075256 -3932806785507200144   \n",
       "\n",
       "               C16_int              C17_int              C18_int  \\\n",
       "0  6972974030339039815 -7731559908746589179 -5417431257874455812   \n",
       "1  6972974030339039815 -5920984929367109130 -5417431257874455812   \n",
       "\n",
       "               C19_int             C20_int              C21_int  \\\n",
       "0  9151626688618292953 -621229269874291962  7512058234280129433   \n",
       "1  -676103175383297147 -621229269874291962 -3248888030376266360   \n",
       "\n",
       "       hour_of_day_int      day_of_week_int  \n",
       "0 -5417431257874455812 -1939954985844146708  \n",
       "1 -5417431257874455812 -1939954985844146708  \n",
       "\n",
       "[2 rows x 23 columns]"
      ]
     },
     "execution_count": 80,
     "metadata": {},
     "output_type": "execute_result"
    }
   ],
   "source": [
    "pre_X.head(2)"
   ]
  },
  {
   "cell_type": "code",
   "execution_count": null,
   "metadata": {},
   "outputs": [],
   "source": [
    "## train-test split: reserve 20% for testing\n",
    "#from sklearn.model_selection import train_test_split\n",
    "#X_train, X_test, Y_train, Y_test =  train_test_split(preX, preY, test_size = 0.2, random_state=0)"
   ]
  },
  {
   "cell_type": "code",
   "execution_count": 81,
   "metadata": {},
   "outputs": [],
   "source": [
    "import lightgbm as lgb\n",
    "\n",
    "#create lightgbm dataset\n",
    "mask = np.random.rand(len(pre_X)) < 0.8\n",
    "\n",
    "train_X, train_Y = pre_X[mask], pre_Y[mask]\n",
    "test_X, test_Y = pre_X[~mask], pre_Y[~mask]"
   ]
  },
  {
   "cell_type": "code",
   "execution_count": 82,
   "metadata": {},
   "outputs": [],
   "source": [
    "lgb_train = lgb.Dataset(train_X, train_Y)\n",
    "lgb_test = lgb.Dataset(test_X, test_Y, reference = lgb_train)"
   ]
  },
  {
   "cell_type": "code",
   "execution_count": 84,
   "metadata": {},
   "outputs": [
    {
     "name": "stdout",
     "output_type": "stream",
     "text": [
      "Training until validation scores don't improve for 500 rounds.\n",
      "[1000]\ttrain's binary_logloss: 0.390538\teval's binary_logloss: 0.394551\n",
      "[2000]\ttrain's binary_logloss: 0.384357\teval's binary_logloss: 0.393379\n",
      "[3000]\ttrain's binary_logloss: 0.379206\teval's binary_logloss: 0.392832\n",
      "[4000]\ttrain's binary_logloss: 0.374668\teval's binary_logloss: 0.392618\n",
      "[5000]\ttrain's binary_logloss: 0.370425\teval's binary_logloss: 0.392508\n",
      "[6000]\ttrain's binary_logloss: 0.366508\teval's binary_logloss: 0.392448\n",
      "Early stopping, best iteration is:\n",
      "[6102]\ttrain's binary_logloss: 0.366125\teval's binary_logloss: 0.392442\n"
     ]
    }
   ],
   "source": [
    "## model parameters:\n",
    "params = {\n",
    "    'task': 'train',\n",
    "    'boosting_type': 'gbdt',\n",
    "    'objective': 'binary',\n",
    "    'metric': { 'binary_logloss'},\n",
    "    'num_leaves': 60, # default leave amount for each tree\n",
    "    'learning_rate': 0.05,\n",
    "    #'feature_fraction': 0.8, # will select 70% features before training each tree\n",
    "    #'bagging_fraction': 0.3, #feature_fraction, but this will random select part of data\n",
    "    #'bagging_freq': 5, #  perform bagging at every 5 iteration\n",
    "    'verbose': 1\n",
    "}\n",
    "# valid_sets = [valid_set, train_set], valid_names = [‘eval’, ‘train’]\n",
    "\n",
    "# model training:\n",
    "gbm = lgb.train(params,\n",
    "                lgb_train,\n",
    "                num_boost_round=10000,\n",
    "                valid_sets  = [lgb_train, lgb_test],\n",
    "                valid_names = ['train', 'eval'],\n",
    "                early_stopping_rounds=500,\n",
    "                verbose_eval = 1000)"
   ]
  },
  {
   "cell_type": "code",
   "execution_count": 85,
   "metadata": {},
   "outputs": [
    {
     "name": "stdout",
     "output_type": "stream",
     "text": [
      "Best model appeared at 6102\n",
      "For training test:  {'binary_logloss': 0.3661247975987746}\n",
      "For validation test:  {'binary_logloss': 0.392441544485098}\n"
     ]
    }
   ],
   "source": [
    "print(f\"Best model appeared at {gbm.best_iteration}\")\n",
    "print(\"For training test: \", gbm.best_score['train'])\n",
    "print(\"For validation test: \", gbm.best_score['eval'])"
   ]
  },
  {
   "cell_type": "code",
   "execution_count": 86,
   "metadata": {},
   "outputs": [
    {
     "name": "stdout",
     "output_type": "stream",
     "text": [
      "0.024070120463231558\n"
     ]
    }
   ],
   "source": [
    "#type(lgb_test)\n",
    "pred_prob = gbm.predict(test_X)\n",
    "pred = pred_prob > 0.5\n",
    "print(sum(pred)/len(pred))"
   ]
  },
  {
   "cell_type": "code",
   "execution_count": 87,
   "metadata": {},
   "outputs": [],
   "source": [
    "from sklearn import metrics\n",
    "from sklearn.metrics import roc_curve\n",
    "from sklearn.metrics import confusion_matrix\n",
    "from sklearn.metrics import classification_report\n",
    "from sklearn.metrics import accuracy_score\n",
    "from sklearn.metrics import precision_score\n",
    "from sklearn.metrics import recall_score\n",
    "from sklearn.metrics import roc_auc_score\n",
    "from sklearn.metrics import log_loss"
   ]
  },
  {
   "cell_type": "code",
   "execution_count": 88,
   "metadata": {},
   "outputs": [
    {
     "name": "stdout",
     "output_type": "stream",
     "text": [
      "Accuracy: 0.8362057961510834\n",
      "Precision: 0.6065301029427056\n",
      "Recall: 0.08642569805086567\n",
      "AUC is:  0.7548167777990757\n"
     ]
    }
   ],
   "source": [
    "# calculate accuracy, precision and recall\n",
    "def compute_scores(conf_matrix):\n",
    "    \n",
    "    tn, fp, fn, tp = conf_matrix[0][0], conf_matrix[0][1], conf_matrix[1][0], conf_matrix[1][1]\n",
    "    \n",
    "    accuracy  = (tp + tn) / (tp + fp + fn + tn)\n",
    "    precision = tp / (tp + fp)\n",
    "    recall = tp / (tp + fn)\n",
    "    #print (\"Accuracy is: %0.3f\" % accuracy)\n",
    "    #print (\"precision is: %0.3f\" % precision)\n",
    "    #print (\"recall is: %0.3f\" % recall)\n",
    "    return accuracy, precision, recall\n",
    "\n",
    "conf_matrix = confusion_matrix(test_Y, pred)\n",
    "a, p, r = compute_scores(conf_matrix)\n",
    "print(f\"Accuracy: {a}\")\n",
    "print(f\"Precision: {p}\")\n",
    "print(f\"Recall: {r}\")\n",
    "print(\"AUC is: \", roc_auc_score(test_Y, pred_prob))"
   ]
  },
  {
   "cell_type": "code",
   "execution_count": 89,
   "metadata": {},
   "outputs": [],
   "source": [
    "\n",
    "# define function for plotting curve:\n",
    "def plot_curve(model_name, x, name1, y1, name2, y2, name3, y3):\n",
    "    plt.plot(x, y1, lw = 2, label = name1)\n",
    "    plt.plot(x, y2, lw = 2, label = name2 )\n",
    "    plt.plot(x, y3, lw = 2, label = name3)\n",
    "    plt.xlabel('Model threshold')\n",
    "    plt.ylabel('Model score')\n",
    "    plt.title('Model score vs threshold for ' + model_name)\n",
    "    plt.legend(loc='lower center')\n",
    "    plt.xlim([-0.05, 1.05])\n",
    "    return\n",
    "\n",
    "## compute fpr, tpr and threshold:\n",
    "#fpr, tpr, thresh = roc_curve(test_Y, pred_prob)\n",
    "\n",
    "#print(f\"how many threshold value is used: {len(thresh)}\")"
   ]
  },
  {
   "cell_type": "code",
   "execution_count": 90,
   "metadata": {},
   "outputs": [],
   "source": [
    "thresh = np.asarray(np.arange(0.0, 1.0, 0.005))"
   ]
  },
  {
   "cell_type": "code",
   "execution_count": 91,
   "metadata": {},
   "outputs": [
    {
     "data": {
      "image/png": "[encoded data removed]",
      "text/plain": [
       "<Figure size 432x288 with 1 Axes>"
      ]
     },
     "metadata": {
      "needs_background": "light"
     },
     "output_type": "display_data"
    }
   ],
   "source": [
    "\n",
    "## compute probability of positive case and prediction:\n",
    "pred_prob = gbm.predict(test_X)\n",
    "\n",
    "## initialize accuracy, precision and recall:\n",
    "accuracy, precision, recall = [], [], []\n",
    "\n",
    "for j in range(len(thresh)):\n",
    "    pred = pred_prob >= thresh[j]\n",
    "    conf_matrix = confusion_matrix(test_Y, pred)\n",
    "    a, p, r = compute_scores(conf_matrix)\n",
    "    accuracy.append(a)\n",
    "    precision.append(p)\n",
    "    recall.append(r)\n",
    "\n",
    "accuracy, precision, recall = np.asarray(accuracy), np.asarray(precision), np.asarray(recall)\n",
    "plot_curve( \"lightgbm\", thresh[1:], \"Accucary\", accuracy[1:], \"Precision\", precision[1:], \"Recall\", recall[1:] )\n",
    "\n",
    "plt.tight_layout()\n",
    "plt.show()"
   ]
  },
  {
   "cell_type": "code",
   "execution_count": null,
   "metadata": {},
   "outputs": [],
   "source": []
  },
  {
   "cell_type": "code",
   "execution_count": null,
   "metadata": {},
   "outputs": [],
   "source": [
    "## train-test split: reserve 20% for testing\n",
    "#from sklearn.model_selection import train_test_split\n",
    "#X_train, X_test, Y_train, Y_test =  train_test_split(preX, preY, test_size = 0.2, random_state=0)"
   ]
  },
  {
   "cell_type": "code",
   "execution_count": 92,
   "metadata": {},
   "outputs": [],
   "source": [
    "#import models:\n",
    "from sklearn import model_selection\n",
    "from sklearn.ensemble import RandomForestClassifier\n",
    "from sklearn.neighbors import KNeighborsClassifier \n",
    "from sklearn.linear_model import LogisticRegression\n",
    "from sklearn.svm import SVC \n",
    "from xgboost import XGBClassifier\n",
    "\n",
    "# Logistic Regression\n",
    "classifier_LR = LogisticRegression()\n",
    "\n",
    "# K Nearest Neighbors\n",
    "#classifier_KNN = KNeighborsClassifier()\n",
    "\n",
    "# Random Forest\n",
    "classifier_RF = RandomForestClassifier(random_state = 0)\n",
    "\n",
    "## support vector machine:\n",
    "classifier_SVM = SVC()\n",
    "\n",
    "## Gradient boosting:\n",
    "classifier_GB = XGBClassifier(random_state=0)"
   ]
  },
  {
   "cell_type": "code",
   "execution_count": 93,
   "metadata": {},
   "outputs": [
    {
     "name": "stdout",
     "output_type": "stream",
     "text": [
      "######### For model:  Logistic Regression\n",
      "\t Accuracy = 0.8308784330018697, Precision = 0.15584415584415584, Recall = 0.00026670025114273647\n",
      "######### For model:  Random Forest\n",
      "\t Accuracy = 0.8135360325974055, Precision = 0.37887350719828555, Recall = 0.1624056362653075\n",
      "######### For model:  Gradient Boosting\n",
      "\t Accuracy = 0.831960925161623, Precision = 0.7398097826086957, Recall = 0.008067682597067779\n"
     ]
    }
   ],
   "source": [
    "\n",
    "model_names = [\"Logistic Regression\", \"Random Forest\", \"Gradient Boosting\"]\n",
    "model_list = [classifier_LR, classifier_RF, classifier_GB]\n",
    "\n",
    "for i in range(len(model_list)):\n",
    "    model = model_list[i]\n",
    "    model.fit(train_X, train_Y)\n",
    "    pred = model.predict_proba(test_X)[:, 1] > 0.5\n",
    "    \n",
    "    conf_matrix = confusion_matrix(test_Y, pred)\n",
    "    \n",
    "    a, p, r = compute_scores(conf_matrix)\n",
    "    print(f\"######### For model: \", model_names[i])\n",
    "    #cv_score = model_selection.cross_val_score(classifier, train_X, train_Y, cv=5)\n",
    "    print(f\"\\t Accuracy = {a}, Precision = {p}, Recall = {r}\")\n",
    "    "
   ]
  },
  {
   "cell_type": "code",
   "execution_count": null,
   "metadata": {},
   "outputs": [],
   "source": []
  }
 ],
 "metadata": {
  "kernelspec": {
   "display_name": "Python 3",
   "language": "python",
   "name": "python3"
  },
  "language_info": {
   "codemirror_mode": {
    "name": "ipython",
    "version": 3
   },
   "file_extension": ".py",
   "mimetype": "text/x-python",
   "name": "python",
   "nbconvert_exporter": "python",
   "pygments_lexer": "ipython3",
   "version": "3.6.8"
  }
 },
 "nbformat": 4,
 "nbformat_minor": 2
}
