{
 "cells": [
  {
   "cell_type": "markdown",
   "metadata": {
    "colab_type": "text",
    "id": "u_-7WJlBn3uN"
   },
   "source": [
    "#Data Manipulation in Python"
   ]
  },
  {
   "cell_type": "markdown",
   "metadata": {
    "colab_type": "text",
    "id": "96SKJkUhpNzR"
   },
   "source": [
    "**Objectives**\n",
    "* Learn Colaboratory fundanmental operations\n",
    "* Learn and Review Python Basics\n",
    "* Learn Numpy Basics\n",
    "* Learn Pandas Basics"
   ]
  },
  {
   "cell_type": "markdown",
   "metadata": {
    "colab_type": "text",
    "id": "r3tIt1Zjsi2y"
   },
   "source": [
    "##Introduction to Colaboratory \n",
    "* Install Colaboratory (check *class doc*)\n",
    "* Install and import python packages\n",
    "* Load and Save data"
   ]
  },
  {
   "cell_type": "code",
   "execution_count": 0,
   "metadata": {
    "cellView": "both",
    "colab": {},
    "colab_type": "code",
    "id": "gb2OqLrDvSOB"
   },
   "outputs": [],
   "source": [
    "#@title import packages\n",
    "variable_name = \"\"\n",
    "import numpy as np\n",
    "import pandas as pd\n",
    "import matplotlib.pyplot as plt\n",
    "\n",
    "from __future__ import division # for python2, python 2 default integer division\n",
    "\n",
    "import warnings\n",
    "warnings.filterwarnings('ignore')"
   ]
  },
  {
   "cell_type": "code",
   "execution_count": 93,
   "metadata": {
    "cellView": "both",
    "colab": {
     "base_uri": "https://localhost:8080/",
     "height": 136
    },
    "colab_type": "code",
    "executionInfo": {
     "elapsed": 6328,
     "status": "ok",
     "timestamp": 1552752999191,
     "user": {
      "displayName": "Arthur M",
      "photoUrl": "",
      "userId": "16377123886564016720"
     },
     "user_tz": 420
    },
    "id": "vzJufYKix58j",
    "outputId": "238d4cb2-c96a-41ae-890a-6ec52f7e06ab"
   },
   "outputs": [
    {
     "name": "stdout",
     "output_type": "stream",
     "text": [
      "Requirement already satisfied: pandasql in /usr/local/lib/python3.6/dist-packages (0.7.3)\n",
      "Requirement already satisfied: pandas in /usr/local/lib/python3.6/dist-packages (from pandasql) (0.22.0)\n",
      "Requirement already satisfied: numpy in /usr/local/lib/python3.6/dist-packages (from pandasql) (1.14.6)\n",
      "Requirement already satisfied: sqlalchemy in /usr/local/lib/python3.6/dist-packages (from pandasql) (1.3.1)\n",
      "Requirement already satisfied: pytz>=2011k in /usr/local/lib/python3.6/dist-packages (from pandas->pandasql) (2018.9)\n",
      "Requirement already satisfied: python-dateutil>=2 in /usr/local/lib/python3.6/dist-packages (from pandas->pandasql) (2.5.3)\n",
      "Requirement already satisfied: six>=1.5 in /usr/local/lib/python3.6/dist-packages (from python-dateutil>=2->pandas->pandasql) (1.11.0)\n"
     ]
    }
   ],
   "source": [
    "#@title install packages\n",
    "!pip install pandasql"
   ]
  },
  {
   "cell_type": "markdown",
   "metadata": {
    "colab_type": "text",
    "id": "NODlSrUwye-l"
   },
   "source": [
    "## Python Basics"
   ]
  },
  {
   "cell_type": "markdown",
   "metadata": {
    "colab_type": "text",
    "id": "zUuCltN003Sk"
   },
   "source": [
    "**Numeric Types**\n"
   ]
  },
  {
   "cell_type": "code",
   "execution_count": 94,
   "metadata": {
    "colab": {
     "base_uri": "https://localhost:8080/",
     "height": 102
    },
    "colab_type": "code",
    "executionInfo": {
     "elapsed": 6306,
     "status": "ok",
     "timestamp": 1552752999192,
     "user": {
      "displayName": "Arthur M",
      "photoUrl": "",
      "userId": "16377123886564016720"
     },
     "user_tz": 420
    },
    "id": "eJ2X-QxL0zS2",
    "outputId": "ad5bd515-7701-425d-fa7c-9d08080586cd"
   },
   "outputs": [
    {
     "name": "stdout",
     "output_type": "stream",
     "text": [
      "<class 'int'>\n",
      "8\n",
      "9\n",
      "<class 'float'>\n",
      "<class 'float'>\n"
     ]
    }
   ],
   "source": [
    "x = 2\n",
    "\n",
    "# Use type() to check the variable type\n",
    "print(type(x)) # class 'int'\n",
    "\n",
    "x = x ** 3\n",
    "print(x) # 4; exponential\n",
    "\n",
    "x += 1 # addiction\n",
    "print(x)\n",
    "\n",
    "y = 1.5\n",
    "print(type(y)) # class 'float'\n",
    "\n",
    "x += y\n",
    "print(type(x)) # class 'float'\n"
   ]
  },
  {
   "cell_type": "markdown",
   "metadata": {
    "colab_type": "text",
    "id": "z8Pu3j8v2XAz"
   },
   "source": [
    "**Boolean**"
   ]
  },
  {
   "cell_type": "code",
   "execution_count": 95,
   "metadata": {
    "colab": {
     "base_uri": "https://localhost:8080/",
     "height": 119
    },
    "colab_type": "code",
    "executionInfo": {
     "elapsed": 6293,
     "status": "ok",
     "timestamp": 1552752999192,
     "user": {
      "displayName": "Arthur M",
      "photoUrl": "",
      "userId": "16377123886564016720"
     },
     "user_tz": 420
    },
    "id": "sFWtTc7v2jxS",
    "outputId": "3d856ffe-438b-4936-fc43-d74151aa75ee"
   },
   "outputs": [
    {
     "name": "stdout",
     "output_type": "stream",
     "text": [
      "<class 'bool'>\n",
      "True\n",
      "False\n",
      "False\n",
      "True\n",
      "1\n"
     ]
    }
   ],
   "source": [
    "t = True\n",
    "f = False\n",
    "\n",
    "print(type(t)) # class 'bool' \n",
    "print(t or f) # True\n",
    "print(t and f) # False \n",
    "print(not t) # False\n",
    "print(not f) # True\n",
    "\n",
    "\n",
    "print(1 or f) # (Advanced, just know it is enough)\n"
   ]
  },
  {
   "cell_type": "markdown",
   "metadata": {
    "colab_type": "text",
    "id": "r1HPK_4D3dRz"
   },
   "source": [
    "**String**\n",
    "\n",
    "Strings are immutable type"
   ]
  },
  {
   "cell_type": "code",
   "execution_count": 96,
   "metadata": {
    "colab": {
     "base_uri": "https://localhost:8080/",
     "height": 187
    },
    "colab_type": "code",
    "executionInfo": {
     "elapsed": 6278,
     "status": "ok",
     "timestamp": 1552752999193,
     "user": {
      "displayName": "Arthur M",
      "photoUrl": "",
      "userId": "16377123886564016720"
     },
     "user_tz": 420
    },
    "id": "WG9dlTJK3ezP",
    "outputId": "5b81dcd5-61f4-4074-a20e-dc9dca196e79"
   },
   "outputs": [
    {
     "name": "stdout",
     "output_type": "stream",
     "text": [
      "<class 'str'>\n",
      "<class 'str'>\n",
      "single quote huozhe double quote100\n",
      "TEXT: single quote huozhe double quote100\n",
      "Caplitalize the string: Single quote huozhe double quote100\n",
      "Uppercase the string: SINGLE QUOTE HUOZHE DOUBLE QUOTE100\n",
      "'o' occurrences: 4\n",
      "first 'te' index: 10\n",
      "s\n",
      "single quote huozhe double quote 100\n"
     ]
    }
   ],
   "source": [
    "s1 = 'single quote' # use single quotes\n",
    "print(type(s1)) # class 'str'\n",
    "\n",
    "s2= \"double quote\" # use double quotes \n",
    "print(type(s2)) # class 'str'\n",
    "\n",
    "x = 100\n",
    "s3 = s1 + ' huozhe ' + s2 + str(x) # string concatenation\n",
    "print(s3)\n",
    "\n",
    "print('TEXT: ' + s3)\n",
    "print('Caplitalize the string: ' + s3.capitalize()) # Caplitalize the string \n",
    "print('Uppercase the string: ' + s3.upper()) # Uppercase the string\n",
    "print('\\'o\\' occurrences: ' + str(s3.count('o'))) # Count the occurrences of a character\n",
    "print('first \\'te\\' index: ' + str(s3.index('te'))) # The lowest index of the occurrence \n",
    "print(s3[0]) # string indexing\n",
    "\n",
    "s4 = '{0} huozhe {1} {2}'.format(s1, s2, 100) # (Advanced)\n",
    "print(s4)"
   ]
  },
  {
   "cell_type": "code",
   "execution_count": 97,
   "metadata": {
    "colab": {
     "base_uri": "https://localhost:8080/",
     "height": 85
    },
    "colab_type": "code",
    "executionInfo": {
     "elapsed": 6264,
     "status": "ok",
     "timestamp": 1552752999193,
     "user": {
      "displayName": "Arthur M",
      "photoUrl": "",
      "userId": "16377123886564016720"
     },
     "user_tz": 420
    },
    "id": "GmL2VmQ1wXSU",
    "outputId": "0ce8e08b-cb0a-43e2-bf84-1b33b64d48ce"
   },
   "outputs": [
    {
     "name": "stdout",
     "output_type": "stream",
     "text": [
      "\n",
      "You can specify multi-line string.\n",
      "This is an example.\n",
      "\n"
     ]
    }
   ],
   "source": [
    "# (Advanced)Tripe Quotes\n",
    "s = '''\n",
    "You can specify multi-line string.\n",
    "This is an example.\n",
    "'''\n",
    "\n",
    "print(s)"
   ]
  },
  {
   "cell_type": "markdown",
   "metadata": {
    "colab_type": "text",
    "id": "fVZFfT125LdY"
   },
   "source": [
    "####Lists\n",
    "\n",
    "Lists are mutable type\n"
   ]
  },
  {
   "cell_type": "code",
   "execution_count": 98,
   "metadata": {
    "colab": {
     "base_uri": "https://localhost:8080/",
     "height": 68
    },
    "colab_type": "code",
    "executionInfo": {
     "elapsed": 6251,
     "status": "ok",
     "timestamp": 1552752999194,
     "user": {
      "displayName": "Arthur M",
      "photoUrl": "",
      "userId": "16377123886564016720"
     },
     "user_tz": 420
    },
    "id": "5HaYG0YV0Ll_",
    "outputId": "4e5cd11e-eb43-4dd9-cea2-5097ae663527"
   },
   "outputs": [
    {
     "name": "stdout",
     "output_type": "stream",
     "text": [
      "<class 'list'>\n",
      "[1, 2, 3, 4]\n",
      "['one', 2, 'three', 4]\n"
     ]
    }
   ],
   "source": [
    "lst1 = [] # initialize an empty list\n",
    "print(type(lst1)) # class 'List'\n",
    "\n",
    "lst2 = [1, 2, 3, 4] # create a list with same data type values\n",
    "print(lst2)\n",
    "\n",
    "lst3 = ['one', 2, 'three', 4] # create a list with different data type values\n",
    "print(lst3)\n"
   ]
  },
  {
   "cell_type": "code",
   "execution_count": 99,
   "metadata": {
    "colab": {
     "base_uri": "https://localhost:8080/",
     "height": 68
    },
    "colab_type": "code",
    "executionInfo": {
     "elapsed": 6233,
     "status": "ok",
     "timestamp": 1552752999194,
     "user": {
      "displayName": "Arthur M",
      "photoUrl": "",
      "userId": "16377123886564016720"
     },
     "user_tz": 420
    },
    "id": "IUdkO-VZ3bq-",
    "outputId": "08cd674e-05e2-4df3-ef91-5f904f611943"
   },
   "outputs": [
    {
     "name": "stdout",
     "output_type": "stream",
     "text": [
      "[1, 2, 3, 4, 5]\n",
      "[1, 2, 3, 5]\n",
      "[1, 2, 100, 5]\n"
     ]
    }
   ],
   "source": [
    "lst2.append(5) # append a new element to end of the list\n",
    "print(lst2)\n",
    "\n",
    "lst2.pop(3) # remove the last element fo the list\n",
    "print(lst2)\n",
    "\n",
    "lst2[2] = 100 # list is mutable\n",
    "print(lst2)"
   ]
  },
  {
   "cell_type": "code",
   "execution_count": 100,
   "metadata": {
    "colab": {
     "base_uri": "https://localhost:8080/",
     "height": 85
    },
    "colab_type": "code",
    "executionInfo": {
     "elapsed": 6222,
     "status": "ok",
     "timestamp": 1552752999195,
     "user": {
      "displayName": "Arthur M",
      "photoUrl": "",
      "userId": "16377123886564016720"
     },
     "user_tz": 420
    },
    "id": "QjQZR_ST5hN_",
    "outputId": "fa634260-cbfd-4b74-c4b2-5f8296369c0e"
   },
   "outputs": [
    {
     "name": "stdout",
     "output_type": "stream",
     "text": [
      "1\n",
      "5\n",
      "4\n",
      "[1, 2, 100, 5, 'one', 2, 'three', 4]\n"
     ]
    }
   ],
   "source": [
    "print(lst2[0]) # list indexing\n",
    "print(lst2[-1]) # negative index, access from end of list\n",
    "print(len(lst2)) # the length of list\n",
    "print(lst2 + lst3) # list concatenation"
   ]
  },
  {
   "cell_type": "code",
   "execution_count": 101,
   "metadata": {
    "colab": {
     "base_uri": "https://localhost:8080/",
     "height": 289
    },
    "colab_type": "code",
    "executionInfo": {
     "elapsed": 6211,
     "status": "ok",
     "timestamp": 1552752999196,
     "user": {
      "displayName": "Arthur M",
      "photoUrl": "",
      "userId": "16377123886564016720"
     },
     "user_tz": 420
    },
    "id": "4T4xLKXtLv2T",
    "outputId": "733ba291-e21c-42c2-b3bc-91b6ecc40a5c"
   },
   "outputs": [
    {
     "name": "stdout",
     "output_type": "stream",
     "text": [
      "['lst3', 2, 100, 5]\n",
      "['lst2', 2, 100, 5]\n",
      "['lst4', 2, 100, 5]\n",
      "\n",
      "\n",
      "[['this', 'is', 'nested', 'list'], 2, 100, 5]\n",
      "\n",
      "\n",
      "Shallow Copy original list: \n",
      "[['this', 'is', 'magic', 'list'], 2, 100, 5]\n",
      "[['this', 'is', 'magic', 'list'], 2, 100, 5]\n",
      "\n",
      "\n",
      "Deep Copy original copy:\n",
      "lst2: [['this', 'is', 'nested', 'list'], 2, 100, 5]\n",
      "lst6: [['this', 'is', 'magic', 'list'], 2, 100, 5]\n"
     ]
    }
   ],
   "source": [
    "# (Advanced)lst3 = lst2[:] \n",
    "# By using this way, lst3 is a deep copy of lst2\n",
    "# When changing one of the value of lst3, the lst2 will not be changed\n",
    "lst3 = lst2[:] # copy\n",
    "lst3[0] = 'lst3'\n",
    "\n",
    "lst4 = lst2.copy() # copy\n",
    "lst4[0] = 'lst4'\n",
    "\n",
    "lst5 = lst2 # reference\n",
    "lst5[0] = 'lst2'\n",
    "\n",
    "\n",
    "print(lst3)\n",
    "print(lst2)\n",
    "print(lst4)\n",
    "print('\\n')\n",
    "\n",
    "lst2[0] = ['this', 'is', 'nested', 'list'] # put a list into a list\n",
    "print(lst2) # original list\n",
    "print('\\n')\n",
    "\n",
    "# (Advanced+) shallow copy vs deep copy\n",
    "lst6 = lst2[:]\n",
    "lst6[0][2] = 'magic'\n",
    "print('Shallow Copy original list: ')\n",
    "print(lst2) # original list\n",
    "print(lst6)\n",
    "print('\\n')\n",
    "\n",
    "import copy\n",
    "lst2[0] = ['this', 'is', 'nested', 'list'] # put a list into a list\n",
    "lst6 = copy.deepcopy(lst2)\n",
    "lst6[0][2] = 'magic'\n",
    "print('Deep Copy original copy:')\n",
    "print('lst2: ' + str(lst2)) # original list\n",
    "print('lst6: ' + str(lst6)) "
   ]
  },
  {
   "cell_type": "code",
   "execution_count": 102,
   "metadata": {
    "colab": {
     "base_uri": "https://localhost:8080/",
     "height": 34
    },
    "colab_type": "code",
    "executionInfo": {
     "elapsed": 6198,
     "status": "ok",
     "timestamp": 1552752999197,
     "user": {
      "displayName": "Arthur M",
      "photoUrl": "",
      "userId": "16377123886564016720"
     },
     "user_tz": 420
    },
    "id": "Ml2j42Th-jJL",
    "outputId": "76843a8f-7625-4b12-8eb1-ff47f570aa09"
   },
   "outputs": [
    {
     "name": "stdout",
     "output_type": "stream",
     "text": [
      "[1, 22]\n"
     ]
    }
   ],
   "source": [
    "a = [1, 22]\n",
    "b = a[:]\n",
    "b[0] = 3\n",
    "\n",
    "print(a)"
   ]
  },
  {
   "cell_type": "markdown",
   "metadata": {
    "colab_type": "text",
    "id": "s4aKfipipd4g"
   },
   "source": [
    "**Slicing**"
   ]
  },
  {
   "cell_type": "code",
   "execution_count": 103,
   "metadata": {
    "colab": {
     "base_uri": "https://localhost:8080/",
     "height": 221
    },
    "colab_type": "code",
    "executionInfo": {
     "elapsed": 6186,
     "status": "ok",
     "timestamp": 1552752999197,
     "user": {
      "displayName": "Arthur M",
      "photoUrl": "",
      "userId": "16377123886564016720"
     },
     "user_tz": 420
    },
    "id": "VrVGJGgC58wC",
    "outputId": "73e396f4-f7c6-41b5-d570-1d496b74e62c"
   },
   "outputs": [
    {
     "name": "stdout",
     "output_type": "stream",
     "text": [
      "<class 'range'>\n",
      "<class 'list'>\n",
      "[0, 1, 2, 3, 4, 5]\n",
      "[0, 1, 2, 3, 4, 5]\n",
      "[1, 2, 3, 4, 5]\n",
      "[0, 1, 2, 3]\n",
      "[0, 1, 2, 3, 4, 5]\n",
      "[0, 1, 2, 3, 4]\n",
      "[5]\n",
      "[0, 2, 4]\n",
      "[5, 4, 3, 2, 1, 0]\n",
      "[0, 1, 3, 2, 4, 5]\n"
     ]
    }
   ],
   "source": [
    "lst = range(6) # create an list of numbers using built-in function range\n",
    "print(type(lst)) # class 'range'\n",
    "\n",
    "lst = list(lst) # change to list\n",
    "print(type(lst)) # class 'list'\n",
    "\n",
    "# [start(inclusive) : end(exclusive) : step]\n",
    "print(lst) # [0, 1, 2, 3, 4, 5]\n",
    "print(lst[0:6]) # index from 0 to 5, [0, 1, 2, 3, 4, 5]\n",
    "print(lst[1:]) # index from 1 to the end, [1, 2, 3, 4, 5]\n",
    "print(lst[:4]) # index from start to 4, [0, 1, 2, 3]\n",
    "print(lst[:]) # the whole list, [0, 1, 2, 3, 4, 5]\n",
    "print(lst[:-1]) # negative index slicing, [0, 1, 2, 3, 4]\n",
    "print(lst[-1:]) # negative index slicing, [5]\n",
    "print(lst[::2]) # change index step to 2, [0, 2, 4]\n",
    "print(lst[::-1]) # reverse order, [5, 4, 3, 2, 1, 0], common usage\n",
    "\n",
    "lst[2:4] = [3, 2] # modify the values by slicing\n",
    "print(lst) # [0, 1, 3, 2, 4, 5]"
   ]
  },
  {
   "cell_type": "code",
   "execution_count": 104,
   "metadata": {
    "colab": {
     "base_uri": "https://localhost:8080/",
     "height": 51
    },
    "colab_type": "code",
    "executionInfo": {
     "elapsed": 6172,
     "status": "ok",
     "timestamp": 1552752999198,
     "user": {
      "displayName": "Arthur M",
      "photoUrl": "",
      "userId": "16377123886564016720"
     },
     "user_tz": 420
    },
    "id": "v-7Q4Irwu0WH",
    "outputId": "c3edb539-98ea-4bc0-b0c2-54270363e169"
   },
   "outputs": [
    {
     "name": "stdout",
     "output_type": "stream",
     "text": [
      "[0, 1, 3, 2, 4, 5]\n",
      "[0, 3, 4]\n"
     ]
    }
   ],
   "source": [
    "print(lst)\n",
    "print(lst[0:6:2]) "
   ]
  },
  {
   "cell_type": "code",
   "execution_count": 105,
   "metadata": {
    "colab": {
     "base_uri": "https://localhost:8080/",
     "height": 68
    },
    "colab_type": "code",
    "executionInfo": {
     "elapsed": 6155,
     "status": "ok",
     "timestamp": 1552752999198,
     "user": {
      "displayName": "Arthur M",
      "photoUrl": "",
      "userId": "16377123886564016720"
     },
     "user_tz": 420
    },
    "id": "AB4kHoZ5-Quo",
    "outputId": "566d22f9-e44a-40ab-a210-45de37965190"
   },
   "outputs": [
    {
     "name": "stdout",
     "output_type": "stream",
     "text": [
      "Hello World!\n",
      "Hello World!\n",
      "el\n"
     ]
    }
   ],
   "source": [
    "ss = 'Hello World!' # initialize a string\n",
    "print(ss)\n",
    "\n",
    "print(ss[:]) # the whole list\n",
    "print(ss[1:3]) # index from 1 to 2"
   ]
  },
  {
   "cell_type": "markdown",
   "metadata": {
    "colab_type": "text",
    "id": "jZTphP3Spw9-"
   },
   "source": [
    "**Looping**"
   ]
  },
  {
   "cell_type": "code",
   "execution_count": 106,
   "metadata": {
    "colab": {
     "base_uri": "https://localhost:8080/",
     "height": 85
    },
    "colab_type": "code",
    "executionInfo": {
     "elapsed": 6141,
     "status": "ok",
     "timestamp": 1552752999199,
     "user": {
      "displayName": "Arthur M",
      "photoUrl": "",
      "userId": "16377123886564016720"
     },
     "user_tz": 420
    },
    "id": "ZSpQ3zyL-OO6",
    "outputId": "5130e717-4b38-46cf-b6bf-347795dcb683"
   },
   "outputs": [
    {
     "name": "stdout",
     "output_type": "stream",
     "text": [
      "ML\n",
      "Stat\n",
      "Coding\n",
      "Business\n"
     ]
    }
   ],
   "source": [
    "# basic loop\n",
    "skills = ['ML', 'Stat', 'Coding', 'Business']\n",
    "for skill in skills:\n",
    "  print(skill)"
   ]
  },
  {
   "cell_type": "code",
   "execution_count": 107,
   "metadata": {
    "colab": {
     "base_uri": "https://localhost:8080/",
     "height": 85
    },
    "colab_type": "code",
    "executionInfo": {
     "elapsed": 6123,
     "status": "ok",
     "timestamp": 1552752999199,
     "user": {
      "displayName": "Arthur M",
      "photoUrl": "",
      "userId": "16377123886564016720"
     },
     "user_tz": 420
    },
    "id": "Yug35Gu5CG93",
    "outputId": "914f23f1-de0a-4f4f-f924-e80a0cec8060"
   },
   "outputs": [
    {
     "name": "stdout",
     "output_type": "stream",
     "text": [
      "0 : ML\n",
      "1 : Stat\n",
      "2 : Coding\n",
      "3 : Business\n"
     ]
    }
   ],
   "source": [
    "# enumerate, bind index with list element\n",
    "# [(0, 'ML'), (1, 'Stat')..]\n",
    "skills = ['ML', 'Stat', 'Coding', 'Business']\n",
    "for idx, skill in enumerate(skills):\n",
    "  print('{idx_} : {skill_}'.format(skill_ = skill, idx_ = idx))"
   ]
  },
  {
   "cell_type": "code",
   "execution_count": 108,
   "metadata": {
    "colab": {
     "base_uri": "https://localhost:8080/",
     "height": 68
    },
    "colab_type": "code",
    "executionInfo": {
     "elapsed": 6490,
     "status": "ok",
     "timestamp": 1552752999578,
     "user": {
      "displayName": "Arthur M",
      "photoUrl": "",
      "userId": "16377123886564016720"
     },
     "user_tz": 420
    },
    "id": "z5wViKNMCww7",
    "outputId": "13be63b3-a2cb-461d-d859-037660859a99"
   },
   "outputs": [
    {
     "name": "stdout",
     "output_type": "stream",
     "text": [
      "[0, 1, 2, 3, 4, 5]\n",
      "[0, 1, 4, 9, 16, 25]\n",
      "[0, 1, 4, 9, 16, 25]\n"
     ]
    }
   ],
   "source": [
    "# list comprehension\n",
    "nums = list(range(6))\n",
    "print(nums)\n",
    "\n",
    "lst = [x ** 2 for x in nums]\n",
    "print(lst)\n",
    "\n",
    "# same as list comprehension\n",
    "lst_temp = []\n",
    "for x in nums:\n",
    "  lst_temp.append(x ** 2)\n",
    "print(lst_temp)"
   ]
  },
  {
   "cell_type": "markdown",
   "metadata": {
    "colab_type": "text",
    "id": "SAAZ2d7CpUJO"
   },
   "source": [
    "# **Dictionary**\n",
    "\n",
    "{key: value} \n",
    "\n",
    "key-value pairs"
   ]
  },
  {
   "cell_type": "code",
   "execution_count": 109,
   "metadata": {
    "colab": {
     "base_uri": "https://localhost:8080/",
     "height": 136
    },
    "colab_type": "code",
    "executionInfo": {
     "elapsed": 6473,
     "status": "ok",
     "timestamp": 1552752999580,
     "user": {
      "displayName": "Arthur M",
      "photoUrl": "",
      "userId": "16377123886564016720"
     },
     "user_tz": 420
    },
    "id": "Ugbee1XSHcrQ",
    "outputId": "8576ec6d-cca8-4f52-aafb-15ef54f2f1b7"
   },
   "outputs": [
    {
     "name": "stdout",
     "output_type": "stream",
     "text": [
      "1\n",
      "90\n",
      "True\n",
      "70\n",
      "current score: 1\n",
      "afterwards: 100\n"
     ]
    },
    {
     "data": {
      "text/plain": [
       "70"
      ]
     },
     "execution_count": 109,
     "metadata": {
      "tags": []
     },
     "output_type": "execute_result"
    }
   ],
   "source": [
    "skills = ['ML', 'Stat', 'Coding', 'Business']\n",
    "scores = [90, 80, 1, 59]\n",
    "\n",
    "print(scores[skills.index('Coding')])\n",
    "\n",
    "score_dict = {'ML': 90, 'Stat': 80, 'Coding': 1, 'Business': 59} # create a dictionary\n",
    "print(score_dict['ML']) # get ML score\n",
    "print('Stat' in score_dict) # check if 'Stat' in the dictionary\n",
    "\n",
    "score_dict['Spark'] = 70 # Add a new key-value pair to the dictionary\n",
    "print(score_dict['Spark'])\n",
    "\n",
    "print(\"current score: %d\" % score_dict['Coding'])\n",
    "score_dict['Coding'] = 100 # Modify the existing value in the dictionary\n",
    "print(\"afterwards: \" + str(score_dict['Coding']))\n",
    "\n",
    "score_dict.pop('Spark')"
   ]
  },
  {
   "cell_type": "code",
   "execution_count": 110,
   "metadata": {
    "colab": {
     "base_uri": "https://localhost:8080/",
     "height": 51
    },
    "colab_type": "code",
    "executionInfo": {
     "elapsed": 6452,
     "status": "ok",
     "timestamp": 1552752999580,
     "user": {
      "displayName": "Arthur M",
      "photoUrl": "",
      "userId": "16377123886564016720"
     },
     "user_tz": 420
    },
    "id": "-iWEzW5EO4X1",
    "outputId": "367354f3-0cd9-476d-d5b0-b4ea1dd78f3a"
   },
   "outputs": [
    {
     "name": "stdout",
     "output_type": "stream",
     "text": [
      "{0: 0, 1: 1, 2: 4, 3: 3, 4: 16, 5: 5}\n",
      "16\n"
     ]
    }
   ],
   "source": [
    "# dictionary comprehension\n",
    "num_dict={x: x**2 if x % 2 == 0 else x for x in range(6)} # create dictionary\n",
    "\n",
    "# for x in range(6):\n",
    "#   if x%2 == 0:\n",
    "#     x ** 2\n",
    "#   else:\n",
    "#     x\n",
    "\n",
    "print(num_dict)\n",
    "print(num_dict[4])"
   ]
  },
  {
   "cell_type": "code",
   "execution_count": 111,
   "metadata": {
    "colab": {
     "base_uri": "https://localhost:8080/",
     "height": 85
    },
    "colab_type": "code",
    "executionInfo": {
     "elapsed": 6435,
     "status": "ok",
     "timestamp": 1552752999581,
     "user": {
      "displayName": "Arthur M",
      "photoUrl": "",
      "userId": "16377123886564016720"
     },
     "user_tz": 420
    },
    "id": "HOIo9N4QR3Lr",
    "outputId": "a6c1eb92-4e7f-4a1b-f57e-576dc808a513"
   },
   "outputs": [
    {
     "name": "stdout",
     "output_type": "stream",
     "text": [
      "90\n",
      "80\n",
      "100\n",
      "59\n"
     ]
    }
   ],
   "source": [
    "# loop over dictionary\n",
    "for skill in score_dict.values():\n",
    "  print(skill)\n",
    "  \n",
    "#   score = score_dict[skill]\n",
    "#   print(\"{} : {}\".format(skill, score))"
   ]
  },
  {
   "cell_type": "markdown",
   "metadata": {
    "colab_type": "text",
    "id": "eqk3BHjRSbU1"
   },
   "source": [
    "**Set**\n",
    "\n",
    "A set is an unordered collection of *distinct* elements. "
   ]
  },
  {
   "cell_type": "code",
   "execution_count": 112,
   "metadata": {
    "colab": {
     "base_uri": "https://localhost:8080/",
     "height": 187
    },
    "colab_type": "code",
    "executionInfo": {
     "elapsed": 6420,
     "status": "ok",
     "timestamp": 1552752999582,
     "user": {
      "displayName": "Arthur M",
      "photoUrl": "",
      "userId": "16377123886564016720"
     },
     "user_tz": 420
    },
    "id": "oK4rUVUMUZGe",
    "outputId": "73b8b8d5-b53a-4648-e09e-b928bc488a32"
   },
   "outputs": [
    {
     "name": "stdout",
     "output_type": "stream",
     "text": [
      "True\n",
      "False\n",
      "{'ML', 'Stat', 'Coding', 'Spark', 'Business'}\n",
      "{'ML', 'Stat', 'Coding', 'Business'}\n",
      "ML : 0\n",
      "Stat : 1\n",
      "Coding : 2\n",
      "Business : 3\n",
      "<class 'set'>\n",
      "{'ML', 'Stat', 'Coding', 'Business'}\n"
     ]
    }
   ],
   "source": [
    "skills = {'ML', 'Stat', 'Coding', 'Business'}\n",
    "skills_list = ['ML', 'Stat', 'Coding', 'Business']\n",
    "\n",
    "\n",
    "\n",
    "print('Business' in skills) # check if an element is in a set\n",
    "print('Spark' in skills) # False\n",
    "\n",
    "skills.add('Spark') # add an element\n",
    "print(skills)\n",
    "skills.remove('Spark') # remove an element\n",
    "print(skills)\n",
    "\n",
    "# loop over a set\n",
    "for idx, skill in enumerate(skills):\n",
    "  print(f\"{skill} : {idx}\")\n",
    "\n",
    "# set comprehension\n",
    "nums = {num for num in range(6)}\n",
    "print(type(nums)) # class 'set'\n",
    "\n",
    "print(skills)"
   ]
  },
  {
   "cell_type": "markdown",
   "metadata": {
    "colab_type": "text",
    "id": "AdJn4-B9Sg29"
   },
   "source": [
    "**Tuple**\n",
    "\n",
    "A tuple is an (immutable) ordered list of values. A tuple is in many ways similar to a list; one of the most important differences is that tuples can be used as keys in dictionaries and as elements of sets, while lists cannot."
   ]
  },
  {
   "cell_type": "code",
   "execution_count": 113,
   "metadata": {
    "colab": {
     "base_uri": "https://localhost:8080/",
     "height": 51
    },
    "colab_type": "code",
    "executionInfo": {
     "elapsed": 6407,
     "status": "ok",
     "timestamp": 1552752999582,
     "user": {
      "displayName": "Arthur M",
      "photoUrl": "",
      "userId": "16377123886564016720"
     },
     "user_tz": 420
    },
    "id": "wKb15o_EgGew",
    "outputId": "65bb42d1-e292-4656-ec50-49d330370e71"
   },
   "outputs": [
    {
     "name": "stdout",
     "output_type": "stream",
     "text": [
      "<class 'tuple'>\n",
      "{('Laidata', 0): 'ML', ('Laidata', 1): 'Stat', ('Laidata', 2): 'Coding', ('Laidata', 3): 'Business'}\n"
     ]
    }
   ],
   "source": [
    "t = (21, 42) # create a tuple\n",
    "print(type(t))\n",
    "\n",
    "skills = ['ML', 'Stat', 'Coding', 'Business']\n",
    "t_dict = {('Laidata', idx) : skill for idx, skill in enumerate(skills)} # create a dictionary with tuple keys\n",
    "print(t_dict)\n"
   ]
  },
  {
   "cell_type": "markdown",
   "metadata": {
    "colab_type": "text",
    "id": "lz14OcSJhpCK"
   },
   "source": [
    "##Numpy\n",
    "\n",
    "NumPy is the fundamental package for scientific computing in Python. It is a Python library that provides a multidimensional array object, various derived objects (such as masked arrays and matrices), and an assortment of routines for fast operations on arrays.\n",
    "\n",
    "At the core of the NumPy package, is the ndarray object. This encapsulates n-dimensional arrays of homogeneous data types, with many operations being performed in compiled code for performance. \n"
   ]
  },
  {
   "cell_type": "markdown",
   "metadata": {
    "colab_type": "text",
    "id": "vMQbELzw-Z9u"
   },
   "source": [
    "**Arrays**"
   ]
  },
  {
   "cell_type": "code",
   "execution_count": 114,
   "metadata": {
    "colab": {
     "base_uri": "https://localhost:8080/",
     "height": 170
    },
    "colab_type": "code",
    "executionInfo": {
     "elapsed": 6370,
     "status": "ok",
     "timestamp": 1552752999583,
     "user": {
      "displayName": "Arthur M",
      "photoUrl": "",
      "userId": "16377123886564016720"
     },
     "user_tz": 420
    },
    "id": "Op4nNL_B-efZ",
    "outputId": "80595119-7c58-41fb-f927-da08d6ab828b"
   },
   "outputs": [
    {
     "name": "stdout",
     "output_type": "stream",
     "text": [
      "<class 'numpy.ndarray'>\n",
      "[[1 2 3]\n",
      " [4 5 6]]\n",
      "[1 2 3]\n",
      "2\n",
      "(2, 3)\n",
      "2\n",
      "int64\n",
      "6\n"
     ]
    }
   ],
   "source": [
    "lst = [[1, 2, 3], [4, 5, 6]] # 2x3\n",
    "a = np.array(lst) # create array from lists\n",
    "print(type(a)) # class 'numpy.ndarray'\n",
    "print(a)\n",
    "print(a[0]) # first row\n",
    "print(a[0][1]) # first row, second column\n",
    "print(a.shape) # 2 x 3\n",
    "print(a.ndim) # 2 dimensions\n",
    "print(a.dtype) # data type of the elements of array\n",
    "print(a.size) # total number of elements in the matrix\n"
   ]
  },
  {
   "cell_type": "code",
   "execution_count": 115,
   "metadata": {
    "colab": {
     "base_uri": "https://localhost:8080/",
     "height": 340
    },
    "colab_type": "code",
    "executionInfo": {
     "elapsed": 6351,
     "status": "ok",
     "timestamp": 1552752999583,
     "user": {
      "displayName": "Arthur M",
      "photoUrl": "",
      "userId": "16377123886564016720"
     },
     "user_tz": 420
    },
    "id": "9ryDCfxSFdEp",
    "outputId": "12bdfd0b-4c62-4dcd-dfe9-96e3ee82dc7f"
   },
   "outputs": [
    {
     "name": "stdout",
     "output_type": "stream",
     "text": [
      "<class 'numpy.ndarray'>\n",
      "[0. 2. 4. 6. 8.]\n",
      "(5,)\n",
      "<class 'numpy.ndarray'>\n",
      "[1.5   1.625 1.75  1.875 2.    2.125 2.25  2.375 2.5  ]\n",
      "(9,)\n",
      "<class 'numpy.ndarray'>\n",
      "[[0. 0. 0.]\n",
      " [0. 0. 0.]]\n",
      "<class 'numpy.ndarray'>\n",
      "[[1. 1. 1.]\n",
      " [1. 1. 1.]]\n",
      "<class 'numpy.ndarray'>\n",
      "[[9 9 9]\n",
      " [9 9 9]]\n",
      "<class 'numpy.ndarray'>\n",
      "[[1. 0. 0.]\n",
      " [0. 1. 0.]\n",
      " [0. 0. 1.]]\n"
     ]
    }
   ],
   "source": [
    "b = np.arange(0, 10, 2, dtype='float') # create 1d array, [start, stop)\n",
    "print(type(b)) # class 'numpy.ndarray'\n",
    "print(b)\n",
    "print(b.shape)\n",
    "\n",
    "c = np.linspace(1.5, 2.5, 9) # create 1d array with float, [start, stop]\n",
    "print(type(c)) # class 'numpy.ndarray'\n",
    "print(c)\n",
    "print(c.shape)\n",
    "\n",
    "d = np.zeros((2, 3)) # all zeros\n",
    "print(type(d)) # class 'numpy.ndarray'\n",
    "print(d)\n",
    "\n",
    "e = np.ones((2, 3)) # all ones\n",
    "print(type(e)) # class 'numpy.ndarray'\n",
    "print(e)\n",
    "\n",
    "f = np.full((2, 3), 9) # constant matrix\n",
    "print(type(f)) # class 'numpy.ndarray'\n",
    "print(f)\n",
    "\n",
    "g = np.eye(3) # 3 x 3 identity matrix\n",
    "print(type(g)) # class 'numpy.ndarray'\n",
    "print(g)"
   ]
  },
  {
   "cell_type": "code",
   "execution_count": 116,
   "metadata": {
    "colab": {
     "base_uri": "https://localhost:8080/",
     "height": 459
    },
    "colab_type": "code",
    "executionInfo": {
     "elapsed": 6332,
     "status": "ok",
     "timestamp": 1552752999584,
     "user": {
      "displayName": "Arthur M",
      "photoUrl": "",
      "userId": "16377123886564016720"
     },
     "user_tz": 420
    },
    "id": "alXll15QFhZj",
    "outputId": "f5c2a75d-36d5-4feb-e594-5c9f34e9111c"
   },
   "outputs": [
    {
     "name": "stdout",
     "output_type": "stream",
     "text": [
      "(5, 1)\n",
      "[[1.5  ]\n",
      " [1.625]\n",
      " [1.75 ]\n",
      " [1.875]\n",
      " [2.   ]\n",
      " [2.125]\n",
      " [2.25 ]\n",
      " [2.375]\n",
      " [2.5  ]]\n",
      "(9, 1)\n",
      "[[[0.]\n",
      "  [0.]\n",
      "  [0.]]\n",
      "\n",
      " [[0.]\n",
      "  [0.]\n",
      "  [0.]]]\n",
      "(2, 3, 1)\n",
      "[[   0    1    2 ...   97   98   99]\n",
      " [ 100  101  102 ...  197  198  199]\n",
      " [ 200  201  202 ...  297  298  299]\n",
      " ...\n",
      " [9700 9701 9702 ... 9797 9798 9799]\n",
      " [9800 9801 9802 ... 9897 9898 9899]\n",
      " [9900 9901 9902 ... 9997 9998 9999]]\n"
     ]
    }
   ],
   "source": [
    "h = b.reshape(5, 1)\n",
    "print(h.shape)\n",
    "\n",
    "i = c.reshape(-1, 1)\n",
    "print(i)\n",
    "print(i.shape)\n",
    "\n",
    "j = d.reshape((2, 3, 1))\n",
    "print(j)\n",
    "print(j.shape)\n",
    "\n",
    "# (Advanced)show all the values\n",
    "# np.set_printoptions(threshold = np.nan) \n",
    "print(np.arange(10000).reshape((100, 100)))\n"
   ]
  },
  {
   "cell_type": "markdown",
   "metadata": {
    "colab_type": "text",
    "id": "pAkR5CmFMBQJ"
   },
   "source": [
    "**Indexing and Slicing**"
   ]
  },
  {
   "cell_type": "code",
   "execution_count": 117,
   "metadata": {
    "colab": {
     "base_uri": "https://localhost:8080/",
     "height": 102
    },
    "colab_type": "code",
    "executionInfo": {
     "elapsed": 6316,
     "status": "ok",
     "timestamp": 1552752999584,
     "user": {
      "displayName": "Arthur M",
      "photoUrl": "",
      "userId": "16377123886564016720"
     },
     "user_tz": 420
    },
    "id": "OH23HeknMHZF",
    "outputId": "5588afee-f67f-479c-f68c-d855290546b5"
   },
   "outputs": [
    {
     "name": "stdout",
     "output_type": "stream",
     "text": [
      "[[2 3]\n",
      " [6 7]]\n",
      "[5 6 7 8]\n",
      "[ 2  6 10]\n",
      "6\n"
     ]
    }
   ],
   "source": [
    "a = np.array([[1,2,3,4], [5,6,7,8], [9,10,11,12]])\n",
    "\n",
    "# Use slicing to pull out the subarray consisting of the first 2 rows\n",
    "# and columns 1 and 2; b is the following array of shape (2, 2):\n",
    "# [[2 3]\n",
    "#  [6 7]]\n",
    "b = a[:2, 1:3]\n",
    "print(b)\n",
    "print(a[1]) # access a row\n",
    "print(a[:, 1]) # access a col\n",
    "print(a[1, 1]) # access single value"
   ]
  },
  {
   "cell_type": "code",
   "execution_count": 118,
   "metadata": {
    "colab": {
     "base_uri": "https://localhost:8080/",
     "height": 68
    },
    "colab_type": "code",
    "executionInfo": {
     "elapsed": 6295,
     "status": "ok",
     "timestamp": 1552752999585,
     "user": {
      "displayName": "Arthur M",
      "photoUrl": "",
      "userId": "16377123886564016720"
     },
     "user_tz": 420
    },
    "id": "9QRGj-anRJnq",
    "outputId": "4b81a38f-36d3-4524-b407-28f7f3d30960"
   },
   "outputs": [
    {
     "name": "stdout",
     "output_type": "stream",
     "text": [
      "[1 2 3 4] (4,)\n",
      "[[1 2 3 4]] (1, 4)\n",
      "[[1 2 3 4]] (1, 4)\n"
     ]
    }
   ],
   "source": [
    "a = np.array([[1,2,3,4], [5,6,7,8], [9,10,11,12]])\n",
    "\n",
    "# (Advanced)Two ways of accessing the data in the middle row of the array.\n",
    "# Mixing integer indexing with slices yields an array of lower rank,\n",
    "# while using only slices yields an array of the same rank as the\n",
    "# original array:\n",
    "r1 = a[0, :] # rank 1 view of the first row\n",
    "r2 = a[0:1, :] # rank 2 view of the first row \n",
    "print(r1, r1.shape)\n",
    "print(r2, r2.shape)\n",
    "\n",
    "r1 = r1.reshape(-1, r1.shape[0])\n",
    "print(r1, r1.shape)"
   ]
  },
  {
   "cell_type": "code",
   "execution_count": 119,
   "metadata": {
    "colab": {
     "base_uri": "https://localhost:8080/",
     "height": 170
    },
    "colab_type": "code",
    "executionInfo": {
     "elapsed": 6273,
     "status": "ok",
     "timestamp": 1552752999586,
     "user": {
      "displayName": "Arthur M",
      "photoUrl": "",
      "userId": "16377123886564016720"
     },
     "user_tz": 420
    },
    "id": "zMANS-DrSzRw",
    "outputId": "c4f1d46f-bd20-4aa6-c67a-2cb42f44f443"
   },
   "outputs": [
    {
     "name": "stdout",
     "output_type": "stream",
     "text": [
      "[[ True  True  True  True]\n",
      " [False False False False]\n",
      " [False False False False]]\n",
      "[[False False False False]\n",
      " [ True  True  True  True]\n",
      " [ True  True False False]]\n",
      "[1 2 3 4]\n",
      "[ 5  6  7  8  9 10]\n",
      "[6 7 8 9]\n"
     ]
    }
   ],
   "source": [
    "# boolean masking\n",
    "import numpy as np\n",
    "\n",
    "a = np.array([[1,2,3,4], [5,6,7,8], [9,10,11,12]])\n",
    "\n",
    "a_idx1 = (a < 5) # return the boolean array that satisfies the conidtion\n",
    "print(a_idx1)\n",
    "a_idx2 = (a >=5) & (a <= 10) # return the boolean array that satisfies the conidtion\n",
    "print(a_idx2)\n",
    "\n",
    "print(a[a_idx1]) # return the corresponding array\n",
    "print(a[a_idx2]) # return the corresponding array\n",
    "\n",
    "print(a[(a > 5) & (a < 10)]) # single statement\n"
   ]
  },
  {
   "cell_type": "markdown",
   "metadata": {
    "colab_type": "text",
    "id": "8PATvmrlHWBE"
   },
   "source": [
    "**Math**"
   ]
  },
  {
   "cell_type": "code",
   "execution_count": 120,
   "metadata": {
    "colab": {
     "base_uri": "https://localhost:8080/",
     "height": 374
    },
    "colab_type": "code",
    "executionInfo": {
     "elapsed": 6262,
     "status": "ok",
     "timestamp": 1552752999591,
     "user": {
      "displayName": "Arthur M",
      "photoUrl": "",
      "userId": "16377123886564016720"
     },
     "user_tz": 420
    },
    "id": "TxaGALTuHYjN",
    "outputId": "3750c521-1ee0-483b-fde7-2d4d5910f76d"
   },
   "outputs": [
    {
     "name": "stdout",
     "output_type": "stream",
     "text": [
      "(2, 3)\n",
      "[[10 11 12]\n",
      " [13 14 15]]\n",
      "(2, 3)\n",
      "[[1 2 3]\n",
      " [4 5 6]]\n",
      "[[11 13 15]\n",
      " [17 19 21]]\n",
      "[[9 9 9]\n",
      " [9 9 9]]\n",
      "[[11 13 15]\n",
      " [17 19 21]]\n",
      "[[10 22 36]\n",
      " [52 70 90]]\n",
      "[[ 68 167]\n",
      " [ 86 212]]\n",
      "[[ 62  85 108]\n",
      " [ 67  92 117]\n",
      " [ 72  99 126]]\n",
      "[23 25 27]\n",
      "[33 42]\n"
     ]
    }
   ],
   "source": [
    "import numpy as np\n",
    "\n",
    "a = np.array([[10, 11, 12], [13, 14, 15]])\n",
    "print(a.shape)\n",
    "print(a)\n",
    "b = np.arange(1, 7).reshape((2, 3))\n",
    "print(b.shape)\n",
    "print(b)\n",
    "\n",
    "# element-wise calculation:\n",
    "print(a + b)\n",
    "print(a - b)\n",
    "print(np.add(a, b))\n",
    "print(a * b)\n",
    "\n",
    "# Matrix product\n",
    "print(np.dot(a, b.transpose())) # 2x3, 3x2\n",
    "print(a.T.dot(b)) # 3x2, 2x3\n",
    "\n",
    "# calculation along row or column index, calculate by the index of the axis which is set\n",
    "print(np.sum(a, axis = 0)) # sum along row\n",
    "print(np.sum(a, axis = 1)) # sum along column\n"
   ]
  },
  {
   "cell_type": "code",
   "execution_count": 121,
   "metadata": {
    "colab": {
     "base_uri": "https://localhost:8080/",
     "height": 187
    },
    "colab_type": "code",
    "executionInfo": {
     "elapsed": 6248,
     "status": "ok",
     "timestamp": 1552752999592,
     "user": {
      "displayName": "Arthur M",
      "photoUrl": "",
      "userId": "16377123886564016720"
     },
     "user_tz": 420
    },
    "id": "bk4CLmb_Mqjv",
    "outputId": "eae325b3-c938-45ed-a7b9-3e43303c5727"
   },
   "outputs": [
    {
     "name": "stdout",
     "output_type": "stream",
     "text": [
      "[[10 11 12]\n",
      " [13 14 15]] (2, 3)\n",
      "[[1 2 3]\n",
      " [4 5 6]] (2, 3)\n",
      "[[1 4]\n",
      " [2 5]\n",
      " [3 6]] (3, 2)\n"
     ]
    },
    {
     "data": {
      "text/plain": [
       "array([[ 62,  85, 108],\n",
       "       [ 67,  92, 117],\n",
       "       [ 72,  99, 126]])"
      ]
     },
     "execution_count": 121,
     "metadata": {
      "tags": []
     },
     "output_type": "execute_result"
    }
   ],
   "source": [
    "print(a, a.shape)\n",
    "print(b, b.shape)\n",
    "# print(a + b)\n",
    "# print(a - b)\n",
    "# print(np.add(a, b))\n",
    "# 2x3 * 3x2 -> 2x2\n",
    "# 3x2 * 2x3 -> 3x3\n",
    "print(b.T, b.T.shape)\n",
    "\n",
    "a.T.dot(b)\n"
   ]
  },
  {
   "cell_type": "code",
   "execution_count": 122,
   "metadata": {
    "colab": {
     "base_uri": "https://localhost:8080/",
     "height": 153
    },
    "colab_type": "code",
    "executionInfo": {
     "elapsed": 6583,
     "status": "ok",
     "timestamp": 1552752999938,
     "user": {
      "displayName": "Arthur M",
      "photoUrl": "",
      "userId": "16377123886564016720"
     },
     "user_tz": 420
    },
    "id": "Pv_KQJGzK1jF",
    "outputId": "f6111731-fcfd-4f83-8812-1c406c59ee21"
   },
   "outputs": [
    {
     "name": "stdout",
     "output_type": "stream",
     "text": [
      "[[10 11 12]\n",
      " [13 14 15]]\n",
      "[[11 12 13]\n",
      " [14 15 16]]\n",
      "[[10 10 10]\n",
      " [13 13 13]]\n",
      "[[ 9  9  9]\n",
      " [11 11 11]]\n"
     ]
    }
   ],
   "source": [
    "# (Advanced+)broadcasting\n",
    "\n",
    "\n",
    "import numpy as np\n",
    "\n",
    "a = np.array([[10, 11, 12], [13, 14, 15]])\n",
    "print(a)\n",
    "\n",
    "a += 1 # add 1 to all the elements\n",
    "print(a)\n",
    "\n",
    "a += np.array([-1, -2, -3]) # add [-1, -2, -3] to all columns for each row\n",
    "print(a)\n",
    "\n",
    "a += np.array([[-1], [-2]]) # add [[-1], [-2]] to all rows for each column\n",
    "print(a)"
   ]
  },
  {
   "cell_type": "markdown",
   "metadata": {
    "colab_type": "text",
    "id": "OEHlKGFIHDGh"
   },
   "source": [
    "Read more for [broadcasting](https://docs.scipy.org/doc/numpy-1.15.0/user/basics.broadcasting.html)"
   ]
  },
  {
   "cell_type": "code",
   "execution_count": 123,
   "metadata": {
    "colab": {
     "base_uri": "https://localhost:8080/",
     "height": 68
    },
    "colab_type": "code",
    "executionInfo": {
     "elapsed": 6547,
     "status": "ok",
     "timestamp": 1552752999940,
     "user": {
      "displayName": "Arthur M",
      "photoUrl": "",
      "userId": "16377123886564016720"
     },
     "user_tz": 420
    },
    "id": "0FL4pjhLWt-L",
    "outputId": "c505e8a3-fe38-48ce-f254-b21448db1e98"
   },
   "outputs": [
    {
     "name": "stdout",
     "output_type": "stream",
     "text": [
      "[[5 6 7]\n",
      " [6 7 8]\n",
      " [7 8 9]]\n"
     ]
    }
   ],
   "source": [
    "import numpy as np\n",
    "\n",
    "# Two dimensions are compatible when\n",
    "# they are equal, or\n",
    "# one of them is 1\n",
    "a = np.array([1, 2, 3]) # 1x3\n",
    "b = np.array([[4], [5], [6]]) # 3x1\n",
    "\n",
    "print(a + b)"
   ]
  },
  {
   "cell_type": "markdown",
   "metadata": {
    "colab_type": "text",
    "id": "X_3CwBxJX2sr"
   },
   "source": [
    "**Random**"
   ]
  },
  {
   "cell_type": "code",
   "execution_count": 124,
   "metadata": {
    "colab": {
     "base_uri": "https://localhost:8080/",
     "height": 374
    },
    "colab_type": "code",
    "executionInfo": {
     "elapsed": 6524,
     "status": "ok",
     "timestamp": 1552752999941,
     "user": {
      "displayName": "Arthur M",
      "photoUrl": "",
      "userId": "16377123886564016720"
     },
     "user_tz": 420
    },
    "id": "CRoLZLBUX6HZ",
    "outputId": "d57430a0-f36c-498b-f5e6-18c9ac345b39"
   },
   "outputs": [
    {
     "name": "stdout",
     "output_type": "stream",
     "text": [
      "[[0.37454012 0.95071431]\n",
      " [0.73199394 0.59865848]]\n",
      "[[-0.23415337 -0.23413696]\n",
      " [ 1.57921282  0.76743473]]\n",
      "[[5 4]\n",
      " [1 7]]\n",
      "0.8324426408004217\n",
      "[[0.21233911 0.18182497]\n",
      " [0.18340451 0.30424224]]\n",
      "['u' 'o' 'a' 'a' 'i' 'i' 'e' 'o' 'o' 'i']\n",
      "['e' 'u' 'i' 'o' 'o' 'i' 'a' 'u' 'o' 'e']\n",
      "[[89 52  1]\n",
      " [83 91 59]\n",
      " [70 43  7]\n",
      " [46 34 77]\n",
      " [80 35 49]\n",
      " [ 3  1  5]\n",
      " [53  3 53]\n",
      " [92 62 17]\n",
      " [89 43 33]\n",
      " [73 61 99]]\n"
     ]
    }
   ],
   "source": [
    "np.random.seed(42) # same seed can repro the same scenario so it is deterministic\n",
    "\n",
    "print(np.random.rand(2,2)) # Random numbers between [0,1) of shape 2,2\n",
    "print(np.random.randn(2,2)) # Normal distribution with mean=0 and variance=1 of shape 2,2\n",
    "print(np.random.randint(0, 10, size=[2,2])) # Random integers between [0, 10) of shape 2,2\n",
    "print(np.random.random()) # One random number between [0,1)\n",
    "print(np.random.random(size=[2,2])) # Random numbers between [0,1) of shape 2,2\n",
    "print(np.random.choice(['a', 'e', 'i', 'o', 'u'], size=10)) # Pick 10 items from a given list, with equal probability\n",
    "print(np.random.choice(['a', 'e', 'i', 'o', 'u'], size=10, p=[0.3, .1, 0.1, 0.4, 0.1])) # Pick 10 items from a given list with a predefined probability 'p'\n",
    "print(np.random.choice(np.arange(100),size=[10,3],replace=True)) # get 10x3 random samples from [0-99] with replacement "
   ]
  },
  {
   "cell_type": "code",
   "execution_count": 125,
   "metadata": {
    "colab": {
     "base_uri": "https://localhost:8080/",
     "height": 680
    },
    "colab_type": "code",
    "executionInfo": {
     "elapsed": 6506,
     "status": "ok",
     "timestamp": 1552752999942,
     "user": {
      "displayName": "Arthur M",
      "photoUrl": "",
      "userId": "16377123886564016720"
     },
     "user_tz": 420
    },
    "id": "G40xA9H-ZADV",
    "outputId": "5101d690-cc26-479f-9532-e880052e6f4a"
   },
   "outputs": [
    {
     "name": "stdout",
     "output_type": "stream",
     "text": [
      "   sepal_length  sepal_width  petal_length  petal_width species\n",
      "0           5.1          3.5           1.4          0.2  setosa\n",
      "1           4.9          3.0           1.4          0.2  setosa\n",
      "2           4.7          3.2           1.3          0.2  setosa\n",
      "3           4.6          3.1           1.5          0.2  setosa\n",
      "4           5.0          3.6           1.4          0.2  setosa\n",
      "<class 'pandas.core.frame.DataFrame'>\n",
      "RangeIndex: 150 entries, 0 to 149\n",
      "Data columns (total 5 columns):\n",
      "sepal_length    150 non-null float64\n",
      "sepal_width     150 non-null float64\n",
      "petal_length    150 non-null float64\n",
      "petal_width     150 non-null float64\n",
      "species         150 non-null object\n",
      "dtypes: float64(4), object(1)\n",
      "memory usage: 5.9+ KB\n",
      "None\n",
      "<class 'pandas.core.frame.DataFrame'>\n",
      "Int64Index: 112 entries, 73 to 126\n",
      "Data columns (total 5 columns):\n",
      "sepal_length    112 non-null float64\n",
      "sepal_width     112 non-null float64\n",
      "petal_length    112 non-null float64\n",
      "petal_width     112 non-null float64\n",
      "species         112 non-null object\n",
      "dtypes: float64(4), object(1)\n",
      "memory usage: 5.2+ KB\n",
      "None\n",
      "<class 'pandas.core.frame.DataFrame'>\n",
      "Int64Index: 38 entries, 1 to 149\n",
      "Data columns (total 5 columns):\n",
      "sepal_length    38 non-null float64\n",
      "sepal_width     38 non-null float64\n",
      "petal_length    38 non-null float64\n",
      "petal_width     38 non-null float64\n",
      "species         38 non-null object\n",
      "dtypes: float64(4), object(1)\n",
      "memory usage: 1.8+ KB\n",
      "None\n"
     ]
    }
   ],
   "source": [
    "#(Advanced) use random generator to do train/test split\n",
    "\n",
    "url=\"https://gist.githubusercontent.com/curran/a08a1080b88344b0c8a7/raw/d546eaee765268bf2f487608c537c05e22e4b221/iris.csv\"\n",
    "iris = pd.read_csv(url)\n",
    "print(iris.head())\n",
    "print(iris.info())\n",
    "\n",
    "# Split data into training and testing\n",
    "np.random.seed(42)\n",
    "iris_idx = np.arange(iris.shape[0])\n",
    "\n",
    "num_training = int(np.floor(0.75 * iris.shape[0]))\n",
    "iris_train_idx = np.random.choice(iris_idx, size=num_training, replace=False)\n",
    "iris_test_idx = np.delete(iris_idx, iris_train_idx)\n",
    "iris_train = iris.iloc[iris_train_idx]\n",
    "iris_test = iris.iloc[iris_test_idx]\n",
    "\n",
    "print(iris_train.info())\n",
    "print(iris_test.info())\n"
   ]
  },
  {
   "cell_type": "code",
   "execution_count": 126,
   "metadata": {
    "colab": {
     "base_uri": "https://localhost:8080/",
     "height": 391
    },
    "colab_type": "code",
    "executionInfo": {
     "elapsed": 6489,
     "status": "ok",
     "timestamp": 1552752999943,
     "user": {
      "displayName": "Arthur M",
      "photoUrl": "",
      "userId": "16377123886564016720"
     },
     "user_tz": 420
    },
    "id": "Wjib7gOJdcrH",
    "outputId": "ae19ca74-0013-4d81-a988-502bc0d3e488"
   },
   "outputs": [
    {
     "name": "stdout",
     "output_type": "stream",
     "text": [
      "<class 'pandas.core.frame.DataFrame'>\n",
      "Int64Index: 112 entries, 84 to 105\n",
      "Data columns (total 5 columns):\n",
      "sepal_length    112 non-null float64\n",
      "sepal_width     112 non-null float64\n",
      "petal_length    112 non-null float64\n",
      "petal_width     112 non-null float64\n",
      "species         112 non-null object\n",
      "dtypes: float64(4), object(1)\n",
      "memory usage: 5.2+ KB\n",
      "None\n",
      "<class 'pandas.core.frame.DataFrame'>\n",
      "Int64Index: 38 entries, 50 to 142\n",
      "Data columns (total 5 columns):\n",
      "sepal_length    38 non-null float64\n",
      "sepal_width     38 non-null float64\n",
      "petal_length    38 non-null float64\n",
      "petal_width     38 non-null float64\n",
      "species         38 non-null object\n",
      "dtypes: float64(4), object(1)\n",
      "memory usage: 1.8+ KB\n",
      "None\n"
     ]
    }
   ],
   "source": [
    "# (Advanced)use np.random.shuffle\n",
    "iris_idx = np.arange(iris.shape[0])\n",
    "np.random.shuffle(iris_idx)\n",
    "iris.index = iris_idx\n",
    "num_training = int(np.floor(0.75 * iris.shape[0]))\n",
    "iris_train = iris.iloc[:num_training]\n",
    "iris_test = iris.iloc[num_training:]\n",
    "\n",
    "print(iris_train.info())\n",
    "print(iris_test.info())\n"
   ]
  },
  {
   "cell_type": "code",
   "execution_count": 127,
   "metadata": {
    "colab": {
     "base_uri": "https://localhost:8080/",
     "height": 487
    },
    "colab_type": "code",
    "executionInfo": {
     "elapsed": 6911,
     "status": "error",
     "timestamp": 1552753000381,
     "user": {
      "displayName": "Arthur M",
      "photoUrl": "",
      "userId": "16377123886564016720"
     },
     "user_tz": 420
    },
    "id": "yn_LjwBCeR2D",
    "outputId": "e0ff584d-3e9e-4407-ecca-dea8507a469c"
   },
   "outputs": [
    {
     "name": "stdout",
     "output_type": "stream",
     "text": [
      "<class 'pandas.core.frame.DataFrame'>\n",
      "Int64Index: 112 entries, 16 to 148\n",
      "Data columns (total 4 columns):\n",
      "sepal_length    112 non-null float64\n",
      "sepal_width     112 non-null float64\n",
      "petal_length    112 non-null float64\n",
      "petal_width     112 non-null float64\n",
      "dtypes: float64(4)\n",
      "memory usage: 4.4 KB\n",
      "None\n"
     ]
    },
    {
     "ename": "AttributeError",
     "evalue": "ignored",
     "output_type": "error",
     "traceback": [
      "\u001b[0;31m---------------------------------------------------------------------------\u001b[0m",
      "\u001b[0;31mAttributeError\u001b[0m                            Traceback (most recent call last)",
      "\u001b[0;32m<ipython-input-127-979e157a98a7>\u001b[0m in \u001b[0;36m<module>\u001b[0;34m()\u001b[0m\n\u001b[1;32m      7\u001b[0m \u001b[0;34m\u001b[0m\u001b[0m\n\u001b[1;32m      8\u001b[0m \u001b[0mprint\u001b[0m\u001b[0;34m(\u001b[0m\u001b[0mX_train\u001b[0m\u001b[0;34m.\u001b[0m\u001b[0minfo\u001b[0m\u001b[0;34m(\u001b[0m\u001b[0;34m)\u001b[0m\u001b[0;34m)\u001b[0m\u001b[0;34m\u001b[0m\u001b[0;34m\u001b[0m\u001b[0m\n\u001b[0;32m----> 9\u001b[0;31m \u001b[0mprint\u001b[0m\u001b[0;34m(\u001b[0m\u001b[0my_train\u001b[0m\u001b[0;34m.\u001b[0m\u001b[0minfo\u001b[0m\u001b[0;34m(\u001b[0m\u001b[0;34m)\u001b[0m\u001b[0;34m)\u001b[0m\u001b[0;34m\u001b[0m\u001b[0;34m\u001b[0m\u001b[0m\n\u001b[0m",
      "\u001b[0;32m/usr/local/lib/python3.6/dist-packages/pandas/core/generic.py\u001b[0m in \u001b[0;36m__getattr__\u001b[0;34m(self, name)\u001b[0m\n\u001b[1;32m   3612\u001b[0m             \u001b[0;32mif\u001b[0m \u001b[0mname\u001b[0m \u001b[0;32min\u001b[0m \u001b[0mself\u001b[0m\u001b[0;34m.\u001b[0m\u001b[0m_info_axis\u001b[0m\u001b[0;34m:\u001b[0m\u001b[0;34m\u001b[0m\u001b[0;34m\u001b[0m\u001b[0m\n\u001b[1;32m   3613\u001b[0m                 \u001b[0;32mreturn\u001b[0m \u001b[0mself\u001b[0m\u001b[0;34m[\u001b[0m\u001b[0mname\u001b[0m\u001b[0;34m]\u001b[0m\u001b[0;34m\u001b[0m\u001b[0;34m\u001b[0m\u001b[0m\n\u001b[0;32m-> 3614\u001b[0;31m             \u001b[0;32mreturn\u001b[0m \u001b[0mobject\u001b[0m\u001b[0;34m.\u001b[0m\u001b[0m__getattribute__\u001b[0m\u001b[0;34m(\u001b[0m\u001b[0mself\u001b[0m\u001b[0;34m,\u001b[0m \u001b[0mname\u001b[0m\u001b[0;34m)\u001b[0m\u001b[0;34m\u001b[0m\u001b[0;34m\u001b[0m\u001b[0m\n\u001b[0m\u001b[1;32m   3615\u001b[0m \u001b[0;34m\u001b[0m\u001b[0m\n\u001b[1;32m   3616\u001b[0m     \u001b[0;32mdef\u001b[0m \u001b[0m__setattr__\u001b[0m\u001b[0;34m(\u001b[0m\u001b[0mself\u001b[0m\u001b[0;34m,\u001b[0m \u001b[0mname\u001b[0m\u001b[0;34m,\u001b[0m \u001b[0mvalue\u001b[0m\u001b[0;34m)\u001b[0m\u001b[0;34m:\u001b[0m\u001b[0;34m\u001b[0m\u001b[0;34m\u001b[0m\u001b[0m\n",
      "\u001b[0;31mAttributeError\u001b[0m: 'Series' object has no attribute 'info'"
     ]
    }
   ],
   "source": [
    "# (Advanced)use sklearn to spilt data\n",
    "from sklearn.model_selection import train_test_split\n",
    "\n",
    "X = iris.drop('species', axis = 1)\n",
    "y = iris['species']\n",
    "\n",
    "X_train, X_test, y_train, y_test = train_test_split(X, y, test_size=0.25, random_state=21, stratify=y)\n",
    "\n",
    "print(X_train.info())"
   ]
  },
  {
   "cell_type": "markdown",
   "metadata": {
    "colab_type": "text",
    "id": "S7LQMWhigQVD"
   },
   "source": [
    "##Pandas\n",
    "\n",
    "**pandas** is a Python package providing fast, flexible, and expressive data structures designed to make working with “relational” or “labeled” data both easy and intuitive. It aims to be the fundamental high-level building block for doing practical, real world data analysis in Python. Additionally, it has the broader goal of becoming **the most powerful and flexible open source data analysis / manipulation tool available in any language**. It is already well on its way toward this goal.\n",
    "\n",
    "The two primary data structures of pandas, **Series (1-dimensional)** and **DataFrame (2-dimensional)**, handle the vast majority of typical use cases in finance, statistics, social science, and many areas of engineering. pandas is built on top of **NumPy** and is intended to integrate well within a scientific computing environment with many other 3rd party libraries."
   ]
  },
  {
   "cell_type": "markdown",
   "metadata": {
    "colab_type": "text",
    "id": "MFzq7-k8Pz_7"
   },
   "source": [
    "**Load Data**"
   ]
  },
  {
   "cell_type": "code",
   "execution_count": 0,
   "metadata": {
    "colab": {},
    "colab_type": "code",
    "id": "Y6ehD29wPypS"
   },
   "outputs": [],
   "source": [
    "import pandas as pd\n",
    "# read data from csv file\n",
    "# pd.read_csv(\"../data_folder/data.csv\")"
   ]
  },
  {
   "cell_type": "code",
   "execution_count": 0,
   "metadata": {
    "colab": {},
    "colab_type": "code",
    "id": "17uRXLoERkSI"
   },
   "outputs": [],
   "source": [
    "# read data from URL\n",
    "iris = 'http://archive.ics.uci.edu/ml/machine-learning-databases/iris/iris.data'\n",
    "df_iris = pd.read_csv(iris, sep=',', header=None)\n",
    "print(df_iris.head())"
   ]
  },
  {
   "cell_type": "code",
   "execution_count": 0,
   "metadata": {
    "colab": {},
    "colab_type": "code",
    "id": "jfQN-VFcuqMV"
   },
   "outputs": [],
   "source": [
    "# read data from github link\n",
    "import pandas as pd\n",
    "import io\n",
    "import requests\n",
    "url=\"https://gist.githubusercontent.com/curran/a08a1080b88344b0c8a7/raw/d546eaee765268bf2f487608c537c05e22e4b221/iris.csv\"\n",
    "c=pd.read_csv(url)\n"
   ]
  },
  {
   "cell_type": "code",
   "execution_count": 0,
   "metadata": {
    "colab": {},
    "colab_type": "code",
    "id": "lAU86Sckvbns"
   },
   "outputs": [],
   "source": [
    "c.head()"
   ]
  },
  {
   "cell_type": "code",
   "execution_count": 0,
   "metadata": {
    "colab": {},
    "colab_type": "code",
    "id": "m5-Ly9As5Rxz"
   },
   "outputs": [],
   "source": [
    "c.tail()"
   ]
  },
  {
   "cell_type": "code",
   "execution_count": 0,
   "metadata": {
    "colab": {},
    "colab_type": "code",
    "id": "C8KzbAt7SWMs"
   },
   "outputs": [],
   "source": [
    "# Read data from Google Drive (not recommended)\n",
    "# https://colab.sandbox.google.com/notebooks/io.ipynb"
   ]
  },
  {
   "cell_type": "code",
   "execution_count": 0,
   "metadata": {
    "colab": {},
    "colab_type": "code",
    "id": "QBT5n19WSeKh"
   },
   "outputs": [],
   "source": [
    "# Read data from Google Drive (recommend)\n",
    "# step 1: change your csv file in Drive as Anyone with the link can view\n",
    "# https://drive.google.com/open?id=1k0ZYUdqqjPjVWCw3ElcaMMRFg6H3-Pjh\n",
    "# https://drive.google.com/open?id=1Cv7_0sRGwwaKjd0PuquybacS6DA8PU4B\n",
    "file_id='1k0ZYUdqqjPjVWCw3ElcaMMRFg6H3-Pjh'\n",
    "link='https://drive.google.com/uc?export=download&id={FILE_ID}'\n",
    "csv_url=link.format(FILE_ID=file_id)\n",
    "df_uk_rain = pd.read_csv(csv_url)\n",
    "print(df_uk_rain.columns)\n",
    "df_uk_rain.columns = ['water_year','rain_octsep', 'outflow_octsep',\n",
    "              'rain_decfeb', 'outflow_decfeb', 'rain_junaug', 'outflow_junaug']\n",
    "\n",
    "df_uk_rain.head(10)"
   ]
  },
  {
   "cell_type": "code",
   "execution_count": 0,
   "metadata": {
    "colab": {},
    "colab_type": "code",
    "id": "RirnABiPTNjW"
   },
   "outputs": [],
   "source": [
    "# Save dataframe to CSV and save to local machine\n",
    "df_uk_rain.to_csv('df.csv', index=False)\n",
    "from google.colab import files\n",
    "# files.download('df.csv')"
   ]
  },
  {
   "cell_type": "markdown",
   "metadata": {
    "colab_type": "text",
    "id": "zJkbEoa9Wm-S"
   },
   "source": [
    "**Data Structure**\n",
    "\n",
    "**Series** is a one-dimensional labeled array capable of holding any data type (integers, strings, floating point numbers, Python objects, etc.). The axis labels are collectively referred to as the index.\n",
    "\n",
    "**DataFrame** is a 2-dimensional labeled data structure with columns of potentially different types. You can think of it like a spreadsheet or SQL table, or a dict of Series objects. It is generally the most commonly used pandas object. "
   ]
  },
  {
   "cell_type": "code",
   "execution_count": 0,
   "metadata": {
    "colab": {},
    "colab_type": "code",
    "id": "U90sQOhyWqig"
   },
   "outputs": [],
   "source": [
    "# Series from list\n",
    "s = pd.Series([1,3,5,np.nan,6,8], index = ['a','b','c','d','e','f'])\n",
    "\n",
    "print(s)\n",
    "print(type(s))\n",
    "\n",
    "s.index\n"
   ]
  },
  {
   "cell_type": "code",
   "execution_count": 0,
   "metadata": {
    "colab": {},
    "colab_type": "code",
    "id": "MWuNQmz8W8j4"
   },
   "outputs": [],
   "source": [
    "# Dataframe from lists\n",
    "df = pd.DataFrame({'list_x': [1,2,3,4,5,6],'list_y': ['1', '2', '3', '4', '5', '6'], 'list_z': ['1',2,3,4,5,6]})\n",
    "print(df)\n",
    "df.info()"
   ]
  },
  {
   "cell_type": "code",
   "execution_count": 0,
   "metadata": {
    "colab": {},
    "colab_type": "code",
    "id": "LmpQtYSlYj17"
   },
   "outputs": [],
   "source": [
    "# Dataframe first 5(default) rows\n",
    "print(df_iris.head())\n",
    "print(df_iris.tail())"
   ]
  },
  {
   "cell_type": "code",
   "execution_count": 0,
   "metadata": {
    "colab": {},
    "colab_type": "code",
    "id": "4mZBlBMGYyoi"
   },
   "outputs": [],
   "source": [
    "# Dataframe information\n",
    "df_iris.info()"
   ]
  },
  {
   "cell_type": "code",
   "execution_count": 0,
   "metadata": {
    "colab": {},
    "colab_type": "code",
    "id": "ZQ62tuXmY15J"
   },
   "outputs": [],
   "source": [
    "# Dataframe stats information\n",
    "df_iris.describe()"
   ]
  },
  {
   "cell_type": "code",
   "execution_count": 0,
   "metadata": {
    "colab": {},
    "colab_type": "code",
    "id": "tCJUdsA3Y86c"
   },
   "outputs": [],
   "source": [
    "# column data type\n",
    "df_iris.dtypes"
   ]
  },
  {
   "cell_type": "code",
   "execution_count": 0,
   "metadata": {
    "colab": {},
    "colab_type": "code",
    "id": "9SvF87Kva4Cz"
   },
   "outputs": [],
   "source": [
    "# index info\n",
    "df_iris.index"
   ]
  },
  {
   "cell_type": "code",
   "execution_count": 0,
   "metadata": {
    "colab": {},
    "colab_type": "code",
    "id": "Rh4iF57mZQz1"
   },
   "outputs": [],
   "source": [
    "# change column names\n",
    "attributes = [\"sepal_length\", \"sepal_width\", \"petal_length\", \"petal_width\", \"class\"]\n",
    "df_iris.columns = attributes\n",
    "\n",
    "df_iris.head(1)"
   ]
  },
  {
   "cell_type": "markdown",
   "metadata": {
    "colab_type": "text",
    "id": "Z0FucuXLih-b"
   },
   "source": [
    "**Indexing and Slicing**"
   ]
  },
  {
   "cell_type": "code",
   "execution_count": 0,
   "metadata": {
    "colab": {},
    "colab_type": "code",
    "id": "L9KYxtpTioFa"
   },
   "outputs": [],
   "source": [
    "# use [] square brackets, only columns\n",
    "df1 = df_iris['sepal_length']\n",
    "print(df1.head())\n",
    "print(type(df1))\n",
    "\n",
    "df2 = df_iris[['sepal_length']]\n",
    "print(df2.head())\n",
    "print(type(df2))\n",
    "\n",
    "df3 = df_iris[['sepal_length', 'petal_length']]\n",
    "print(df3.head())\n",
    "print(type(df3))\n",
    "\n",
    "df4 = df_iris[1:3]\n",
    "print(df4)\n",
    "print(type(df4))\n"
   ]
  },
  {
   "cell_type": "code",
   "execution_count": 0,
   "metadata": {
    "colab": {},
    "colab_type": "code",
    "id": "_e10vJ3NlHek"
   },
   "outputs": [],
   "source": [
    "# selection by position, use iloc, endpoint is excluded\n",
    "df1 = df_iris.iloc[[3]]\n",
    "print(df1)\n",
    "print(type(df1))\n",
    "\n",
    "df2 = df_iris.iloc[3:5,0:2]\n",
    "print(df2)\n",
    "print(type(df2))\n",
    "\n",
    "df3 = df_iris.iloc[[1,2,4],[0,2]]\n",
    "print(df3)\n",
    "print(type(df3))\n"
   ]
  },
  {
   "cell_type": "code",
   "execution_count": 0,
   "metadata": {
    "colab": {},
    "colab_type": "code",
    "id": "efRLhCOQjeEL"
   },
   "outputs": [],
   "source": [
    "# selection by lable, use loc , endpoint is included\n",
    "df1 = df_iris.loc[:, 'sepal_length']\n",
    "print(df1.head())\n",
    "print(type(df1))\n",
    "\n",
    "df2 = df_iris.loc[1:3, ['sepal_length']]\n",
    "print(df2.head())\n",
    "print(type(df2))\n",
    "\n",
    "df3 = df_iris.loc[[1, 3], ['sepal_length', 'petal_length']]\n",
    "print(df3)"
   ]
  },
  {
   "cell_type": "code",
   "execution_count": 0,
   "metadata": {
    "colab": {},
    "colab_type": "code",
    "id": "wYJXwqbulpB9"
   },
   "outputs": [],
   "source": [
    "# boolean indexing\n",
    "df1 = df_iris[(df_iris['sepal_length'] > 6.0) & (df_iris.petal_length < 5.0)]\n",
    "#print(df1)\n",
    "\n",
    "df2 = df_iris.loc[(df_iris['sepal_length'] > 6.0) & (df_iris.petal_length < 5.0), ['sepal_width', 'petal_width']]\n",
    "df2 = df2.reset_index()\n",
    "print(df2)\n",
    "df2.index"
   ]
  },
  {
   "cell_type": "markdown",
   "metadata": {
    "colab_type": "text",
    "id": "db3LysNdoG5T"
   },
   "source": [
    "**Useful functions**\n",
    "\n",
    "apply, applymap, (lambda)"
   ]
  },
  {
   "cell_type": "code",
   "execution_count": 0,
   "metadata": {
    "colab": {},
    "colab_type": "code",
    "id": "CwF5JHrCsJtB"
   },
   "outputs": [],
   "source": [
    "# Applying a function on 1D arrays to each column or row. \n",
    "# DataFrame’s apply method does exactly this\n",
    "# DataFrame.apply\n",
    "\n",
    "import numpy as np\n",
    "import pandas as pd\n",
    "\n",
    "df = pd.DataFrame(np.arange(12).reshape((4, 3)), columns=['a','b','c'], index=['Utah', 'Ohio', 'Texas', 'Oregon'])\n",
    "print(df)\n",
    "\n",
    "def func(col):\n",
    "  return col.max() - col.min()\n",
    "\n",
    "# use lambda function\n",
    "print('haluo')\n",
    "print(df.apply(lambda x: x.mean(), axis='index'))\n",
    "\n",
    "print('haluo2:')\n",
    "print(df.apply(lambda x: x.mean(), axis='columns'))\n",
    "\n",
    "\n",
    "# add a new column\n",
    "df['range'] = df[['a','b','c']].apply(func, axis='columns')\n",
    "print(df)\n",
    "\n",
    "# for some columns\n",
    "df[['a', 'b']].apply(sum, axis=0)\n",
    "\n"
   ]
  },
  {
   "cell_type": "code",
   "execution_count": 0,
   "metadata": {
    "colab": {},
    "colab_type": "code",
    "id": "Iv7TXdYXWpal"
   },
   "outputs": [],
   "source": [
    "# Many of the most common array statistics (like sum and mean) are DataFrame methods, so using apply is not necessary.\n",
    "# Element-wise Python functions can be used, too. \n",
    "# Suppose you wanted to compute a formatted string from each floating point value in frame. \n",
    "# You can do this with applymap\n",
    "# DataFrame.applymap\n",
    "\n",
    "df = pd.DataFrame(np.arange(12).reshape((4, 3)), columns=list('abc'), index=['Utah', 'Ohio', 'Texas', 'Oregon'])\n",
    "print(df.applymap(lambda x: x**2))"
   ]
  },
  {
   "cell_type": "code",
   "execution_count": 0,
   "metadata": {
    "colab": {},
    "colab_type": "code",
    "id": "vWI9tb1DDob2"
   },
   "outputs": [],
   "source": [
    "# Get the starting year and change it to datetime type\n",
    "def base_year(year):\n",
    "    base_year = year[:4]\n",
    "    base_year= pd.to_datetime(base_year).year\n",
    "    return base_year\n",
    "\n",
    "df_uk_rain['year'] = df_uk_rain.water_year.apply(base_year)\n",
    "df_uk_rain.head(5)"
   ]
  },
  {
   "cell_type": "markdown",
   "metadata": {
    "colab_type": "text",
    "id": "5U8R66Rnos4u"
   },
   "source": [
    "# **Merging**\n",
    "\n",
    "Read this [document](https://pandas.pydata.org/pandas-docs/stable/merging.html) for more info\n"
   ]
  },
  {
   "cell_type": "code",
   "execution_count": 0,
   "metadata": {
    "colab": {},
    "colab_type": "code",
    "id": "EMPg7rWn06Fo"
   },
   "outputs": [],
   "source": [
    "# two dataframe join or concatenate\n",
    "df_right=pd.DataFrame({'year':np.arange(1980,1990),'rain_cn':np.arange(800,810)})\n",
    "print(df_right)\n",
    "df_right2=pd.DataFrame({'year': [900], 'rain_cn': [1800]})\n",
    "print(df_right2)\n",
    "df_right=pd.concat([df_right, df_right2])\n",
    "print(df_right)\n"
   ]
  },
  {
   "cell_type": "code",
   "execution_count": 0,
   "metadata": {
    "colab": {},
    "colab_type": "code",
    "id": "1JAQs-D9Leb-"
   },
   "outputs": [],
   "source": [
    "# SQL like inner join:\n",
    "df_join=pd.merge(df_uk_rain, df_right, left_on='year',right_on='year',how='inner')\n",
    "print(df_join)"
   ]
  },
  {
   "cell_type": "code",
   "execution_count": 0,
   "metadata": {
    "colab": {},
    "colab_type": "code",
    "id": "Kww-l-kgLv8e"
   },
   "outputs": [],
   "source": [
    "# SQL like left join\n",
    "df_left_join=pd.merge(df_uk_rain, df_right, left_on='year',right_on='year', how='left') # left_on, right_on\n",
    "df_left_join.head()"
   ]
  },
  {
   "cell_type": "code",
   "execution_count": 0,
   "metadata": {
    "colab": {},
    "colab_type": "code",
    "id": "y_o3y7WU22zN"
   },
   "outputs": [],
   "source": [
    "from pandasql import sqldf\n",
    "\n",
    "def pysqldf(q):\n",
    "  return sqldf(q, globals())\n",
    "\n",
    "q = '''\n",
    "SELECT * \n",
    "FROM df_uk_rain a LEFT JOIN df_right b\n",
    "ON a.year = b.year\n",
    "LIMIT 5\n",
    "'''\n",
    "\n",
    "pysqldf(q)\n"
   ]
  },
  {
   "cell_type": "markdown",
   "metadata": {
    "colab_type": "text",
    "id": "01PXGrp2oQuZ"
   },
   "source": [
    "**Grouping**\n",
    "\n",
    "Read this [document](https://pandas.pydata.org/pandas-docs/stable/groupby.html) for more info"
   ]
  },
  {
   "cell_type": "code",
   "execution_count": 0,
   "metadata": {
    "colab": {},
    "colab_type": "code",
    "id": "7vVGllv1F42Z"
   },
   "outputs": [],
   "source": [
    "# groupby: similar to SQL groupby\n",
    "df_uk_rain.groupby(df_uk_rain['year'] // 10 *10)['rain_octsep','outflow_octsep','rain_decfeb'].max()"
   ]
  },
  {
   "cell_type": "code",
   "execution_count": 0,
   "metadata": {
    "colab": {},
    "colab_type": "code",
    "id": "zT-mSLS4K6LJ"
   },
   "outputs": [],
   "source": [
    "# groupby multiple columns\n",
    "df_uk_rain.groupby([df_uk_rain.year // 10 * 10, df_uk_rain['rain_octsep'] // 1000 * 1000], as_index=True)[['outflow_octsep','outflow_decfeb', 'outflow_junaug'] ].mean()"
   ]
  },
  {
   "cell_type": "code",
   "execution_count": 0,
   "metadata": {
    "colab": {},
    "colab_type": "code",
    "id": "-mzsy6DbKaXU"
   },
   "outputs": [],
   "source": [
    "# groupby + apply + lambda\n",
    "df_uk_rain.groupby(df_uk_rain.year // 10 *10)['rain_octsep','outflow_octsep','rain_decfeb'].apply(lambda x: np.max(x, axis=0)).reset_index() # same result as first groupby example except index"
   ]
  },
  {
   "cell_type": "markdown",
   "metadata": {
    "colab_type": "text",
    "id": "Dd02UQsPpAqj"
   },
   "source": [
    "**Data Preprocessing**\n",
    "\n",
    "\n",
    "*   Duplication\n",
    "*   Outlier\n",
    "*   Missing Value\n",
    "\n"
   ]
  },
  {
   "cell_type": "code",
   "execution_count": 0,
   "metadata": {
    "cellView": "form",
    "colab": {},
    "colab_type": "code",
    "id": "nKMpeVpdMPwU"
   },
   "outputs": [],
   "source": [
    "#@title Duplication"
   ]
  },
  {
   "cell_type": "code",
   "execution_count": 0,
   "metadata": {
    "colab": {},
    "colab_type": "code",
    "id": "LTn0EQXbp2Hs"
   },
   "outputs": [],
   "source": [
    "df_uk_rain"
   ]
  },
  {
   "cell_type": "code",
   "execution_count": 0,
   "metadata": {
    "colab": {},
    "colab_type": "code",
    "id": "P-AhBupVMWfu"
   },
   "outputs": [],
   "source": [
    "# check if a column has duplicates\n",
    "df_uk_rain.iloc[np.where(df_uk_rain[['water_year', 'rain_octsep']].duplicated())]"
   ]
  },
  {
   "cell_type": "code",
   "execution_count": 0,
   "metadata": {
    "colab": {},
    "colab_type": "code",
    "id": "vlcZoqR3Vo69"
   },
   "outputs": [],
   "source": [
    "np.where(df_uk_rain.rain_octsep.duplicated())"
   ]
  },
  {
   "cell_type": "code",
   "execution_count": 0,
   "metadata": {
    "colab": {},
    "colab_type": "code",
    "id": "3WW7iRS6Mxc0"
   },
   "outputs": [],
   "source": [
    "# create a duplicated row as the last row\n",
    "df_dup=df_uk_rain\n",
    "df_dup.loc[len(df_dup)]=df_dup.iloc[0]\n",
    "df_dup.iloc[[0,-1]] # first and last row"
   ]
  },
  {
   "cell_type": "code",
   "execution_count": 0,
   "metadata": {
    "colab": {},
    "colab_type": "code",
    "id": "7w6LsQVoM23Y"
   },
   "outputs": [],
   "source": [
    "# check duplicate rows\n",
    "df_dup.duplicated()"
   ]
  },
  {
   "cell_type": "code",
   "execution_count": 0,
   "metadata": {
    "colab": {},
    "colab_type": "code",
    "id": "IhjIxyGbNFF_"
   },
   "outputs": [],
   "source": [
    "# remove duplicates\n",
    "df_dedup=df_dup.drop_duplicates()\n",
    "df_dedup.iloc[[0,-1],:]"
   ]
  },
  {
   "cell_type": "code",
   "execution_count": 0,
   "metadata": {
    "cellView": "form",
    "colab": {},
    "colab_type": "code",
    "id": "aINQCfTsSGLq"
   },
   "outputs": [],
   "source": [
    "#@title Outlier\n",
    "\n",
    "# boxplot, winsorizing"
   ]
  },
  {
   "cell_type": "markdown",
   "metadata": {
    "colab_type": "text",
    "id": "-4SNIM9OSRQQ"
   },
   "source": [
    "![alt text](https://www.mathsisfun.com/data/images/outlier.svg)<br>\n",
    "![alt text](https://statistics.laerd.com/statistical-guides/img/pearson-6.png)"
   ]
  },
  {
   "cell_type": "code",
   "execution_count": 0,
   "metadata": {
    "colab": {},
    "colab_type": "code",
    "id": "-VPqrSomd5fY"
   },
   "outputs": [],
   "source": [
    "import seaborn as sns\n",
    "# Simulate data\n",
    "dt_outlier=np.concatenate([np.random.normal(0,1,1000),np.random.normal(8,1,10)])\n",
    "sns.set_style('whitegrid')\n",
    "sns.distplot(dt_outlier)"
   ]
  },
  {
   "cell_type": "markdown",
   "metadata": {
    "colab_type": "text",
    "id": "CODolxCDSiQv"
   },
   "source": [
    "Outlier Detection： Boxplot  <br>\n",
    "Interquartile Range(IQR):\n",
    "IQR= Upper Quantile(Q3) - Lower Quartile(Q1) <br>\n",
    "Lower Limit = Q1 - 1.5 IQR <br>\n",
    "Upper Limit = Q3 + 1.5 IQR <br>\n",
    "![alt text](https://i.stack.imgur.com/mpbTr.gif)\n"
   ]
  },
  {
   "cell_type": "code",
   "execution_count": 0,
   "metadata": {
    "colab": {},
    "colab_type": "code",
    "id": "pIlD3GhuSjwU"
   },
   "outputs": [],
   "source": [
    "sns.boxplot(dt_outlier,orient='v')"
   ]
  },
  {
   "cell_type": "code",
   "execution_count": 0,
   "metadata": {
    "colab": {},
    "colab_type": "code",
    "id": "COGwopQ5Sndz"
   },
   "outputs": [],
   "source": [
    "# define a function remove outlier using IQR\n",
    "def iqr_outlier_rm(dt_input):\n",
    "  lq,uq=np.percentile(dt_input,[25,75])\n",
    "  lower_l=lq - 1.5*(uq-lq)\n",
    "  upper_l=uq + 1.5*(uq-lq)\n",
    "  return dt_input[(dt_input >=lower_l)&(dt_input<=upper_l)]\n",
    "  \n",
    "dt_outlier_ws=iqr_outlier_rm(dt_outlier)\n",
    "sns.boxplot(dt_outlier_ws,orient='v')"
   ]
  },
  {
   "cell_type": "code",
   "execution_count": 0,
   "metadata": {
    "cellView": "form",
    "colab": {},
    "colab_type": "code",
    "id": "MiwwhgekQlpM"
   },
   "outputs": [],
   "source": [
    "#@title Missing value"
   ]
  },
  {
   "cell_type": "code",
   "execution_count": 0,
   "metadata": {
    "colab": {},
    "colab_type": "code",
    "id": "qXHF_u0eQl12"
   },
   "outputs": [],
   "source": [
    "# check rows: return rows have NaN\n",
    "idx_row_nan=pd.isnull(df_left_join).any(axis=1) # return bool value\n",
    "df_left_join.loc[idx_row_nan].head()"
   ]
  },
  {
   "cell_type": "code",
   "execution_count": 0,
   "metadata": {
    "colab": {},
    "colab_type": "code",
    "id": "seH2cEELQ4DV"
   },
   "outputs": [],
   "source": [
    "# check cols\n",
    "pd.isnull(df_left_join).any(axis=0)"
   ]
  },
  {
   "cell_type": "code",
   "execution_count": 0,
   "metadata": {
    "colab": {},
    "colab_type": "code",
    "id": "KV3-lDqERAWW"
   },
   "outputs": [],
   "source": [
    "# select the rows without NaN\n",
    "df_left_join.loc[-idx_row_nan] # negative bool can be used"
   ]
  },
  {
   "cell_type": "code",
   "execution_count": 0,
   "metadata": {
    "colab": {},
    "colab_type": "code",
    "id": "Ht9Io4K4bBZ3"
   },
   "outputs": [],
   "source": [
    "# check nan rows\n",
    "df_left_join.loc[idx_row_nan]"
   ]
  },
  {
   "cell_type": "code",
   "execution_count": 0,
   "metadata": {
    "colab": {},
    "colab_type": "code",
    "id": "UbWh4nZ3Rf5b"
   },
   "outputs": [],
   "source": [
    "# Imputation: replace NaN with 0\n",
    "df_left_join_1=df_left_join\n",
    "df_left_join_1.fillna(0).tail(5)"
   ]
  },
  {
   "cell_type": "code",
   "execution_count": 0,
   "metadata": {
    "colab": {},
    "colab_type": "code",
    "id": "lsif-KSuREBz"
   },
   "outputs": [],
   "source": [
    "# drop NaN rows\n",
    "df_left_join_0=df_left_join\n",
    "df_left_join_0.dropna(axis='index') # axis = 0 or 1 is deprecated for dropna command"
   ]
  },
  {
   "cell_type": "code",
   "execution_count": 0,
   "metadata": {
    "colab": {},
    "colab_type": "code",
    "id": "JHS9DO3fRmJQ"
   },
   "outputs": [],
   "source": [
    "# Replace the NaN with column mean\n",
    "df_left_join_1=df_left_join.copy()\n",
    "print(df_left_join_1['rain_cn'].mean())\n",
    "df_left_join_1.tail(5)\n",
    "df_left_join_1['rain_cn'].fillna(df_left_join_1['rain_cn'].mean(), inplace=True)\n",
    "df_left_join_1.tail(5)\n"
   ]
  }
 ],
 "metadata": {
  "colab": {
   "collapsed_sections": [],
   "name": "Data Manipulation in Python.ipynb",
   "provenance": [
    {
     "file_id": "1Y1bO0QZrKbk0CQih9rNjtL8ntYkMXj1A",
     "timestamp": 1545212779361
    }
   ],
   "version": "0.3.2"
  },
  "kernelspec": {
   "display_name": "Python 3",
   "language": "python",
   "name": "python3"
  },
  "language_info": {
   "codemirror_mode": {
    "name": "ipython",
    "version": 3
   },
   "file_extension": ".py",
   "mimetype": "text/x-python",
   "name": "python",
   "nbconvert_exporter": "python",
   "pygments_lexer": "ipython3",
   "version": "3.7.3"
  }
 },
 "nbformat": 4,
 "nbformat_minor": 1
}
