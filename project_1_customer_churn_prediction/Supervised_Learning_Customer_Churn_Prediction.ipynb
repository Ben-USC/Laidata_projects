{
 "cells": [
  {
   "cell_type": "markdown",
   "metadata": {
    "colab_type": "text",
    "id": "R88Ms0MTi0Ma"
   },
   "source": [
    "# Telecommunication Industry User Churn Prediction"
   ]
  },
  {
   "cell_type": "markdown",
   "metadata": {
    "colab_type": "text",
    "id": "WA6lL1fni0Mb"
   },
   "source": [
    "### **In** this project, we use supervised learning models to identify customers who are likely to stop using service in the future. Furthermore, we will analyze top factors that influence user retention.\n",
    "\n",
    "### Data source: http://www.dataminingconsultant.com/"
   ]
  },
  {
   "cell_type": "markdown",
   "metadata": {
    "colab_type": "text",
    "id": "bO94-bXZi0Md"
   },
   "source": [
    "## Contents"
   ]
  },
  {
   "cell_type": "markdown",
   "metadata": {
    "colab_type": "text",
    "id": "SIvRSRqAi0Md"
   },
   "source": [
    "<ul>\n",
    "<li>[Part 1: Data Exploration](#Part-1:-Data-Exploration)\n",
    "<li>[Part 2: Feature Preprocessing](#Part-2:-Feature-Preprocessing)\n",
    "<li>[Part 3: Model Training and Results Evaluation](#Part-3:-Model-Training-and-Result-Evaluation)\n",
    "<li>[Part 4: Feature Selection](#Part-4:-Feature-Selection)\n",
    "</ul>"
   ]
  },
  {
   "cell_type": "markdown",
   "metadata": {
    "colab_type": "text",
    "id": "a6bG_gAPi0Me"
   },
   "source": [
    "# Part 1: Data Exploration"
   ]
  },
  {
   "cell_type": "markdown",
   "metadata": {
    "colab_type": "text",
    "id": "bspx2K6fi0Me"
   },
   "source": [
    "### Part 1.1: Understand the Raw Dataset"
   ]
  },
  {
   "cell_type": "code",
   "execution_count": 29,
   "metadata": {
    "colab": {},
    "colab_type": "code",
    "id": "kuTHKjk-i0Mf"
   },
   "outputs": [],
   "source": [
    "import pandas as pd\n",
    "import numpy as np\n",
    "import seaborn as sns\n",
    "\n",
    "## will show all the columns\n",
    "pd.set_option('display.max_columns', None)\n",
    "\n",
    "## ignore warnings:\n",
    "import warnings\n",
    "warnings.filterwarnings('ignore')\n",
    "\n",
    "## read CSV data:\n",
    "data = pd.read_csv('churn.all')"
   ]
  },
  {
   "cell_type": "code",
   "execution_count": 30,
   "metadata": {},
   "outputs": [
    {
     "name": "stdout",
     "output_type": "stream",
     "text": [
      "       account_length    area_code  number_vmail_messages  total_day_minutes  \\\n",
      "count      5000.00000  5000.000000            5000.000000        5000.000000   \n",
      "mean        100.25860   436.911400               7.755200         180.288900   \n",
      "std          39.69456    42.209182              13.546393          53.894699   \n",
      "min           1.00000   408.000000               0.000000           0.000000   \n",
      "25%          73.00000   408.000000               0.000000         143.700000   \n",
      "50%         100.00000   415.000000               0.000000         180.100000   \n",
      "75%         127.00000   415.000000              17.000000         216.200000   \n",
      "max         243.00000   510.000000              52.000000         351.500000   \n",
      "\n",
      "       total_day_calls  total_day_charge  total_eve_minutes  total_eve_calls  \\\n",
      "count      5000.000000       5000.000000        5000.000000      5000.000000   \n",
      "mean        100.029400         30.649668         200.636560       100.191000   \n",
      "std          19.831197          9.162069          50.551309        19.826496   \n",
      "min           0.000000          0.000000           0.000000         0.000000   \n",
      "25%          87.000000         24.430000         166.375000        87.000000   \n",
      "50%         100.000000         30.620000         201.000000       100.000000   \n",
      "75%         113.000000         36.750000         234.100000       114.000000   \n",
      "max         165.000000         59.760000         363.700000       170.000000   \n",
      "\n",
      "       total_eve_charge  total_night_minutes  total_night_calls  \\\n",
      "count       5000.000000          5000.000000        5000.000000   \n",
      "mean          17.054322           200.391620          99.919200   \n",
      "std            4.296843            50.527789          19.958686   \n",
      "min            0.000000             0.000000           0.000000   \n",
      "25%           14.140000           166.900000          87.000000   \n",
      "50%           17.090000           200.400000         100.000000   \n",
      "75%           19.900000           234.700000         113.000000   \n",
      "max           30.910000           395.000000         175.000000   \n",
      "\n",
      "       total_night_charge  total_intl_minutes  total_intl_calls  \\\n",
      "count         5000.000000         5000.000000       5000.000000   \n",
      "mean             9.017732           10.261780          4.435200   \n",
      "std              2.273763            2.761396          2.456788   \n",
      "min              0.000000            0.000000          0.000000   \n",
      "25%              7.510000            8.500000          3.000000   \n",
      "50%              9.020000           10.300000          4.000000   \n",
      "75%             10.560000           12.000000          6.000000   \n",
      "max             17.770000           20.000000         20.000000   \n",
      "\n",
      "       total_intl_charge  number_customer_service_calls  \n",
      "count        5000.000000                    5000.000000  \n",
      "mean            2.771196                       1.570400  \n",
      "std             0.745514                       1.306363  \n",
      "min             0.000000                       0.000000  \n",
      "25%             2.300000                       1.000000  \n",
      "50%             2.780000                       1.000000  \n",
      "75%             3.240000                       2.000000  \n",
      "max             5.400000                       9.000000  \n"
     ]
    }
   ],
   "source": [
    "## there is no missing value, which is good\n",
    "print(data.describe())\n",
    "#churn_df.info()"
   ]
  },
  {
   "cell_type": "code",
   "execution_count": 31,
   "metadata": {
    "colab": {
     "base_uri": "https://localhost:8080/",
     "height": 224
    },
    "colab_type": "code",
    "id": "hHNZRs2Ti0Mi",
    "outputId": "19685c71-7fc1-446b-db62-1c1ee01cbda9",
    "scrolled": true
   },
   "outputs": [
    {
     "name": "stdout",
     "output_type": "stream",
     "text": [
      "Shape of data: (5000, 21)\n"
     ]
    },
    {
     "data": {
      "text/html": [
       "<div>\n",
       "<style scoped>\n",
       "    .dataframe tbody tr th:only-of-type {\n",
       "        vertical-align: middle;\n",
       "    }\n",
       "\n",
       "    .dataframe tbody tr th {\n",
       "        vertical-align: top;\n",
       "    }\n",
       "\n",
       "    .dataframe thead th {\n",
       "        text-align: right;\n",
       "    }\n",
       "</style>\n",
       "<table border=\"1\" class=\"dataframe\">\n",
       "  <thead>\n",
       "    <tr style=\"text-align: right;\">\n",
       "      <th></th>\n",
       "      <th>state</th>\n",
       "      <th>account_length</th>\n",
       "      <th>area_code</th>\n",
       "      <th>phone_number</th>\n",
       "      <th>intl_plan</th>\n",
       "      <th>voice_mail_plan</th>\n",
       "      <th>number_vmail_messages</th>\n",
       "      <th>total_day_minutes</th>\n",
       "      <th>total_day_calls</th>\n",
       "      <th>total_day_charge</th>\n",
       "      <th>total_eve_minutes</th>\n",
       "      <th>total_eve_calls</th>\n",
       "      <th>total_eve_charge</th>\n",
       "      <th>total_night_minutes</th>\n",
       "      <th>total_night_calls</th>\n",
       "      <th>total_night_charge</th>\n",
       "      <th>total_intl_minutes</th>\n",
       "      <th>total_intl_calls</th>\n",
       "      <th>total_intl_charge</th>\n",
       "      <th>number_customer_service_calls</th>\n",
       "      <th>churned</th>\n",
       "    </tr>\n",
       "  </thead>\n",
       "  <tbody>\n",
       "    <tr>\n",
       "      <th>0</th>\n",
       "      <td>KS</td>\n",
       "      <td>128</td>\n",
       "      <td>415</td>\n",
       "      <td>382-4657</td>\n",
       "      <td>no</td>\n",
       "      <td>yes</td>\n",
       "      <td>25</td>\n",
       "      <td>265.1</td>\n",
       "      <td>110</td>\n",
       "      <td>45.07</td>\n",
       "      <td>197.4</td>\n",
       "      <td>99</td>\n",
       "      <td>16.78</td>\n",
       "      <td>244.7</td>\n",
       "      <td>91</td>\n",
       "      <td>11.01</td>\n",
       "      <td>10.0</td>\n",
       "      <td>3</td>\n",
       "      <td>2.70</td>\n",
       "      <td>1</td>\n",
       "      <td>False.</td>\n",
       "    </tr>\n",
       "    <tr>\n",
       "      <th>1</th>\n",
       "      <td>OH</td>\n",
       "      <td>107</td>\n",
       "      <td>415</td>\n",
       "      <td>371-7191</td>\n",
       "      <td>no</td>\n",
       "      <td>yes</td>\n",
       "      <td>26</td>\n",
       "      <td>161.6</td>\n",
       "      <td>123</td>\n",
       "      <td>27.47</td>\n",
       "      <td>195.5</td>\n",
       "      <td>103</td>\n",
       "      <td>16.62</td>\n",
       "      <td>254.4</td>\n",
       "      <td>103</td>\n",
       "      <td>11.45</td>\n",
       "      <td>13.7</td>\n",
       "      <td>3</td>\n",
       "      <td>3.70</td>\n",
       "      <td>1</td>\n",
       "      <td>False.</td>\n",
       "    </tr>\n",
       "    <tr>\n",
       "      <th>2</th>\n",
       "      <td>NJ</td>\n",
       "      <td>137</td>\n",
       "      <td>415</td>\n",
       "      <td>358-1921</td>\n",
       "      <td>no</td>\n",
       "      <td>no</td>\n",
       "      <td>0</td>\n",
       "      <td>243.4</td>\n",
       "      <td>114</td>\n",
       "      <td>41.38</td>\n",
       "      <td>121.2</td>\n",
       "      <td>110</td>\n",
       "      <td>10.30</td>\n",
       "      <td>162.6</td>\n",
       "      <td>104</td>\n",
       "      <td>7.32</td>\n",
       "      <td>12.2</td>\n",
       "      <td>5</td>\n",
       "      <td>3.29</td>\n",
       "      <td>0</td>\n",
       "      <td>False.</td>\n",
       "    </tr>\n",
       "    <tr>\n",
       "      <th>3</th>\n",
       "      <td>OH</td>\n",
       "      <td>84</td>\n",
       "      <td>408</td>\n",
       "      <td>375-9999</td>\n",
       "      <td>yes</td>\n",
       "      <td>no</td>\n",
       "      <td>0</td>\n",
       "      <td>299.4</td>\n",
       "      <td>71</td>\n",
       "      <td>50.90</td>\n",
       "      <td>61.9</td>\n",
       "      <td>88</td>\n",
       "      <td>5.26</td>\n",
       "      <td>196.9</td>\n",
       "      <td>89</td>\n",
       "      <td>8.86</td>\n",
       "      <td>6.6</td>\n",
       "      <td>7</td>\n",
       "      <td>1.78</td>\n",
       "      <td>2</td>\n",
       "      <td>False.</td>\n",
       "    </tr>\n",
       "    <tr>\n",
       "      <th>4</th>\n",
       "      <td>OK</td>\n",
       "      <td>75</td>\n",
       "      <td>415</td>\n",
       "      <td>330-6626</td>\n",
       "      <td>yes</td>\n",
       "      <td>no</td>\n",
       "      <td>0</td>\n",
       "      <td>166.7</td>\n",
       "      <td>113</td>\n",
       "      <td>28.34</td>\n",
       "      <td>148.3</td>\n",
       "      <td>122</td>\n",
       "      <td>12.61</td>\n",
       "      <td>186.9</td>\n",
       "      <td>121</td>\n",
       "      <td>8.41</td>\n",
       "      <td>10.1</td>\n",
       "      <td>3</td>\n",
       "      <td>2.73</td>\n",
       "      <td>3</td>\n",
       "      <td>False.</td>\n",
       "    </tr>\n",
       "  </tbody>\n",
       "</table>\n",
       "</div>"
      ],
      "text/plain": [
       "  state  account_length  area_code phone_number intl_plan voice_mail_plan  \\\n",
       "0    KS             128        415     382-4657        no             yes   \n",
       "1    OH             107        415     371-7191        no             yes   \n",
       "2    NJ             137        415     358-1921        no              no   \n",
       "3    OH              84        408     375-9999       yes              no   \n",
       "4    OK              75        415     330-6626       yes              no   \n",
       "\n",
       "   number_vmail_messages  total_day_minutes  total_day_calls  \\\n",
       "0                     25              265.1              110   \n",
       "1                     26              161.6              123   \n",
       "2                      0              243.4              114   \n",
       "3                      0              299.4               71   \n",
       "4                      0              166.7              113   \n",
       "\n",
       "   total_day_charge  total_eve_minutes  total_eve_calls  total_eve_charge  \\\n",
       "0             45.07              197.4               99             16.78   \n",
       "1             27.47              195.5              103             16.62   \n",
       "2             41.38              121.2              110             10.30   \n",
       "3             50.90               61.9               88              5.26   \n",
       "4             28.34              148.3              122             12.61   \n",
       "\n",
       "   total_night_minutes  total_night_calls  total_night_charge  \\\n",
       "0                244.7                 91               11.01   \n",
       "1                254.4                103               11.45   \n",
       "2                162.6                104                7.32   \n",
       "3                196.9                 89                8.86   \n",
       "4                186.9                121                8.41   \n",
       "\n",
       "   total_intl_minutes  total_intl_calls  total_intl_charge  \\\n",
       "0                10.0                 3               2.70   \n",
       "1                13.7                 3               3.70   \n",
       "2                12.2                 5               3.29   \n",
       "3                 6.6                 7               1.78   \n",
       "4                10.1                 3               2.73   \n",
       "\n",
       "   number_customer_service_calls  churned  \n",
       "0                              1   False.  \n",
       "1                              1   False.  \n",
       "2                              0   False.  \n",
       "3                              2   False.  \n",
       "4                              3   False.  "
      ]
     },
     "execution_count": 31,
     "metadata": {},
     "output_type": "execute_result"
    }
   ],
   "source": [
    "print(\"Shape of data: \" + str(churn_df.shape))\n",
    "data.head(5)"
   ]
  },
  {
   "cell_type": "markdown",
   "metadata": {
    "colab_type": "text",
    "id": "OCglmJ9Oi0Mo"
   },
   "source": [
    "### Part 1.2: Data exploring and cleaning"
   ]
  },
  {
   "cell_type": "code",
   "execution_count": 32,
   "metadata": {},
   "outputs": [],
   "source": [
    "# Note that there are white spaces in the strings\n",
    "data.intl_plan = data.intl_plan.map({' no': 0, ' yes':1})\n",
    "data.voice_mail_plan = data.voice_mail_plan.map({' no': 0, ' yes':1})\n",
    "data.churned = data.churned.map({' False.': 0, ' True.':1})"
   ]
  },
  {
   "cell_type": "code",
   "execution_count": 44,
   "metadata": {},
   "outputs": [
    {
     "data": {
      "image/png": "[encoded data removed]",
      "text/plain": [
       "<Figure size 432x288 with 3 Axes>"
      ]
     },
     "metadata": {
      "needs_background": "light"
     },
     "output_type": "display_data"
    }
   ],
   "source": [
    "import seaborn as sns\n",
    "import matplotlib.pyplot as plt\n",
    "## plot:\n",
    "fig, axes = plt.subplots(1,3)\n",
    "ax1 = sns.countplot(x=\"intl_plan\",       data = data, ax = axes[0])\n",
    "ax2 = sns.countplot(x=\"voice_mail_plan\", data = data, ax = axes[1])\n",
    "ax3 = sns.countplot(x=\"churned\",         data = data, ax = axes[2])\n",
    "plt.tight_layout()\n"
   ]
  },
  {
   "cell_type": "code",
   "execution_count": 45,
   "metadata": {},
   "outputs": [],
   "source": [
    "## check the distribution of voice_mail_plan, intl_plan, churned columns\n",
    "df_1 = data[['voice_mail_plan', 'intl_plan', 'churned']]"
   ]
  },
  {
   "cell_type": "markdown",
   "metadata": {
    "colab_type": "text",
    "id": "SsAbAjhvi0Mx"
   },
   "source": [
    "### Part 1.3:  Understand the features"
   ]
  },
  {
   "cell_type": "code",
   "execution_count": 56,
   "metadata": {},
   "outputs": [
    {
     "data": {
      "text/html": [
       "<div>\n",
       "<style scoped>\n",
       "    .dataframe tbody tr th:only-of-type {\n",
       "        vertical-align: middle;\n",
       "    }\n",
       "\n",
       "    .dataframe tbody tr th {\n",
       "        vertical-align: top;\n",
       "    }\n",
       "\n",
       "    .dataframe thead th {\n",
       "        text-align: right;\n",
       "    }\n",
       "</style>\n",
       "<table border=\"1\" class=\"dataframe\">\n",
       "  <thead>\n",
       "    <tr style=\"text-align: right;\">\n",
       "      <th></th>\n",
       "      <th>account_length</th>\n",
       "      <th>intl_plan</th>\n",
       "      <th>voice_mail_plan</th>\n",
       "      <th>number_vmail_messages</th>\n",
       "      <th>total_day_minutes</th>\n",
       "      <th>total_day_calls</th>\n",
       "      <th>total_day_charge</th>\n",
       "      <th>total_eve_minutes</th>\n",
       "      <th>total_eve_calls</th>\n",
       "      <th>total_eve_charge</th>\n",
       "      <th>total_night_minutes</th>\n",
       "      <th>total_night_calls</th>\n",
       "      <th>total_night_charge</th>\n",
       "      <th>total_intl_minutes</th>\n",
       "      <th>total_intl_calls</th>\n",
       "      <th>total_intl_charge</th>\n",
       "      <th>number_customer_service_calls</th>\n",
       "    </tr>\n",
       "    <tr>\n",
       "      <th>churned</th>\n",
       "      <th></th>\n",
       "      <th></th>\n",
       "      <th></th>\n",
       "      <th></th>\n",
       "      <th></th>\n",
       "      <th></th>\n",
       "      <th></th>\n",
       "      <th></th>\n",
       "      <th></th>\n",
       "      <th></th>\n",
       "      <th></th>\n",
       "      <th></th>\n",
       "      <th></th>\n",
       "      <th></th>\n",
       "      <th></th>\n",
       "      <th></th>\n",
       "      <th></th>\n",
       "    </tr>\n",
       "  </thead>\n",
       "  <tbody>\n",
       "    <tr>\n",
       "      <th>0</th>\n",
       "      <td>99</td>\n",
       "      <td>0</td>\n",
       "      <td>0</td>\n",
       "      <td>0</td>\n",
       "      <td>178.0</td>\n",
       "      <td>100</td>\n",
       "      <td>30.26</td>\n",
       "      <td>199.5</td>\n",
       "      <td>101</td>\n",
       "      <td>16.96</td>\n",
       "      <td>199.0</td>\n",
       "      <td>100</td>\n",
       "      <td>8.96</td>\n",
       "      <td>10.3</td>\n",
       "      <td>4</td>\n",
       "      <td>2.78</td>\n",
       "      <td>1</td>\n",
       "    </tr>\n",
       "    <tr>\n",
       "      <th>1</th>\n",
       "      <td>102</td>\n",
       "      <td>0</td>\n",
       "      <td>0</td>\n",
       "      <td>0</td>\n",
       "      <td>215.9</td>\n",
       "      <td>101</td>\n",
       "      <td>36.70</td>\n",
       "      <td>211.1</td>\n",
       "      <td>99</td>\n",
       "      <td>17.94</td>\n",
       "      <td>206.3</td>\n",
       "      <td>100</td>\n",
       "      <td>9.28</td>\n",
       "      <td>10.6</td>\n",
       "      <td>4</td>\n",
       "      <td>2.86</td>\n",
       "      <td>2</td>\n",
       "    </tr>\n",
       "  </tbody>\n",
       "</table>\n",
       "</div>"
      ],
      "text/plain": [
       "         account_length  intl_plan  voice_mail_plan  number_vmail_messages  \\\n",
       "churned                                                                      \n",
       "0                    99          0                0                      0   \n",
       "1                   102          0                0                      0   \n",
       "\n",
       "         total_day_minutes  total_day_calls  total_day_charge  \\\n",
       "churned                                                         \n",
       "0                    178.0              100             30.26   \n",
       "1                    215.9              101             36.70   \n",
       "\n",
       "         total_eve_minutes  total_eve_calls  total_eve_charge  \\\n",
       "churned                                                         \n",
       "0                    199.5              101             16.96   \n",
       "1                    211.1               99             17.94   \n",
       "\n",
       "         total_night_minutes  total_night_calls  total_night_charge  \\\n",
       "churned                                                               \n",
       "0                      199.0                100                8.96   \n",
       "1                      206.3                100                9.28   \n",
       "\n",
       "         total_intl_minutes  total_intl_calls  total_intl_charge  \\\n",
       "churned                                                            \n",
       "0                      10.3                 4               2.78   \n",
       "1                      10.6                 4               2.86   \n",
       "\n",
       "         number_customer_service_calls  \n",
       "churned                                 \n",
       "0                                    1  \n",
       "1                                    2  "
      ]
     },
     "execution_count": 56,
     "metadata": {},
     "output_type": "execute_result"
    }
   ],
   "source": [
    "# Compare the mean values of features between the two classes \n",
    "data.groupby('churned').median().drop(['area_code'], axis=1)"
   ]
  },
  {
   "cell_type": "code",
   "execution_count": 57,
   "metadata": {},
   "outputs": [
    {
     "name": "stdout",
     "output_type": "stream",
     "text": [
      "The K-S test for total_day_calls:  Ks_2sampResult(statistic=0.0374314160975846, pvalue=0.3566846596189683)\n",
      "The K-S test for total_intl_charge:  Ks_2sampResult(statistic=0.09604596278735389, pvalue=2.442777837021745e-05)\n",
      "The K-S test for total_night_calls:  Ks_2sampResult(statistic=0.0302110175078604, pvalue=0.6303685394085429)\n",
      "The K-S test for total_eve_calls:  Ks_2sampResult(statistic=0.02443964072957161, pvalue=0.857343162243927)\n",
      "The K-S test for total_intl_minutes:  Ks_2sampResult(statistic=0.09604596278735389, pvalue=2.442777837021745e-05)\n",
      "The K-S test for total_day_minutes:  Ks_2sampResult(statistic=0.30453806087407176, pvalue=8.050945996407213e-50)\n",
      "The K-S test for total_eve_minutes:  Ks_2sampResult(statistic=0.11320491138661631, pvalue=2.9892973748115123e-07)\n",
      "The K-S test for total_eve_charge:  Ks_2sampResult(statistic=0.11320491138661631, pvalue=2.9892973748115123e-07)\n",
      "The K-S test for number_customer_service_calls:  Ks_2sampResult(statistic=0.2381782652658797, pvalue=1.2223785561425916e-30)\n",
      "The K-S test for total_intl_calls:  Ks_2sampResult(statistic=0.09731838712472626, pvalue=1.8065175321591677e-05)\n",
      "The K-S test for total_night_charge:  Ks_2sampResult(statistic=0.062277955857879874, pvalue=0.017191586699967065)\n",
      "The K-S test for voice_mail_plan:  Ks_2sampResult(statistic=0.14014492194951755, pvalue=6.925324299497678e-11)\n",
      "The K-S test for account_length:  Ks_2sampResult(statistic=0.04158936408765168, pvalue=0.2393621092523914)\n",
      "The K-S test for total_day_charge:  Ks_2sampResult(statistic=0.30453806087407176, pvalue=8.050945996407213e-50)\n",
      "The K-S test for total_night_minutes:  Ks_2sampResult(statistic=0.06274383053759103, pvalue=0.016006448527058535)\n",
      "The K-S test for intl_plan:  Ks_2sampResult(statistic=0.21764617312285284, pvalue=1.1798532493925752e-25)\n",
      "The K-S test for number_vmail_messages:  Ks_2sampResult(statistic=0.13991198460966192, pvalue=7.502131588373171e-11)\n"
     ]
    }
   ],
   "source": [
    "from scipy.stats import ks_2samp\n",
    "columns = set(data.columns) - {\"area_code\",\"phone_number\",\"state\",\"churned\"}\n",
    "for feature in columns:\n",
    "    churn_0, churn_1 = data.loc[data.churned == 0, feature], data.loc[data.churned == 1, feature]\n",
    "    print(\"The K-S test for \" + feature + \": \", ks_2samp(churn_0, churn_1))\n"
   ]
  },
  {
   "cell_type": "markdown",
   "metadata": {},
   "source": [
    "### From the K-S test, one can tell that the p-values for total_day_calls, total_night_calls,  total_eve_calls and account_length are very high, so we cannot reject the null hypothesis that the distributions of those features for churned and not-churned customers are the same."
   ]
  },
  {
   "cell_type": "code",
   "execution_count": 84,
   "metadata": {
    "colab": {
     "base_uri": "https://localhost:8080/",
     "height": 296
    },
    "colab_type": "code",
    "id": "rJ0AdxwLi0Mz",
    "outputId": "efe4edd7-5acb-4210-c94f-10e4e8124d82",
    "scrolled": false
   },
   "outputs": [
    {
     "data": {
      "image/png": "[encoded data removed]",
      "text/plain": [
       "<Figure size 720x360 with 4 Axes>"
      ]
     },
     "metadata": {
      "needs_background": "light"
     },
     "output_type": "display_data"
    }
   ],
   "source": [
    "# check the feature distribution\n",
    "#%matplotlib inline\n",
    "\n",
    "fig, axes = plt.subplots(2,2, figsize=(10,5))\n",
    "\n",
    "def sns_plot(axis, feature):\n",
    "    sns.distplot(data.loc[data.churned == 0, feature], kde = True, label = \"churned = 0\", ax = axis, color = 'b')\n",
    "    sns.distplot(data.loc[data.churned == 1, feature], kde = True, label = \"churned = 1\", ax = axis, color = 'r')\n",
    "\n",
    "sns_plot(axes[0,0], \"total_day_calls\")\n",
    "sns_plot(axes[0,1], \"total_night_calls\")\n",
    "sns_plot(axes[1,0], \"total_eve_calls\")\n",
    "sns_plot(axes[1,1], \"account_length\")\n",
    "plt.legend()\n",
    "\n",
    "plt.tight_layout()\n",
    "plt.show()"
   ]
  },
  {
   "cell_type": "code",
   "execution_count": 107,
   "metadata": {
    "colab": {
     "base_uri": "https://localhost:8080/",
     "height": 386
    },
    "colab_type": "code",
    "id": "4DKTTdB6i0M2",
    "outputId": "27dda677-7a01-4a77-cce7-920b585f40a8"
   },
   "outputs": [
    {
     "data": {
      "text/plain": [
       "<matplotlib.axes._subplots.AxesSubplot at 0x1a320a84e0>"
      ]
     },
     "execution_count": 107,
     "metadata": {},
     "output_type": "execute_result"
    },
    {
     "data": {
      "image/png": "[encoded data removed]",
      "text/plain": [
       "<Figure size 432x288 with 2 Axes>"
      ]
     },
     "metadata": {
      "needs_background": "light"
     },
     "output_type": "display_data"
    }
   ],
   "source": [
    "# correlations between features\n",
    "columns = set(data.columns)\n",
    "columns.remove(\"area_code\")\n",
    "corr = data[list(columns)].corr()\n",
    "\n",
    "# show heapmap of correlations\n",
    "sns.heatmap(corr, cmap=\"YlGnBu\")"
   ]
  },
  {
   "cell_type": "code",
   "execution_count": 109,
   "metadata": {
    "colab": {
     "base_uri": "https://localhost:8080/",
     "height": 34
    },
    "colab_type": "code",
    "id": "wtjI61m6i0M8",
    "outputId": "2101f665-017c-4910-ecd4-2e864669925a"
   },
   "outputs": [
    {
     "name": "stdout",
     "output_type": "stream",
     "text": [
      "Pearson correlation between churned and total_day_calls:  0.016129708552931724\n",
      "Pearson correlation between churned and total_intl_charge:  0.06327531843444727\n",
      "Pearson correlation between churned and total_eve_calls:  -0.0062840712041298714\n",
      "Pearson correlation between churned and total_intl_minutes:  0.06328488783987857\n",
      "Pearson correlation between churned and total_night_charge:  0.04567252950480987\n",
      "Pearson correlation between churned and intl_plan:  0.2591226454643771\n",
      "Pearson correlation between churned and account_length:  0.021203451686939805\n",
      "Pearson correlation between churned and total_day_charge:  0.20769977695633682\n",
      "Pearson correlation between churned and total_night_minutes:  0.04567672039250793\n",
      "Pearson correlation between churned and number_vmail_messages:  -0.09763335208851609\n",
      "Pearson correlation between churned and total_night_calls:  -0.0069855898142108\n",
      "Pearson correlation between churned and total_day_minutes:  0.20770519477848046\n",
      "Pearson correlation between churned and total_eve_minutes:  0.08928848603793121\n",
      "Pearson correlation between churned and area_code:  0.01019528126179938\n",
      "Pearson correlation between churned and number_customer_service_calls:  0.2125640465594381\n",
      "Pearson correlation between churned and total_intl_calls:  -0.0468925135493193\n",
      "Pearson correlation between churned and total_eve_charge:  0.08928223532043178\n",
      "Pearson correlation between churned and voice_mail_plan:  -0.1106982563364211\n"
     ]
    }
   ],
   "source": [
    "# calculate correlation for two-feature pairs:\n",
    "from scipy.stats import pearsonr\n",
    "import itertools\n",
    "\n",
    "pearsonCols = set(data.columns)\n",
    "pearsonCols.remove(\"churned\")\n",
    "\n",
    "for feature in pearsonCols:\n",
    "    try:\n",
    "        pearson_coeff = pearsonr(data[feature], data['churned'])[0]\n",
    "        print(\"Pearson correlation between churned and \" + feature + \": \", pearson_coeff)\n",
    "    except:\n",
    "        continue"
   ]
  },
  {
   "cell_type": "markdown",
   "metadata": {},
   "source": [
    "### From the pearson correlation test, we can see that the feature \"intl_plan\", \"total_day_charge\", \"total_day_minutes\" and \"number_customer_service_calls\" are important to the label, so let us check the distribution of those features."
   ]
  },
  {
   "cell_type": "code",
   "execution_count": 111,
   "metadata": {},
   "outputs": [
    {
     "data": {
      "image/png": "[encoded data removed]",
      "text/plain": [
       "<Figure size 720x360 with 4 Axes>"
      ]
     },
     "metadata": {
      "needs_background": "light"
     },
     "output_type": "display_data"
    }
   ],
   "source": [
    "fig, axes = plt.subplots(2,2, figsize=(10,5))\n",
    "\n",
    "def sns_plot(axis, feature):\n",
    "    sns.distplot(data.loc[data.churned == 0, feature], kde = True, label = \"churned = 0\", ax = axis, color = 'b')\n",
    "    sns.distplot(data.loc[data.churned == 1, feature], kde = True, label = \"churned = 1\", ax = axis, color = 'r')\n",
    "    return\n",
    "\n",
    "sns_plot(axes[0,0], \"intl_plan\")\n",
    "sns_plot(axes[0,1], \"total_day_charge\")\n",
    "sns_plot(axes[1,0], \"total_day_minutes\")\n",
    "sns_plot(axes[1,1], \"number_customer_service_calls\")\n",
    "plt.legend()\n",
    "\n",
    "plt.tight_layout()\n",
    "plt.show()"
   ]
  },
  {
   "cell_type": "markdown",
   "metadata": {
    "colab_type": "text",
    "id": "aFa4d6t3i0NH"
   },
   "source": [
    "# Part 2: Feature Preprocessing"
   ]
  },
  {
   "cell_type": "code",
   "execution_count": 143,
   "metadata": {
    "colab": {
     "base_uri": "https://localhost:8080/",
     "height": 224
    },
    "colab_type": "code",
    "id": "pxtf6XoJi0NI",
    "outputId": "9463a048-e23b-4e7f-bd5d-47708b430043",
    "scrolled": true
   },
   "outputs": [
    {
     "data": {
      "text/html": [
       "<div>\n",
       "<style scoped>\n",
       "    .dataframe tbody tr th:only-of-type {\n",
       "        vertical-align: middle;\n",
       "    }\n",
       "\n",
       "    .dataframe tbody tr th {\n",
       "        vertical-align: top;\n",
       "    }\n",
       "\n",
       "    .dataframe thead th {\n",
       "        text-align: right;\n",
       "    }\n",
       "</style>\n",
       "<table border=\"1\" class=\"dataframe\">\n",
       "  <thead>\n",
       "    <tr style=\"text-align: right;\">\n",
       "      <th></th>\n",
       "      <th>state</th>\n",
       "      <th>account_length</th>\n",
       "      <th>area_code</th>\n",
       "      <th>phone_number</th>\n",
       "      <th>intl_plan</th>\n",
       "      <th>voice_mail_plan</th>\n",
       "      <th>number_vmail_messages</th>\n",
       "      <th>total_day_minutes</th>\n",
       "      <th>total_day_calls</th>\n",
       "      <th>total_day_charge</th>\n",
       "      <th>total_eve_minutes</th>\n",
       "      <th>total_eve_calls</th>\n",
       "      <th>total_eve_charge</th>\n",
       "      <th>total_night_minutes</th>\n",
       "      <th>total_night_calls</th>\n",
       "      <th>total_night_charge</th>\n",
       "      <th>total_intl_minutes</th>\n",
       "      <th>total_intl_calls</th>\n",
       "      <th>total_intl_charge</th>\n",
       "      <th>number_customer_service_calls</th>\n",
       "      <th>churned</th>\n",
       "    </tr>\n",
       "  </thead>\n",
       "  <tbody>\n",
       "    <tr>\n",
       "      <th>0</th>\n",
       "      <td>KS</td>\n",
       "      <td>128</td>\n",
       "      <td>415</td>\n",
       "      <td>382-4657</td>\n",
       "      <td>0</td>\n",
       "      <td>1</td>\n",
       "      <td>25</td>\n",
       "      <td>265.1</td>\n",
       "      <td>110</td>\n",
       "      <td>45.07</td>\n",
       "      <td>197.4</td>\n",
       "      <td>99</td>\n",
       "      <td>16.78</td>\n",
       "      <td>244.7</td>\n",
       "      <td>91</td>\n",
       "      <td>11.01</td>\n",
       "      <td>10.0</td>\n",
       "      <td>3</td>\n",
       "      <td>2.7</td>\n",
       "      <td>1</td>\n",
       "      <td>0</td>\n",
       "    </tr>\n",
       "    <tr>\n",
       "      <th>1</th>\n",
       "      <td>OH</td>\n",
       "      <td>107</td>\n",
       "      <td>415</td>\n",
       "      <td>371-7191</td>\n",
       "      <td>0</td>\n",
       "      <td>1</td>\n",
       "      <td>26</td>\n",
       "      <td>161.6</td>\n",
       "      <td>123</td>\n",
       "      <td>27.47</td>\n",
       "      <td>195.5</td>\n",
       "      <td>103</td>\n",
       "      <td>16.62</td>\n",
       "      <td>254.4</td>\n",
       "      <td>103</td>\n",
       "      <td>11.45</td>\n",
       "      <td>13.7</td>\n",
       "      <td>3</td>\n",
       "      <td>3.7</td>\n",
       "      <td>1</td>\n",
       "      <td>0</td>\n",
       "    </tr>\n",
       "  </tbody>\n",
       "</table>\n",
       "</div>"
      ],
      "text/plain": [
       "  state  account_length  area_code phone_number  intl_plan  voice_mail_plan  \\\n",
       "0    KS             128        415     382-4657          0                1   \n",
       "1    OH             107        415     371-7191          0                1   \n",
       "\n",
       "   number_vmail_messages  total_day_minutes  total_day_calls  \\\n",
       "0                     25              265.1              110   \n",
       "1                     26              161.6              123   \n",
       "\n",
       "   total_day_charge  total_eve_minutes  total_eve_calls  total_eve_charge  \\\n",
       "0             45.07              197.4               99             16.78   \n",
       "1             27.47              195.5              103             16.62   \n",
       "\n",
       "   total_night_minutes  total_night_calls  total_night_charge  \\\n",
       "0                244.7                 91               11.01   \n",
       "1                254.4                103               11.45   \n",
       "\n",
       "   total_intl_minutes  total_intl_calls  total_intl_charge  \\\n",
       "0                10.0                 3                2.7   \n",
       "1                13.7                 3                3.7   \n",
       "\n",
       "   number_customer_service_calls  churned  \n",
       "0                              1        0  \n",
       "1                              1        0  "
      ]
     },
     "execution_count": 143,
     "metadata": {},
     "output_type": "execute_result"
    }
   ],
   "source": [
    "data.head(2)"
   ]
  },
  {
   "cell_type": "code",
   "execution_count": 172,
   "metadata": {
    "colab": {},
    "colab_type": "code",
    "id": "4ec5r_Qdi0NL"
   },
   "outputs": [
    {
     "data": {
      "text/html": [
       "<div>\n",
       "<style scoped>\n",
       "    .dataframe tbody tr th:only-of-type {\n",
       "        vertical-align: middle;\n",
       "    }\n",
       "\n",
       "    .dataframe tbody tr th {\n",
       "        vertical-align: top;\n",
       "    }\n",
       "\n",
       "    .dataframe thead th {\n",
       "        text-align: right;\n",
       "    }\n",
       "</style>\n",
       "<table border=\"1\" class=\"dataframe\">\n",
       "  <thead>\n",
       "    <tr style=\"text-align: right;\">\n",
       "      <th></th>\n",
       "      <th>account_length</th>\n",
       "      <th>number_vmail_messages</th>\n",
       "      <th>total_day_minutes</th>\n",
       "      <th>total_day_calls</th>\n",
       "      <th>total_day_charge</th>\n",
       "      <th>total_eve_minutes</th>\n",
       "      <th>total_eve_calls</th>\n",
       "      <th>total_eve_charge</th>\n",
       "      <th>total_night_minutes</th>\n",
       "      <th>total_night_calls</th>\n",
       "      <th>total_night_charge</th>\n",
       "      <th>total_intl_minutes</th>\n",
       "      <th>total_intl_calls</th>\n",
       "      <th>total_intl_charge</th>\n",
       "      <th>number_customer_service_calls</th>\n",
       "      <th>state_AK</th>\n",
       "      <th>state_AL</th>\n",
       "      <th>state_AR</th>\n",
       "      <th>state_AZ</th>\n",
       "      <th>state_CA</th>\n",
       "      <th>state_CO</th>\n",
       "      <th>state_CT</th>\n",
       "      <th>state_DC</th>\n",
       "      <th>state_DE</th>\n",
       "      <th>state_FL</th>\n",
       "      <th>state_GA</th>\n",
       "      <th>state_HI</th>\n",
       "      <th>state_IA</th>\n",
       "      <th>state_ID</th>\n",
       "      <th>state_IL</th>\n",
       "      <th>state_IN</th>\n",
       "      <th>state_KS</th>\n",
       "      <th>state_KY</th>\n",
       "      <th>state_LA</th>\n",
       "      <th>state_MA</th>\n",
       "      <th>state_MD</th>\n",
       "      <th>state_ME</th>\n",
       "      <th>state_MI</th>\n",
       "      <th>state_MN</th>\n",
       "      <th>state_MO</th>\n",
       "      <th>state_MS</th>\n",
       "      <th>state_MT</th>\n",
       "      <th>state_NC</th>\n",
       "      <th>state_ND</th>\n",
       "      <th>state_NE</th>\n",
       "      <th>state_NH</th>\n",
       "      <th>state_NJ</th>\n",
       "      <th>state_NM</th>\n",
       "      <th>state_NV</th>\n",
       "      <th>state_NY</th>\n",
       "      <th>state_OH</th>\n",
       "      <th>state_OK</th>\n",
       "      <th>state_OR</th>\n",
       "      <th>state_PA</th>\n",
       "      <th>state_RI</th>\n",
       "      <th>state_SC</th>\n",
       "      <th>state_SD</th>\n",
       "      <th>state_TN</th>\n",
       "      <th>state_TX</th>\n",
       "      <th>state_UT</th>\n",
       "      <th>state_VA</th>\n",
       "      <th>state_VT</th>\n",
       "      <th>state_WA</th>\n",
       "      <th>state_WI</th>\n",
       "      <th>state_WV</th>\n",
       "      <th>state_WY</th>\n",
       "      <th>area_code_408</th>\n",
       "      <th>area_code_415</th>\n",
       "      <th>area_code_510</th>\n",
       "      <th>intl_plan_0</th>\n",
       "      <th>intl_plan_1</th>\n",
       "      <th>voice_mail_plan_0</th>\n",
       "      <th>voice_mail_plan_1</th>\n",
       "    </tr>\n",
       "  </thead>\n",
       "  <tbody>\n",
       "    <tr>\n",
       "      <th>0</th>\n",
       "      <td>128</td>\n",
       "      <td>25</td>\n",
       "      <td>265.1</td>\n",
       "      <td>110</td>\n",
       "      <td>45.07</td>\n",
       "      <td>197.4</td>\n",
       "      <td>99</td>\n",
       "      <td>16.78</td>\n",
       "      <td>244.7</td>\n",
       "      <td>91</td>\n",
       "      <td>11.01</td>\n",
       "      <td>10.0</td>\n",
       "      <td>3</td>\n",
       "      <td>2.7</td>\n",
       "      <td>1</td>\n",
       "      <td>0</td>\n",
       "      <td>0</td>\n",
       "      <td>0</td>\n",
       "      <td>0</td>\n",
       "      <td>0</td>\n",
       "      <td>0</td>\n",
       "      <td>0</td>\n",
       "      <td>0</td>\n",
       "      <td>0</td>\n",
       "      <td>0</td>\n",
       "      <td>0</td>\n",
       "      <td>0</td>\n",
       "      <td>0</td>\n",
       "      <td>0</td>\n",
       "      <td>0</td>\n",
       "      <td>0</td>\n",
       "      <td>1</td>\n",
       "      <td>0</td>\n",
       "      <td>0</td>\n",
       "      <td>0</td>\n",
       "      <td>0</td>\n",
       "      <td>0</td>\n",
       "      <td>0</td>\n",
       "      <td>0</td>\n",
       "      <td>0</td>\n",
       "      <td>0</td>\n",
       "      <td>0</td>\n",
       "      <td>0</td>\n",
       "      <td>0</td>\n",
       "      <td>0</td>\n",
       "      <td>0</td>\n",
       "      <td>0</td>\n",
       "      <td>0</td>\n",
       "      <td>0</td>\n",
       "      <td>0</td>\n",
       "      <td>0</td>\n",
       "      <td>0</td>\n",
       "      <td>0</td>\n",
       "      <td>0</td>\n",
       "      <td>0</td>\n",
       "      <td>0</td>\n",
       "      <td>0</td>\n",
       "      <td>0</td>\n",
       "      <td>0</td>\n",
       "      <td>0</td>\n",
       "      <td>0</td>\n",
       "      <td>0</td>\n",
       "      <td>0</td>\n",
       "      <td>0</td>\n",
       "      <td>0</td>\n",
       "      <td>0</td>\n",
       "      <td>0</td>\n",
       "      <td>1</td>\n",
       "      <td>0</td>\n",
       "      <td>1</td>\n",
       "      <td>0</td>\n",
       "      <td>0</td>\n",
       "      <td>1</td>\n",
       "    </tr>\n",
       "    <tr>\n",
       "      <th>1</th>\n",
       "      <td>107</td>\n",
       "      <td>26</td>\n",
       "      <td>161.6</td>\n",
       "      <td>123</td>\n",
       "      <td>27.47</td>\n",
       "      <td>195.5</td>\n",
       "      <td>103</td>\n",
       "      <td>16.62</td>\n",
       "      <td>254.4</td>\n",
       "      <td>103</td>\n",
       "      <td>11.45</td>\n",
       "      <td>13.7</td>\n",
       "      <td>3</td>\n",
       "      <td>3.7</td>\n",
       "      <td>1</td>\n",
       "      <td>0</td>\n",
       "      <td>0</td>\n",
       "      <td>0</td>\n",
       "      <td>0</td>\n",
       "      <td>0</td>\n",
       "      <td>0</td>\n",
       "      <td>0</td>\n",
       "      <td>0</td>\n",
       "      <td>0</td>\n",
       "      <td>0</td>\n",
       "      <td>0</td>\n",
       "      <td>0</td>\n",
       "      <td>0</td>\n",
       "      <td>0</td>\n",
       "      <td>0</td>\n",
       "      <td>0</td>\n",
       "      <td>0</td>\n",
       "      <td>0</td>\n",
       "      <td>0</td>\n",
       "      <td>0</td>\n",
       "      <td>0</td>\n",
       "      <td>0</td>\n",
       "      <td>0</td>\n",
       "      <td>0</td>\n",
       "      <td>0</td>\n",
       "      <td>0</td>\n",
       "      <td>0</td>\n",
       "      <td>0</td>\n",
       "      <td>0</td>\n",
       "      <td>0</td>\n",
       "      <td>0</td>\n",
       "      <td>0</td>\n",
       "      <td>0</td>\n",
       "      <td>0</td>\n",
       "      <td>0</td>\n",
       "      <td>1</td>\n",
       "      <td>0</td>\n",
       "      <td>0</td>\n",
       "      <td>0</td>\n",
       "      <td>0</td>\n",
       "      <td>0</td>\n",
       "      <td>0</td>\n",
       "      <td>0</td>\n",
       "      <td>0</td>\n",
       "      <td>0</td>\n",
       "      <td>0</td>\n",
       "      <td>0</td>\n",
       "      <td>0</td>\n",
       "      <td>0</td>\n",
       "      <td>0</td>\n",
       "      <td>0</td>\n",
       "      <td>0</td>\n",
       "      <td>1</td>\n",
       "      <td>0</td>\n",
       "      <td>1</td>\n",
       "      <td>0</td>\n",
       "      <td>0</td>\n",
       "      <td>1</td>\n",
       "    </tr>\n",
       "  </tbody>\n",
       "</table>\n",
       "</div>"
      ],
      "text/plain": [
       "   account_length  number_vmail_messages  total_day_minutes  total_day_calls  \\\n",
       "0             128                     25              265.1              110   \n",
       "1             107                     26              161.6              123   \n",
       "\n",
       "   total_day_charge  total_eve_minutes  total_eve_calls  total_eve_charge  \\\n",
       "0             45.07              197.4               99             16.78   \n",
       "1             27.47              195.5              103             16.62   \n",
       "\n",
       "   total_night_minutes  total_night_calls  total_night_charge  \\\n",
       "0                244.7                 91               11.01   \n",
       "1                254.4                103               11.45   \n",
       "\n",
       "   total_intl_minutes  total_intl_calls  total_intl_charge  \\\n",
       "0                10.0                 3                2.7   \n",
       "1                13.7                 3                3.7   \n",
       "\n",
       "   number_customer_service_calls  state_AK  state_AL  state_AR  state_AZ  \\\n",
       "0                              1         0         0         0         0   \n",
       "1                              1         0         0         0         0   \n",
       "\n",
       "   state_CA  state_CO  state_CT  state_DC  state_DE  state_FL  state_GA  \\\n",
       "0         0         0         0         0         0         0         0   \n",
       "1         0         0         0         0         0         0         0   \n",
       "\n",
       "   state_HI  state_IA  state_ID  state_IL  state_IN  state_KS  state_KY  \\\n",
       "0         0         0         0         0         0         1         0   \n",
       "1         0         0         0         0         0         0         0   \n",
       "\n",
       "   state_LA  state_MA  state_MD  state_ME  state_MI  state_MN  state_MO  \\\n",
       "0         0         0         0         0         0         0         0   \n",
       "1         0         0         0         0         0         0         0   \n",
       "\n",
       "   state_MS  state_MT  state_NC  state_ND  state_NE  state_NH  state_NJ  \\\n",
       "0         0         0         0         0         0         0         0   \n",
       "1         0         0         0         0         0         0         0   \n",
       "\n",
       "   state_NM  state_NV  state_NY  state_OH  state_OK  state_OR  state_PA  \\\n",
       "0         0         0         0         0         0         0         0   \n",
       "1         0         0         0         1         0         0         0   \n",
       "\n",
       "   state_RI  state_SC  state_SD  state_TN  state_TX  state_UT  state_VA  \\\n",
       "0         0         0         0         0         0         0         0   \n",
       "1         0         0         0         0         0         0         0   \n",
       "\n",
       "   state_VT  state_WA  state_WI  state_WV  state_WY  area_code_408  \\\n",
       "0         0         0         0         0         0              0   \n",
       "1         0         0         0         0         0              0   \n",
       "\n",
       "   area_code_415  area_code_510  intl_plan_0  intl_plan_1  voice_mail_plan_0  \\\n",
       "0              1              0            1            0                  0   \n",
       "1              1              0            1            0                  0   \n",
       "\n",
       "   voice_mail_plan_1  \n",
       "0                  1  \n",
       "1                  1  "
      ]
     },
     "execution_count": 172,
     "metadata": {},
     "output_type": "execute_result"
    }
   ],
   "source": [
    "## Get labels:\n",
    "Y = data[\"churned\"].values\n",
    "\n",
    "## Drop some extra columns:\n",
    "features = data.drop([\"phone_number\",\"churned\"], axis=1)\n",
    "preX = pd.get_dummies(features, columns=[\"state\",\"area_code\",\"intl_plan\",\"voice_mail_plan\"])\n",
    "\n",
    "preX.head(2)"
   ]
  },
  {
   "cell_type": "code",
   "execution_count": 173,
   "metadata": {
    "colab": {
     "base_uri": "https://localhost:8080/",
     "height": 34
    },
    "colab_type": "code",
    "id": "rzCo_GC97rGd",
    "outputId": "41f2d4d4-e7cc-44c7-eac7-00dde510edce"
   },
   "outputs": [
    {
     "name": "stdout",
     "output_type": "stream",
     "text": [
      "The percentage of 1 among all lables: 14.14%\n"
     ]
    }
   ],
   "source": [
    "# check the propotion of y = 1 in the sample:\n",
    "print(\"The percentage of 1 among all lables: \" + str(y.sum() / y.shape[0] * 100) + \"%\")"
   ]
  },
  {
   "cell_type": "code",
   "execution_count": 176,
   "metadata": {},
   "outputs": [
    {
     "data": {
      "text/plain": [
       "Index(['account_length', 'number_vmail_messages', 'total_day_minutes',\n",
       "       'total_day_calls', 'total_day_charge', 'total_eve_minutes',\n",
       "       'total_eve_calls', 'total_eve_charge', 'total_night_minutes',\n",
       "       'total_night_calls', 'total_night_charge', 'total_intl_minutes',\n",
       "       'total_intl_calls', 'total_intl_charge',\n",
       "       'number_customer_service_calls', 'state_AK', 'state_AL', 'state_AR',\n",
       "       'state_AZ', 'state_CA', 'state_CO', 'state_CT', 'state_DC', 'state_DE',\n",
       "       'state_FL', 'state_GA', 'state_HI', 'state_IA', 'state_ID', 'state_IL',\n",
       "       'state_IN', 'state_KS', 'state_KY', 'state_LA', 'state_MA', 'state_MD',\n",
       "       'state_ME', 'state_MI', 'state_MN', 'state_MO', 'state_MS', 'state_MT',\n",
       "       'state_NC', 'state_ND', 'state_NE', 'state_NH', 'state_NJ', 'state_NM',\n",
       "       'state_NV', 'state_NY', 'state_OH', 'state_OK', 'state_OR', 'state_PA',\n",
       "       'state_RI', 'state_SC', 'state_SD', 'state_TN', 'state_TX', 'state_UT',\n",
       "       'state_VA', 'state_VT', 'state_WA', 'state_WI', 'state_WV', 'state_WY',\n",
       "       'area_code_408', 'area_code_415', 'area_code_510', 'intl_plan_0',\n",
       "       'intl_plan_1', 'voice_mail_plan_0', 'voice_mail_plan_1'],\n",
       "      dtype='object')"
      ]
     },
     "execution_count": 176,
     "metadata": {},
     "output_type": "execute_result"
    }
   ],
   "source": [
    "preX.columns"
   ]
  },
  {
   "cell_type": "code",
   "execution_count": 177,
   "metadata": {},
   "outputs": [],
   "source": [
    "## train-test split: reserve 20% for testing\n",
    "from sklearn.model_selection import train_test_split\n",
    "X_train, X_test, Y_train, Y_test =  train_test_split(preX, Y, test_size = 0.2, random_state=0)"
   ]
  },
  {
   "cell_type": "code",
   "execution_count": 178,
   "metadata": {
    "colab": {
     "base_uri": "https://localhost:8080/",
     "height": 391
    },
    "colab_type": "code",
    "id": "JuPhtUkJi0NW",
    "outputId": "23671147-880b-4337-8adc-64740609ceda"
   },
   "outputs": [],
   "source": [
    "# Scale the training and test data independently:\n",
    "from sklearn.preprocessing import StandardScaler\n",
    "scaler = StandardScaler()\n",
    "\n",
    "columns_1 = ['account_length',      'number_vmail_messages', 'total_day_minutes',  'total_day_calls',\n",
    "           'total_day_charge',    'total_eve_minutes',     'total_eve_calls',    'total_eve_charge',\n",
    "           'total_night_minutes', 'total_night_calls',     'total_night_charge', 'total_intl_minutes',\n",
    "           'total_intl_calls',    'total_intl_charge',     'number_customer_service_calls']\n",
    "\n",
    "scalled_X_train = scaler.fit_transform(X_train[columns_1].values)\n",
    "X_train[columns_1] = scalled_X_train\n",
    "\n",
    "scalled_X_test  = scaler.fit_transform(X_test[columns_1].values)\n",
    "X_test[columns_1] = scalled_X_test"
   ]
  },
  {
   "cell_type": "code",
   "execution_count": 185,
   "metadata": {},
   "outputs": [
    {
     "data": {
      "text/html": [
       "<div>\n",
       "<style scoped>\n",
       "    .dataframe tbody tr th:only-of-type {\n",
       "        vertical-align: middle;\n",
       "    }\n",
       "\n",
       "    .dataframe tbody tr th {\n",
       "        vertical-align: top;\n",
       "    }\n",
       "\n",
       "    .dataframe thead th {\n",
       "        text-align: right;\n",
       "    }\n",
       "</style>\n",
       "<table border=\"1\" class=\"dataframe\">\n",
       "  <thead>\n",
       "    <tr style=\"text-align: right;\">\n",
       "      <th></th>\n",
       "      <th>account_length</th>\n",
       "      <th>number_vmail_messages</th>\n",
       "      <th>total_day_minutes</th>\n",
       "      <th>total_day_calls</th>\n",
       "      <th>total_day_charge</th>\n",
       "      <th>total_eve_minutes</th>\n",
       "      <th>total_eve_calls</th>\n",
       "      <th>total_eve_charge</th>\n",
       "      <th>total_night_minutes</th>\n",
       "      <th>total_night_calls</th>\n",
       "      <th>total_night_charge</th>\n",
       "      <th>total_intl_minutes</th>\n",
       "      <th>total_intl_calls</th>\n",
       "      <th>total_intl_charge</th>\n",
       "      <th>number_customer_service_calls</th>\n",
       "      <th>state_AK</th>\n",
       "      <th>state_AL</th>\n",
       "      <th>state_AR</th>\n",
       "      <th>state_AZ</th>\n",
       "      <th>state_CA</th>\n",
       "      <th>state_CO</th>\n",
       "      <th>state_CT</th>\n",
       "      <th>state_DC</th>\n",
       "      <th>state_DE</th>\n",
       "      <th>state_FL</th>\n",
       "      <th>state_GA</th>\n",
       "      <th>state_HI</th>\n",
       "      <th>state_IA</th>\n",
       "      <th>state_ID</th>\n",
       "      <th>state_IL</th>\n",
       "      <th>state_IN</th>\n",
       "      <th>state_KS</th>\n",
       "      <th>state_KY</th>\n",
       "      <th>state_LA</th>\n",
       "      <th>state_MA</th>\n",
       "      <th>state_MD</th>\n",
       "      <th>state_ME</th>\n",
       "      <th>state_MI</th>\n",
       "      <th>state_MN</th>\n",
       "      <th>state_MO</th>\n",
       "      <th>state_MS</th>\n",
       "      <th>state_MT</th>\n",
       "      <th>state_NC</th>\n",
       "      <th>state_ND</th>\n",
       "      <th>state_NE</th>\n",
       "      <th>state_NH</th>\n",
       "      <th>state_NJ</th>\n",
       "      <th>state_NM</th>\n",
       "      <th>state_NV</th>\n",
       "      <th>state_NY</th>\n",
       "      <th>state_OH</th>\n",
       "      <th>state_OK</th>\n",
       "      <th>state_OR</th>\n",
       "      <th>state_PA</th>\n",
       "      <th>state_RI</th>\n",
       "      <th>state_SC</th>\n",
       "      <th>state_SD</th>\n",
       "      <th>state_TN</th>\n",
       "      <th>state_TX</th>\n",
       "      <th>state_UT</th>\n",
       "      <th>state_VA</th>\n",
       "      <th>state_VT</th>\n",
       "      <th>state_WA</th>\n",
       "      <th>state_WI</th>\n",
       "      <th>state_WV</th>\n",
       "      <th>state_WY</th>\n",
       "      <th>area_code_408</th>\n",
       "      <th>area_code_415</th>\n",
       "      <th>area_code_510</th>\n",
       "      <th>intl_plan_0</th>\n",
       "      <th>intl_plan_1</th>\n",
       "      <th>voice_mail_plan_0</th>\n",
       "      <th>voice_mail_plan_1</th>\n",
       "    </tr>\n",
       "  </thead>\n",
       "  <tbody>\n",
       "    <tr>\n",
       "      <th>2913</th>\n",
       "      <td>2.137203</td>\n",
       "      <td>-0.57334</td>\n",
       "      <td>-0.75517</td>\n",
       "      <td>-0.384644</td>\n",
       "      <td>-0.75545</td>\n",
       "      <td>0.967015</td>\n",
       "      <td>0.732461</td>\n",
       "      <td>0.967671</td>\n",
       "      <td>-0.83965</td>\n",
       "      <td>-1.037798</td>\n",
       "      <td>-0.841709</td>\n",
       "      <td>0.188925</td>\n",
       "      <td>-0.173917</td>\n",
       "      <td>0.193604</td>\n",
       "      <td>-0.441555</td>\n",
       "      <td>0</td>\n",
       "      <td>0</td>\n",
       "      <td>0</td>\n",
       "      <td>0</td>\n",
       "      <td>1</td>\n",
       "      <td>0</td>\n",
       "      <td>0</td>\n",
       "      <td>0</td>\n",
       "      <td>0</td>\n",
       "      <td>0</td>\n",
       "      <td>0</td>\n",
       "      <td>0</td>\n",
       "      <td>0</td>\n",
       "      <td>0</td>\n",
       "      <td>0</td>\n",
       "      <td>0</td>\n",
       "      <td>0</td>\n",
       "      <td>0</td>\n",
       "      <td>0</td>\n",
       "      <td>0</td>\n",
       "      <td>0</td>\n",
       "      <td>0</td>\n",
       "      <td>0</td>\n",
       "      <td>0</td>\n",
       "      <td>0</td>\n",
       "      <td>0</td>\n",
       "      <td>0</td>\n",
       "      <td>0</td>\n",
       "      <td>0</td>\n",
       "      <td>0</td>\n",
       "      <td>0</td>\n",
       "      <td>0</td>\n",
       "      <td>0</td>\n",
       "      <td>0</td>\n",
       "      <td>0</td>\n",
       "      <td>0</td>\n",
       "      <td>0</td>\n",
       "      <td>0</td>\n",
       "      <td>0</td>\n",
       "      <td>0</td>\n",
       "      <td>0</td>\n",
       "      <td>0</td>\n",
       "      <td>0</td>\n",
       "      <td>0</td>\n",
       "      <td>0</td>\n",
       "      <td>0</td>\n",
       "      <td>0</td>\n",
       "      <td>0</td>\n",
       "      <td>0</td>\n",
       "      <td>0</td>\n",
       "      <td>0</td>\n",
       "      <td>1</td>\n",
       "      <td>0</td>\n",
       "      <td>0</td>\n",
       "      <td>1</td>\n",
       "      <td>0</td>\n",
       "      <td>1</td>\n",
       "      <td>0</td>\n",
       "    </tr>\n",
       "  </tbody>\n",
       "</table>\n",
       "</div>"
      ],
      "text/plain": [
       "      account_length  number_vmail_messages  total_day_minutes  \\\n",
       "2913        2.137203               -0.57334           -0.75517   \n",
       "\n",
       "      total_day_calls  total_day_charge  total_eve_minutes  total_eve_calls  \\\n",
       "2913        -0.384644          -0.75545           0.967015         0.732461   \n",
       "\n",
       "      total_eve_charge  total_night_minutes  total_night_calls  \\\n",
       "2913          0.967671             -0.83965          -1.037798   \n",
       "\n",
       "      total_night_charge  total_intl_minutes  total_intl_calls  \\\n",
       "2913           -0.841709            0.188925         -0.173917   \n",
       "\n",
       "      total_intl_charge  number_customer_service_calls  state_AK  state_AL  \\\n",
       "2913           0.193604                      -0.441555         0         0   \n",
       "\n",
       "      state_AR  state_AZ  state_CA  state_CO  state_CT  state_DC  state_DE  \\\n",
       "2913         0         0         1         0         0         0         0   \n",
       "\n",
       "      state_FL  state_GA  state_HI  state_IA  state_ID  state_IL  state_IN  \\\n",
       "2913         0         0         0         0         0         0         0   \n",
       "\n",
       "      state_KS  state_KY  state_LA  state_MA  state_MD  state_ME  state_MI  \\\n",
       "2913         0         0         0         0         0         0         0   \n",
       "\n",
       "      state_MN  state_MO  state_MS  state_MT  state_NC  state_ND  state_NE  \\\n",
       "2913         0         0         0         0         0         0         0   \n",
       "\n",
       "      state_NH  state_NJ  state_NM  state_NV  state_NY  state_OH  state_OK  \\\n",
       "2913         0         0         0         0         0         0         0   \n",
       "\n",
       "      state_OR  state_PA  state_RI  state_SC  state_SD  state_TN  state_TX  \\\n",
       "2913         0         0         0         0         0         0         0   \n",
       "\n",
       "      state_UT  state_VA  state_VT  state_WA  state_WI  state_WV  state_WY  \\\n",
       "2913         0         0         0         0         0         0         0   \n",
       "\n",
       "      area_code_408  area_code_415  area_code_510  intl_plan_0  intl_plan_1  \\\n",
       "2913              1              0              0            1            0   \n",
       "\n",
       "      voice_mail_plan_0  voice_mail_plan_1  \n",
       "2913                  1                  0  "
      ]
     },
     "execution_count": 185,
     "metadata": {},
     "output_type": "execute_result"
    }
   ],
   "source": [
    "X_train.head(1)"
   ]
  },
  {
   "cell_type": "code",
   "execution_count": 186,
   "metadata": {
    "colab": {
     "base_uri": "https://localhost:8080/",
     "height": 51
    },
    "colab_type": "code",
    "id": "Uay8Md5li0Nh",
    "outputId": "4b0495cb-e8a5-4568-ba50-a56eec228293"
   },
   "outputs": [
    {
     "name": "stdout",
     "output_type": "stream",
     "text": [
      "training data has 4000 observation with 73 features\n",
      "test data has 1000 observation with 73 features\n"
     ]
    }
   ],
   "source": [
    "print('training data has %d observation with %d features'% X_train.shape)\n",
    "print('test data has %d observation with %d features'% X_test.shape)"
   ]
  },
  {
   "cell_type": "markdown",
   "metadata": {
    "colab_type": "text",
    "id": "q3x9ySX_i0Nd"
   },
   "source": [
    "# Part 3: Model Training and Result Evaluation"
   ]
  },
  {
   "cell_type": "markdown",
   "metadata": {
    "colab_type": "text",
    "id": "c4UTtCQTi0Nl"
   },
   "source": [
    "### Part 3.1: Model Training and Selection: Logistic Regression, K-Nearest Neighbors, Random Forest, Support Vector Machine"
   ]
  },
  {
   "cell_type": "code",
   "execution_count": 201,
   "metadata": {
    "cellView": "code",
    "colab": {},
    "colab_type": "code",
    "id": "EAhSxINLi0Nl"
   },
   "outputs": [],
   "source": [
    "#import models:\n",
    "from sklearn import model_selection\n",
    "from sklearn.ensemble import RandomForestClassifier\n",
    "from sklearn.neighbors import KNeighborsClassifier \n",
    "from sklearn.linear_model import LogisticRegression\n",
    "from sklearn.svm import SVC \n",
    "\n",
    "# Logistic Regression\n",
    "classifier_LR = LogisticRegression()\n",
    "\n",
    "# K Nearest Neighbors\n",
    "classifier_KNN = KNeighborsClassifier()\n",
    "\n",
    "# Random Forest\n",
    "classifier_RF = RandomForestClassifier()\n",
    "\n",
    "## support vector machine:\n",
    "classifier_SVM = SVC()"
   ]
  },
  {
   "cell_type": "code",
   "execution_count": 199,
   "metadata": {
    "colab": {
     "base_uri": "https://localhost:8080/",
     "height": 85
    },
    "colab_type": "code",
    "id": "Av0IRSoBQ3pe",
    "outputId": "7ae3da57-3703-4e57-9eb0-4df7315b54cf"
   },
   "outputs": [
    {
     "name": "stdout",
     "output_type": "stream",
     "text": [
      "Test logistic regression: accuracy is  0.873\n"
     ]
    }
   ],
   "source": [
    "# Train the model\n",
    "classifier_LR.fit(X_train, Y_train)\n",
    "print(\"Test logistic regression: accuracy is \", classifier_LR.score(X_test, Y_test))"
   ]
  },
  {
   "cell_type": "code",
   "execution_count": 202,
   "metadata": {
    "colab": {
     "base_uri": "https://localhost:8080/",
     "height": 68
    },
    "colab_type": "code",
    "id": "1OCgNSNri0Nn",
    "outputId": "725804d5-f202-4cfd-edbf-7e4a42fe7a20"
   },
   "outputs": [
    {
     "name": "stdout",
     "output_type": "stream",
     "text": [
      "Accuracy for Logistic Regression is:  0.863000851173205\n",
      "Accuracy for KNN is:  0.8902496167962763\n",
      "Accuracy for Random Forest is:  0.9302471449174139\n",
      "Accuracy for Support Vector Machine is:  0.8907505578133715\n"
     ]
    }
   ],
   "source": [
    "# Use 5-fold Cross Validation to get the accuracy for all three models\n",
    "model_names = [\"Logistic Regression\", \"KNN\", \"Random Forest\", \"Support Vector Machine\"]\n",
    "model_list = [classifier_logistic, classifier_KNN, classifier_RF, classifier_SVM]\n",
    "\n",
    "for i in range(len(model_list)):\n",
    "    classifier = model_list[i]\n",
    "    cv_score = model_selection.cross_val_score(classifier, X_train, Y_train, cv=5)\n",
    "    print(\"Accuracy for \" + model_names[i] + \" is: \",cv_score.mean())"
   ]
  },
  {
   "cell_type": "markdown",
   "metadata": {
    "colab_type": "text",
    "id": "7J-23z78i0Ns"
   },
   "source": [
    "### Part 3.2: Use Grid Search to Find Optimal Hyperparameters"
   ]
  },
  {
   "cell_type": "code",
   "execution_count": 212,
   "metadata": {},
   "outputs": [
    {
     "name": "stdout",
     "output_type": "stream",
     "text": [
      "Collecting xgboost\n",
      "\u001b[?25l  Downloading https://files.pythonhosted.org/packages/96/84/4e2cae6247f397f83d8adc5c2a2a0c5d7d790a14a4c7400ff6574586f589/xgboost-0.90.tar.gz (676kB)\n",
      "\u001b[K    100% |████████████████████████████████| 686kB 16kB/s ta 0:00:010\n",
      "\u001b[?25hRequirement already satisfied: numpy in /anaconda3/lib/python3.7/site-packages (from xgboost) (1.16.2)\n",
      "Requirement already satisfied: scipy in /anaconda3/lib/python3.7/site-packages (from xgboost) (1.2.1)\n",
      "Building wheels for collected packages: xgboost\n",
      "  Building wheel for xgboost (setup.py) ... \u001b[?25ldone\n",
      "\u001b[?25h  Stored in directory: /Users/ben/Library/Caches/pip/wheels/e9/48/4d/de4187b5270dff71d3697c5a7857a1e2d9a0c63a28b3462eeb\n",
      "Successfully built xgboost\n",
      "Installing collected packages: xgboost\n",
      "Successfully installed xgboost-0.90\n"
     ]
    }
   ],
   "source": [
    "import sys\n",
    "!{sys.executable} -m pip install xgboost"
   ]
  },
  {
   "cell_type": "code",
   "execution_count": 213,
   "metadata": {
    "colab": {},
    "colab_type": "code",
    "id": "Hpe9PEAAi0Nt"
   },
   "outputs": [],
   "source": [
    "from xgboost import XGBClassifier\n",
    "from sklearn.model_selection import GridSearchCV\n",
    "from sklearn.metrics import confusion_matrix, roc_curve, roc_auc_score, accuracy_score, precision_score, recall_score\n",
    "\n",
    "# helper function for printing out grid search results \n",
    "def print_grid_metrics(model_name, grid, param):\n",
    "    print(\"For \" + model_name + \": \")\n",
    "    print (\"\\t Best AUC score: %0.3f\" % grid.best_score_)\n",
    "    print (\"\\t Best parameters set:\")\n",
    "    best_params = grid.best_params_\n",
    "    for param_name in sorted(param.keys()):\n",
    "        print(\"\\t\\t%s: %r\" % (param_name, best_params[param_name]))\n",
    "    print()"
   ]
  },
  {
   "cell_type": "code",
   "execution_count": 214,
   "metadata": {
    "colab": {
     "base_uri": "https://localhost:8080/",
     "height": 170
    },
    "colab_type": "code",
    "id": "wOc48syxi0Nx",
    "outputId": "0d807a12-998b-4e05-8244-7376c435440f",
    "scrolled": true
   },
   "outputs": [
    {
     "name": "stdout",
     "output_type": "stream",
     "text": [
      "For Logistic Regression: \n",
      "\t Best AUC score: 0.829\n",
      "\t Best parameters set:\n",
      "\t\tC: 1\n",
      "\t\tpenalty: 'l1'\n",
      "\n",
      "For K-Nearest Neighbor: \n",
      "\t Best AUC score: 0.846\n",
      "\t Best parameters set:\n",
      "\t\tn_neighbors: 10\n",
      "\t\tweights: 'distance'\n",
      "\n",
      "For Random Forest: \n",
      "\t Best AUC score: 0.917\n",
      "\t Best parameters set:\n",
      "\t\tn_estimators: 100\n",
      "\n",
      "For Gradient Boosting: \n",
      "\t Best AUC score: 0.923\n",
      "\t Best parameters set:\n",
      "\t\tlearning_rate: 0.1\n",
      "\t\treg_alpha: 2\n",
      "\t\treg_lambda: 1\n",
      "\n"
     ]
    }
   ],
   "source": [
    "# Possible hyperparamter options for all three models\n",
    "\n",
    "model_names = [\"Logistic Regression\", \"K-Nearest Neighbor\", \"Random Forest\", \"Gradient Boosting\"]\n",
    "\n",
    "models = [ LogisticRegression(),\n",
    "           KNeighborsClassifier(),\n",
    "           RandomForestClassifier(criterion=\"entropy\", random_state = 0),\n",
    "           XGBClassifier(random_state=0) ]\n",
    "\n",
    "params = [ {'penalty':('l1', 'l2'), 'C':(0.01, 0.1, 1, 5, 10)},\n",
    "           {'n_neighbors':[3,4,5,6,8,10], 'weights': ['uniform','distance']},\n",
    "           {'n_estimators' : [40,60,80,100]},\n",
    "           {'learning_rate': [0.01, 0.02,0.05, 0.1], 'reg_lambda': [0.1,0.5,1,2], 'reg_alpha': [0, 0.1,1,2]\n",
    "}]\n",
    "\n",
    "best_models = []\n",
    "\n",
    "for i in range(len(models)):\n",
    "    model_name, model, param = model_names[i], models[i], params[i]\n",
    "    model_grid = GridSearchCV( model, param, cv = 5, scoring='roc_auc')\n",
    "    model_grid.fit(X_train, Y_train)\n",
    "    print_grid_metrics(model_names[i], model_grid, params[i])\n",
    "    best_models.append(model_grid.best_estimator_)\n",
    "    "
   ]
  },
  {
   "cell_type": "markdown",
   "metadata": {
    "colab_type": "text",
    "id": "xxDAOrGIi0OI"
   },
   "source": [
    "### Part 3.3: Model Evaluation - Confusion Matrix (Accuracy, Precision, Recall)"
   ]
  },
  {
   "cell_type": "code",
   "execution_count": 232,
   "metadata": {
    "colab": {},
    "colab_type": "code",
    "id": "o-tP94iFi0OI"
   },
   "outputs": [],
   "source": [
    "from sklearn.metrics import confusion_matrix\n",
    "from sklearn.metrics import classification_report\n",
    "from sklearn.metrics import precision_score\n",
    "from sklearn.metrics import recall_score\n",
    "\n",
    "# calculate accuracy, precision and recall\n",
    "def compute_scores(model_name, conf_matrix):\n",
    "    \n",
    "    tn, fp, fn, tp = conf_matrix[0][0], conf_matrix[0][1], conf_matrix[1][0], conf_matrix[1][1]\n",
    "    \n",
    "    accuracy  = (tp + tn) / (tp + fp + fn + tn)\n",
    "    precision = tp / (tp + fp)\n",
    "    recall = tp / (tp + fn)\n",
    "    \n",
    "    print (\"For \" + model_name + \":\")\n",
    "    print (\"\\tAccuracy is: %0.3f\" % accuracy)\n",
    "    print (\"\\tprecision is: %0.3f\" % precision)\n",
    "    print (\"\\trecall is: %0.3f\" % recall)\n",
    "\n",
    "# print out confusion matrices\n",
    "def plot_conf_matrix(ax, model_name, conf_matrx):\n",
    "    \n",
    "    class_names = ['Not Churned','Churned']\n",
    "    compute_scores(model_name, conf_matrix)\n",
    "    \n",
    "    cax = ax.matshow(conf_matrix, interpolation='nearest',cmap = \"Reds\")\n",
    "    plt.colorbar(cax, ax=ax)\n",
    "    \n",
    "    ax.set_title(\"Confusion matrix for \" + model_name)\n",
    "    ax.set_xlabel('Predicted')\n",
    "    ax.set_ylabel('True')\n",
    "    ax.set_xticklabels([''] + class_names)\n",
    "    ax.set_yticklabels([''] + class_names)\n"
   ]
  },
  {
   "cell_type": "code",
   "execution_count": 240,
   "metadata": {
    "colab": {
     "base_uri": "https://localhost:8080/",
     "height": 695
    },
    "colab_type": "code",
    "id": "OpSGaN49i0OL",
    "outputId": "e62d4f84-feaf-4e1a-b98c-968c435e1b9d"
   },
   "outputs": [
    {
     "name": "stdout",
     "output_type": "stream",
     "text": [
      "For Logistic Regression:\n",
      "\tAccuracy is: 0.870\n",
      "\tprecision is: 0.463\n",
      "\trecall is: 0.198\n",
      "For K-Nearest Neighbor:\n",
      "\tAccuracy is: 0.902\n",
      "\tprecision is: 0.868\n",
      "\trecall is: 0.262\n",
      "For Random Forest:\n",
      "\tAccuracy is: 0.959\n",
      "\tprecision is: 0.938\n",
      "\trecall is: 0.722\n",
      "For Gradient Boosting:\n",
      "\tAccuracy is: 0.965\n",
      "\tprecision is: 0.933\n",
      "\trecall is: 0.778\n"
     ]
    },
    {
     "data": {
      "image/png": "[encoded data removed]",
      "text/plain": [
       "<Figure size 1008x720 with 8 Axes>"
      ]
     },
     "metadata": {
      "needs_background": "light"
     },
     "output_type": "display_data"
    }
   ],
   "source": [
    "%matplotlib inline\n",
    "\n",
    "# Confusion matrix, accuracy, precison and recall for all four models:\n",
    "\n",
    "fig, axes = plt.subplots(2,2, figsize=(14,10))\n",
    "axis = [ axes[0][0], axes[0][1], axes[1][0], axes[1][1] ]\n",
    "\n",
    "for i in range(len(best_models)):\n",
    "    model_name = model_names[i]\n",
    "    model = best_models[i]\n",
    "    conf_matrix = confusion_matrix(Y_test, model.predict(X_test))\n",
    "    plot_conf_matrix(axis[i], model_name, conf_matrix)\n",
    "\n",
    "#plt.tight_layout()\n",
    "plt.show()"
   ]
  },
  {
   "cell_type": "markdown",
   "metadata": {
    "colab_type": "text",
    "id": "OvHlyhPBi0OT"
   },
   "source": [
    "### Part 3.4: Model Evaluation - ROC & AUC"
   ]
  },
  {
   "cell_type": "markdown",
   "metadata": {},
   "source": [
    "#### Logistic Regression, KNN, Random Forest and XGboost all have predict_prob() function"
   ]
  },
  {
   "cell_type": "code",
   "execution_count": 254,
   "metadata": {
    "colab": {
     "base_uri": "https://localhost:8080/",
     "height": 294
    },
    "colab_type": "code",
    "id": "s3PR-PdPi0Ob",
    "outputId": "2c536e85-d92c-47ed-8250-b5a149a660df"
   },
   "outputs": [],
   "source": [
    "# define function for plotting ROC curve\n",
    "def ROC_curve(model_name, ax, fpr, tpr):\n",
    "    ax.plot([0, 1], [0, 1], 'k--')\n",
    "    ax.plot(fpr, tpr, label = model_name)\n",
    "    ax.set_xlabel('False positive rate')\n",
    "    ax.set_ylabel('True positive rate')\n",
    "    ax.set_title('ROC curve - ' + model_name)\n",
    "    ax.legend(loc='best')\n",
    "    return"
   ]
  },
  {
   "cell_type": "code",
   "execution_count": 259,
   "metadata": {
    "colab": {},
    "colab_type": "code",
    "id": "UypvQMVBi0OY"
   },
   "outputs": [
    {
     "name": "stdout",
     "output_type": "stream",
     "text": [
      "AUC for Logistic Regression:  0.8128745777487196\n",
      "AUC for K-Nearest Neighbor:  0.8277305582797574\n",
      "AUC for Random Forest:  0.9194816752024991\n",
      "AUC for Gradient Boosting:  0.9322945043768842\n"
     ]
    },
    {
     "data": {
      "image/png": "[encoded data removed]",
      "text/plain": [
       "<Figure size 864x648 with 4 Axes>"
      ]
     },
     "metadata": {
      "needs_background": "light"
     },
     "output_type": "display_data"
    }
   ],
   "source": [
    "from sklearn.metrics import roc_curve\n",
    "from sklearn import metrics\n",
    "\n",
    "fig, axes = plt.subplots(2,2, figsize=(12,9))\n",
    "axis = [ axes[0][0], axes[0][1], axes[1][0], axes[1][1] ]\n",
    "\n",
    "# Use predict_proba to get the probability of sample being positive:\n",
    "for i in range(len(best_models)):\n",
    "    \n",
    "    model_name = model_names[i]\n",
    "    model = best_models[i]\n",
    "    \n",
    "    ## compute the probability of sample being positive:\n",
    "    pred_prob = model.predict_proba(X_test)[:, 1]\n",
    "    \n",
    "    ## compute false-positive rate, true-positive rate:\n",
    "    fpr, tpr, _ = roc_curve(Y_test, pred_prob)\n",
    "    \n",
    "    ## compute AUC:\n",
    "    print(\"AUC for \" + model_name + \": \", metrics.auc(fpr, tpr))\n",
    "    \n",
    "    ## plot ROC curve:\n",
    "    ROC_curve(model_name, axis[i], fpr, tpr)\n",
    "\n",
    "plt.tight_layout()"
   ]
  },
  {
   "cell_type": "markdown",
   "metadata": {},
   "source": [
    "### Part 3.5: Threshold affects the model !\n",
    "####In the following part, we will determine the optimal threshold for Random Forest and Gradient Boosting."
   ]
  },
  {
   "cell_type": "code",
   "execution_count": 281,
   "metadata": {},
   "outputs": [
    {
     "data": {
      "image/png": "[encoded data removed]",
      "text/plain": [
       "<Figure size 720x288 with 2 Axes>"
      ]
     },
     "metadata": {
      "needs_background": "light"
     },
     "output_type": "display_data"
    }
   ],
   "source": [
    "models = [best_models[2], best_models[3]]\n",
    "model_names = [\"Random Forest\", \"Gradient Boosting\"]\n",
    "\n",
    "fig, axes = plt.subplots(1,2, figsize=(10,4))\n",
    "\n",
    "# define function for plotting curve:\n",
    "def plot_curve(model_name, ax, x, name_y1, y1, name_y2, y2, name_y3, y3):\n",
    "    ax.plot(x, y1, lw = 2, label = name_y1)\n",
    "    ax.plot(x, y2, lw = 2, label = name_y2 )\n",
    "    ax.plot(x, y3, lw = 2, label = name_y3)\n",
    "    ax.set_xlabel('Model threshold')\n",
    "    ax.set_ylabel('Model score')\n",
    "    ax.set_title('Model score vs threshold for ' + model_name)\n",
    "    ax.legend(loc='lower center')\n",
    "    ax.set_xlim([-0.05, 1.05])\n",
    "    return\n",
    "\n",
    "for i in range(len(models)):\n",
    "    ## pick up models and model names:\n",
    "    model, model_name = models[i], model_names[i]\n",
    "    ## initialize accuracy, precision and recall:\n",
    "    accuracy, precision, recall = [], [], []\n",
    "    ## compute probability of positive case:\n",
    "    pred_prob = model.predict_proba(X_test)[:, 1]\n",
    "    ## compute fpr, tpr and threshold:\n",
    "    fpr, tpr, thresh = roc_curve(Y_test, pred_prob)\n",
    "    for j in range(len(thresh)):\n",
    "        accuracy.append(   accuracy_score(Y_test, pred_prob >= thresh[j]) )\n",
    "        precision.append( precision_score(Y_test, pred_prob >= thresh[j]) )\n",
    "        recall.append(       recall_score(Y_test, pred_prob >= thresh[j]) )\n",
    "    \n",
    "    accuracy, precision, recall = np.asarray(accuracy), np.asarray(precision), np.asarray(recall)\n",
    "    plot_curve( model_name, axes[i], thresh[1:],\\\n",
    "                \"Accucary\", accuracy[1:],\\\n",
    "                \"Precision\", precision[1:],\\\n",
    "                \"Recall\", recall[1:] )\n",
    "\n",
    "plt.tight_layout()\n",
    "plt.show()\n"
   ]
  },
  {
   "cell_type": "markdown",
   "metadata": {
    "colab_type": "text",
    "id": "gHHurD8Ii0Oq"
   },
   "source": [
    "# Part 4: Feature Selection"
   ]
  },
  {
   "cell_type": "code",
   "execution_count": 261,
   "metadata": {},
   "outputs": [],
   "source": [
    "columns = ['account_length','number_vmail_messages',\n",
    "           'total_day_minutes','total_day_calls', 'total_day_charge',\n",
    "           'total_eve_minutes','total_eve_calls', 'total_eve_charge',\n",
    "           'total_night_minutes', 'total_night_calls', 'total_night_charge',\n",
    "           'total_intl_minutes', 'total_intl_calls', 'total_intl_charge',\n",
    "           'number_customer_service_calls']"
   ]
  },
  {
   "cell_type": "markdown",
   "metadata": {
    "colab_type": "text",
    "id": "uqs41ydLi0O_"
   },
   "source": [
    "### Part 4.1:  Random Forest Model - Feature Importance Discussion"
   ]
  },
  {
   "cell_type": "code",
   "execution_count": 267,
   "metadata": {
    "colab": {
     "base_uri": "https://localhost:8080/",
     "height": 323
    },
    "colab_type": "code",
    "id": "MPxUM2lei0PA",
    "outputId": "f528803b-5200-450e-e5df-97d4c4b3dff4"
   },
   "outputs": [
    {
     "name": "stdout",
     "output_type": "stream",
     "text": [
      "Feature importance ranking from Random Forest Model:\n",
      "total_day_charge: 0.1229\n",
      "total_day_minutes: 0.1182\n",
      "number_customer_service_calls: 0.11\n",
      "total_eve_minutes: 0.0578\n",
      "total_eve_charge: 0.054\n",
      "total_intl_calls: 0.0459\n",
      "total_intl_charge: 0.0413\n",
      "total_night_minutes: 0.041\n",
      "total_intl_minutes: 0.0402\n",
      "total_night_charge: 0.0392\n",
      "account_length: 0.0318\n",
      "total_day_calls: 0.0311\n",
      "total_night_calls: 0.0307\n",
      "total_eve_calls: 0.0296\n",
      "number_vmail_messages: 0.0198\n"
     ]
    }
   ],
   "source": [
    "# check feature importance of random forest:\n",
    "\n",
    "rf_model = best_models[2]## random forest is the 3rd model\n",
    "\n",
    "importances = rf_model.feature_importances_\n",
    "\n",
    "# Print the feature ranking\n",
    "print(\"Feature importance ranking from Random Forest Model:\")\n",
    "for k,v in sorted(zip(map(lambda x: round(x, 4), importances), X_train.columns), reverse=True):\n",
    "    if \"state\" in v or \"area\" in v or \"plan\" in v:\n",
    "        continue\n",
    "    print (v + \": \" + str(k))"
   ]
  }
 ],
 "metadata": {
  "colab": {
   "collapsed_sections": [],
   "name": "Supervised Learning Project.ipynb",
   "provenance": [],
   "toc_visible": true,
   "version": "0.3.2"
  },
  "kernelspec": {
   "display_name": "Python 3",
   "language": "python",
   "name": "python3"
  },
  "language_info": {
   "codemirror_mode": {
    "name": "ipython",
    "version": 3
   },
   "file_extension": ".py",
   "mimetype": "text/x-python",
   "name": "python",
   "nbconvert_exporter": "python",
   "pygments_lexer": "ipython3",
   "version": "3.7.3"
  }
 },
 "nbformat": 4,
 "nbformat_minor": 1
}
